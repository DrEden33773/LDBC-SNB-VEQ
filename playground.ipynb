{
 "cells": [
  {
   "cell_type": "code",
   "execution_count": 1,
   "metadata": {},
   "outputs": [
    {
     "data": {
      "text/plain": [
       "3"
      ]
     },
     "execution_count": 1,
     "metadata": {},
     "output_type": "execute_result"
    }
   ],
   "source": [
    "a = {\"1\": 1, \"2\": 2, \"3\": 3}\n",
    "len(a)"
   ]
  },
  {
   "cell_type": "code",
   "execution_count": 5,
   "metadata": {},
   "outputs": [],
   "source": [
    "import os\n",
    "\n",
    "if not os.path.exists(\"./temp/directory\"):\n",
    "    os.makedirs(\"./temp/directory\")"
   ]
  },
  {
   "cell_type": "code",
   "execution_count": 6,
   "metadata": {},
   "outputs": [
    {
     "name": "stdout",
     "output_type": "stream",
     "text": [
      "total 292\n",
      "drwxrwxrwx 1 eden eden    512 Feb 22 04:03 .\n",
      "drwxrwxrwx 1 eden eden    512 Feb 21 14:45 ..\n",
      "-rwxrwxrwx 1 eden eden    159 Feb 22 01:31 CHANGELOG.md\n",
      "drwxrwxrwx 1 eden eden    512 Feb 21 22:05 data\n",
      "drwxrwxrwx 1 eden eden    512 Feb 22 03:35 doc\n",
      "-rwxrwxrwx 1 eden eden      6 Feb 22 03:57 .gitignore\n",
      "drwxrwxrwx 1 eden eden    512 Feb 22 02:57 log\n",
      "-rwxrwxrwx 1 eden eden  23228 Feb 22 04:02 notebook.ipynb\n",
      "drwxrwxrwx 1 eden eden    512 Feb 22 00:03 out\n",
      "-rwxrwxrwx 1 eden eden   2741 Feb 22 04:03 playground.ipynb\n",
      "-rwxrwxrwx 1 eden eden    128 Feb 22 03:57 README.md\n",
      "-rwxrwxrwx 1 eden eden     27 Feb 21 21:27 requirements.txt\n",
      "drwxrwxrwx 1 eden eden    512 Feb 22 04:03 temp\n",
      "-rwxrwxrwx 1 eden eden 140056 Feb 20 14:05 VEQ_M_100k\n",
      "-rwxrwxrwx 1 eden eden 124208 Feb 20 14:05 VEQ_S\n",
      "drwxrwxrwx 1 eden eden    512 Feb 21 21:18 .vscode\n"
     ]
    }
   ],
   "source": [
    "import platform\n",
    "import subprocess\n",
    "\n",
    "possible_prefix = [\"wsl\"] if platform.system() == \"Windows\" else []\n",
    "\n",
    "args = possible_prefix + [\"ls\", \"-la\"]\n",
    "playground_log = \"./temp/playground.log\"\n",
    "\n",
    "with open(playground_log, \"w\") as f:\n",
    "    p = subprocess.Popen(args, stdout=subprocess.PIPE, stderr=subprocess.PIPE)\n",
    "    if p.stdout:\n",
    "        for line in iter(p.stdout.readline, b\"\"):\n",
    "            content = line.decode(\"utf-8\")\n",
    "            print(content, end=\"\")\n",
    "            f.write(content)"
   ]
  }
 ],
 "metadata": {
  "kernelspec": {
   "display_name": "base",
   "language": "python",
   "name": "python3"
  },
  "language_info": {
   "codemirror_mode": {
    "name": "ipython",
    "version": 3
   },
   "file_extension": ".py",
   "mimetype": "text/x-python",
   "name": "python",
   "nbconvert_exporter": "python",
   "pygments_lexer": "ipython3",
   "version": "3.11.4"
  }
 },
 "nbformat": 4,
 "nbformat_minor": 2
}
