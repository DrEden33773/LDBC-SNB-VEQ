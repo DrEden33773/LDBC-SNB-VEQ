{
 "cells": [
  {
   "cell_type": "markdown",
   "metadata": {},
   "source": [
    "# BI 9\n"
   ]
  },
  {
   "cell_type": "code",
   "execution_count": 1,
   "metadata": {},
   "outputs": [],
   "source": [
    "from dg_builder import *"
   ]
  },
  {
   "cell_type": "markdown",
   "metadata": {},
   "source": [
    "- original\n",
    "\n",
    "> comment-[replyof]->post-[hasCreator]->person\n",
    "\n",
    "- indexed\n",
    "\n",
    "> comment-[#index]->person\n"
   ]
  },
  {
   "cell_type": "code",
   "execution_count": 2,
   "metadata": {},
   "outputs": [
    {
     "name": "stdout",
     "output_type": "stream",
     "text": [
      "File `./out/optimized/BI_9/data_graph.txt` & `./out/original/data_graph.txt` already exists\n"
     ]
    }
   ],
   "source": [
    "\"\"\" build `original data graph` \"\"\"\n",
    "\n",
    "build_original_dg(original_dg_filepath=BI_9_DG, optimized_dg_filepath=BI_9_DG_OPTIMIZED)"
   ]
  },
  {
   "cell_type": "code",
   "execution_count": 3,
   "metadata": {},
   "outputs": [
    {
     "name": "stdout",
     "output_type": "stream",
     "text": [
      "File `./out/optimized/BI_9/data_graph.txt` already exists\n"
     ]
    }
   ],
   "source": [
    "\"\"\" build `optimized data graph` \"\"\"\n",
    "\n",
    "index_csv_filenames = [\"comment_post_person\"]\n",
    "\n",
    "build_optimized_dg(\n",
    "    optimized_dg_filepath=BI_9_DG_OPTIMIZED,\n",
    "    index_csv_filenames=index_csv_filenames,\n",
    ")"
   ]
  },
  {
   "cell_type": "markdown",
   "metadata": {},
   "source": [
    "## Original\n"
   ]
  },
  {
   "cell_type": "code",
   "execution_count": 4,
   "metadata": {},
   "outputs": [
    {
     "data": {
      "text/plain": [
       "QueryBuilder {\n",
       "    edges: [(0, 1), (1, 2)],\n",
       "    labels: ['comment', 'post', 'person'],\n",
       "    raw_task_names: [['comment-post-person']],\n",
       "    QG_PRE: ./out/original/BI_9,\n",
       "    LOG_PRE: ./log/original/BI_9,\n",
       "    args_starting: ['wsl', './VEQ_M_100k', '-dg', './out/original/data_graph.txt', '-qg'],\n",
       "    replace_indices: [],\n",
       "    replace_wrapper: <function QueryBuilder.<lambda> at 0x00000237547F9120>,\n",
       "    kwargs: {'comment-post-person': QGMetaRecord(labels=['comment', 'post', 'person'], edges=[(0, 1), (1, 2)])},\n",
       "}"
      ]
     },
     "execution_count": 4,
     "metadata": {},
     "output_type": "execute_result"
    }
   ],
   "source": [
    "\"\"\" labels & edges \"\"\"\n",
    "\n",
    "edges = [(0, 1), (1, 2)]\n",
    "labels_template = [\"comment\", \"post\", \"person\"]\n",
    "task_names = [[\"comment-post-person\"]]\n",
    "\n",
    "original_builder = QueryBuilder(\n",
    "    edges=edges,\n",
    "    labels=labels_template,\n",
    "    raw_task_names=task_names,\n",
    "    QG_PRE=BI_9_ORIGINAL_Q_PRE,\n",
    "    LOG_PRE=BI_9_ORIGINAL_L_PRE,\n",
    "    args_starting=bi_9_original_args_starting,\n",
    "    kwargs={},\n",
    ")\n",
    "\n",
    "original_builder.build()"
   ]
  },
  {
   "cell_type": "code",
   "execution_count": 5,
   "metadata": {},
   "outputs": [
    {
     "name": "stdout",
     "output_type": "stream",
     "text": [
      "File `./log/original/BI_9/comment-post-person.txt` already exists\n",
      "    lines[-2] ~> Processing Time (ms): 5042.2\n",
      "    lines[-1] ~> Outer Elapsed Time (ms): 27106.3615\n",
      "\n"
     ]
    }
   ],
   "source": [
    "\"\"\" exec \"\"\"\n",
    "\n",
    "time_table, outer_time_table = original_builder.run_with_elapsed_time_table_ret()\n",
    "assert len(time_table) == 1 and len(outer_time_table) == 1"
   ]
  },
  {
   "cell_type": "markdown",
   "metadata": {},
   "source": [
    "## Optimized\n"
   ]
  },
  {
   "cell_type": "code",
   "execution_count": 6,
   "metadata": {},
   "outputs": [
    {
     "data": {
      "text/plain": [
       "QueryBuilder {\n",
       "    edges: [(0, 1)],\n",
       "    labels: ['comment', 'person'],\n",
       "    raw_task_names: [['comment-person']],\n",
       "    QG_PRE: ./out/optimized/BI_9,\n",
       "    LOG_PRE: ./log/optimized/BI_9,\n",
       "    args_starting: ['wsl', './VEQ_M_100k', '-dg', './out/optimized/BI_9/data_graph.txt', '-qg'],\n",
       "    replace_indices: [],\n",
       "    replace_wrapper: <function QueryBuilder.<lambda> at 0x00000237547F9120>,\n",
       "    kwargs: {'comment-person': QGMetaRecord(labels=['comment', 'person'], edges=[(0, 1)])},\n",
       "}"
      ]
     },
     "execution_count": 6,
     "metadata": {},
     "output_type": "execute_result"
    }
   ],
   "source": [
    "\"\"\" labels & edges \"\"\"\n",
    "\n",
    "edges_optimized: list[tuple[int, int]] = [(0, 1)]\n",
    "labels_template_optimized = [\"comment\", \"person\"]\n",
    "task_names_optimized = [[\"comment-person\"]]\n",
    "\n",
    "optimized_builder = QueryBuilder(\n",
    "    edges=edges_optimized,\n",
    "    labels=labels_template_optimized,\n",
    "    raw_task_names=task_names_optimized,\n",
    "    QG_PRE=BI_9_OPTIMIZED_Q_PRE,\n",
    "    LOG_PRE=BI_9_OPTIMIZED_L_PRE,\n",
    "    args_starting=bi_9_optimized_args_starting,\n",
    "    kwargs={},\n",
    ")\n",
    "\n",
    "optimized_builder.build()"
   ]
  },
  {
   "cell_type": "code",
   "execution_count": 7,
   "metadata": {},
   "outputs": [
    {
     "name": "stdout",
     "output_type": "stream",
     "text": [
      "File `./log/optimized/BI_9/comment-person.txt` already exists\n",
      "    lines[-2] ~> Sum of |C(u)|: 2061775\n",
      "    lines[-1] ~> Outer Elapsed Time (ms): 20038.9222\n",
      "\n"
     ]
    }
   ],
   "source": [
    "\"\"\" exec \"\"\"\n",
    "\n",
    "time_table_optimized, outer_time_table_optimized = (\n",
    "    optimized_builder.run_with_elapsed_time_table_ret()\n",
    ")\n",
    "assert len(time_table_optimized) == 1 and len(outer_time_table_optimized) == 1"
   ]
  },
  {
   "cell_type": "code",
   "execution_count": 8,
   "metadata": {},
   "outputs": [
    {
     "name": "stdout",
     "output_type": "stream",
     "text": [
      "Comparison between: `original_match` & `optimized_match`\n"
     ]
    },
    {
     "data": {
      "text/html": [
       "<div><style>\n",
       ".dataframe > thead > tr,\n",
       ".dataframe > tbody > tr {\n",
       "  text-align: right;\n",
       "  white-space: pre-wrap;\n",
       "}\n",
       "</style>\n",
       "<small>shape: (1, 5)</small><table border=\"1\" class=\"dataframe\"><thead><tr><th>task</th><th>original (ms)</th><th>optimized (ms)</th><th>original outer (ms)</th><th>optimized outer (ms)</th></tr><tr><td>list[str]</td><td>f64</td><td>f64</td><td>f64</td><td>f64</td></tr></thead><tbody><tr><td>[&quot;comment-post-person&quot;]</td><td>5042.2</td><td>NaN</td><td>27106.3615</td><td>20038.9222</td></tr></tbody></table></div>"
      ],
      "text/plain": [
       "shape: (1, 5)\n",
       "┌─────────────────────────┬───────────────┬────────────────┬─────────────────────┬─────────────────┐\n",
       "│ task                    ┆ original (ms) ┆ optimized (ms) ┆ original outer (ms) ┆ optimized outer │\n",
       "│ ---                     ┆ ---           ┆ ---            ┆ ---                 ┆ (ms)            │\n",
       "│ list[str]               ┆ f64           ┆ f64            ┆ f64                 ┆ ---             │\n",
       "│                         ┆               ┆                ┆                     ┆ f64             │\n",
       "╞═════════════════════════╪═══════════════╪════════════════╪═════════════════════╪═════════════════╡\n",
       "│ [\"comment-post-person\"] ┆ 5042.2        ┆ NaN            ┆ 27106.3615          ┆ 20038.9222      │\n",
       "└─────────────────────────┴───────────────┴────────────────┴─────────────────────┴─────────────────┘"
      ]
     },
     "execution_count": 8,
     "metadata": {},
     "output_type": "execute_result"
    }
   ],
   "source": [
    "\"\"\" Show `comparison data-frame` \"\"\"\n",
    "\n",
    "print(\"Comparison between: `original_match` & `optimized_match`\")\n",
    "\n",
    "df = pl.DataFrame(\n",
    "    {\n",
    "        \"task\": task_names,\n",
    "        \"original (ms)\": time_table,\n",
    "        \"optimized (ms)\": time_table_optimized,\n",
    "        \"original outer (ms)\": outer_time_table,\n",
    "        \"optimized outer (ms)\": outer_time_table_optimized,\n",
    "    }\n",
    ")\n",
    "df"
   ]
  }
 ],
 "metadata": {
  "kernelspec": {
   "display_name": "base",
   "language": "python",
   "name": "python3"
  },
  "language_info": {
   "codemirror_mode": {
    "name": "ipython",
    "version": 3
   },
   "file_extension": ".py",
   "mimetype": "text/x-python",
   "name": "python",
   "nbconvert_exporter": "python",
   "pygments_lexer": "ipython3",
   "version": "3.11.4"
  }
 },
 "nbformat": 4,
 "nbformat_minor": 2
}
