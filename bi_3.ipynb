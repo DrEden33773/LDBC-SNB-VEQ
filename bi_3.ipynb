{
 "cells": [
  {
   "cell_type": "markdown",
   "metadata": {},
   "source": [
    "# BI 3\n"
   ]
  },
  {
   "cell_type": "code",
   "execution_count": 1,
   "metadata": {},
   "outputs": [],
   "source": [
    "from dg_builder import *"
   ]
  },
  {
   "cell_type": "code",
   "execution_count": 2,
   "metadata": {},
   "outputs": [
    {
     "name": "stdout",
     "output_type": "stream",
     "text": [
      "File `./out/optimized/BI_3/data_graph.txt` & `./out/original/data_graph.txt` already exists\n"
     ]
    }
   ],
   "source": [
    "\"\"\" build `original data graph` \"\"\"\n",
    "\n",
    "build_original_dg(original_dg_filepath=BI_3_DG, optimized_dg_filepath=BI_3_DG_OPTIMIZED)"
   ]
  },
  {
   "cell_type": "code",
   "execution_count": 3,
   "metadata": {},
   "outputs": [
    {
     "name": "stdout",
     "output_type": "stream",
     "text": [
      "File `./out/optimized/BI_3/data_graph.txt` already exists\n"
     ]
    }
   ],
   "source": [
    "\"\"\" build `optimized data graph` \"\"\"\n",
    "\n",
    "index_csv_filenames = [\"forum_person_city_country\"]\n",
    "\n",
    "build_optimized_dg(\n",
    "    optimized_dg_filepath=BI_3_DG_OPTIMIZED,\n",
    "    index_csv_filenames=index_csv_filenames,\n",
    ")"
   ]
  },
  {
   "cell_type": "markdown",
   "metadata": {},
   "source": [
    "## Original\n"
   ]
  },
  {
   "cell_type": "code",
   "execution_count": 4,
   "metadata": {},
   "outputs": [
    {
     "data": {
      "text/plain": [
       "QueryBuilder {\n",
       "    edges: [(0, 1), (1, 2), (2, 3), (3, 4), (4, 5), (5, 6), (6, 7)],\n",
       "    labels: ['country', 'city', 'person', 'forum', 'post', 'comment', 'tag', 'tagclass'],\n",
       "    raw_task_names: [['bi_3_query']],\n",
       "    QG_PRE: ./out/original/BI_3,\n",
       "    LOG_PRE: ./log/original/BI_3,\n",
       "    args_starting: ['wsl', './VEQ_M_100k', '-dg', './out/original/data_graph.txt', '-qg'],\n",
       "    replace_indices: [],\n",
       "    replace_wrapper: <function QueryBuilder.<lambda> at 0x0000021B4C931120>,\n",
       "    kwargs: {'bi_3_query': QGMetaRecord(labels=['country', 'city', 'person', 'forum', 'post', 'comment', 'tag', 'tagclass'], edges=[(0, 1), (1, 2), (2, 3), (3, 4), (4, 5), (5, 6), (6, 7)])},\n",
       "}"
      ]
     },
     "execution_count": 4,
     "metadata": {},
     "output_type": "execute_result"
    }
   ],
   "source": [
    "edges = [(0, 1), (1, 2), (2, 3), (3, 4), (4, 5), (5, 6), (6, 7)]\n",
    "labels_template = [\n",
    "    \"country\",\n",
    "    \"city\",\n",
    "    \"person\",\n",
    "    \"forum\",\n",
    "    \"post\",\n",
    "    \"comment\",\n",
    "    \"tag\",\n",
    "    \"tagclass\",\n",
    "]\n",
    "task_names = [[\"bi_3_query\"]]\n",
    "\n",
    "original_builder = QueryBuilder(\n",
    "    edges=edges,\n",
    "    labels=labels_template,\n",
    "    raw_task_names=task_names,\n",
    "    QG_PRE=BI_3_ORIGINAL_Q_PRE,\n",
    "    LOG_PRE=BI_3_ORIGINAL_L_PRE,\n",
    "    args_starting=bi_3_original_args_starting,\n",
    "    kwargs={},\n",
    ")\n",
    "\n",
    "original_builder.build()"
   ]
  },
  {
   "cell_type": "code",
   "execution_count": 5,
   "metadata": {},
   "outputs": [
    {
     "name": "stdout",
     "output_type": "stream",
     "text": [
      ">>> Running: bi_3_query...\n",
      "    Data file: ./out/original/data_graph.txt\n",
      "    Query file: ./out/original/BI_3/bi_3_query.txt\n",
      "    Output file: \n",
      "    Sum of |C(u)|: 536384\n",
      "    Total Recursive Call Count: 103854\n",
      "    Number of Matches: 100000\n",
      "    Filtering Time (ms): 2205\n",
      "    Verification Time (ms): 28173.5\n",
      "    Processing Time (ms): 30378.5\n",
      "<<< Done! (Outer Elapsed Time: 49121.8554 ms)\n"
     ]
    }
   ],
   "source": [
    "\"\"\" exec \"\"\"\n",
    "\n",
    "time_table, outer_time_table = original_builder.run_with_elapsed_time_table_ret()\n",
    "assert len(time_table) == 1 and len(outer_time_table) == 1"
   ]
  },
  {
   "cell_type": "markdown",
   "metadata": {},
   "source": [
    "## Optimized\n"
   ]
  },
  {
   "cell_type": "code",
   "execution_count": 6,
   "metadata": {},
   "outputs": [
    {
     "data": {
      "text/plain": [
       "QueryBuilder {\n",
       "    edges: [(0, 1), (1, 2), (2, 3), (3, 4), (4, 5)],\n",
       "    labels: ['country', 'forum', 'post', 'comment', 'tag', 'tagclass'],\n",
       "    raw_task_names: [['bi_3_query']],\n",
       "    QG_PRE: ./out/optimized/BI_3,\n",
       "    LOG_PRE: ./log/optimized/BI_3,\n",
       "    args_starting: ['wsl', './VEQ_M_100k', '-dg', './out/optimized/BI_3/data_graph.txt', '-qg'],\n",
       "    replace_indices: [],\n",
       "    replace_wrapper: <function QueryBuilder.<lambda> at 0x0000021B4C931120>,\n",
       "    kwargs: {'bi_3_query': QGMetaRecord(labels=['country', 'forum', 'post', 'comment', 'tag', 'tagclass'], edges=[(0, 1), (1, 2), (2, 3), (3, 4), (4, 5)])},\n",
       "}"
      ]
     },
     "execution_count": 6,
     "metadata": {},
     "output_type": "execute_result"
    }
   ],
   "source": [
    "\"\"\" labels & edges \"\"\"\n",
    "\n",
    "edges_optimized = [(0, 1), (1, 2), (2, 3), (3, 4), (4, 5)]\n",
    "labels_template_optimized = [\n",
    "    \"country\",\n",
    "    \"forum\",\n",
    "    \"post\",\n",
    "    \"comment\",\n",
    "    \"tag\",\n",
    "    \"tagclass\",\n",
    "]\n",
    "\n",
    "optimized_builder = QueryBuilder(\n",
    "    edges=edges_optimized,\n",
    "    labels=labels_template_optimized,\n",
    "    raw_task_names=task_names,\n",
    "    QG_PRE=BI_3_OPTIMIZED_Q_PRE,\n",
    "    LOG_PRE=BI_3_OPTIMIZED_L_PRE,\n",
    "    args_starting=bi_3_optimized_args_starting,\n",
    "    kwargs={},\n",
    ")\n",
    "\n",
    "optimized_builder.build()"
   ]
  },
  {
   "cell_type": "code",
   "execution_count": 7,
   "metadata": {},
   "outputs": [
    {
     "name": "stdout",
     "output_type": "stream",
     "text": [
      ">>> Running: bi_3_query...\n",
      "    Data file: ./out/optimized/BI_3/data_graph.txt\n",
      "    Query file: ./out/optimized/BI_3/bi_3_query.txt\n",
      "    Output file: \n",
      "    Sum of |C(u)|: 318926\n",
      "    Total Recursive Call Count: 200494\n",
      "    Number of Matches: 100000\n",
      "    Filtering Time (ms): 1434.08\n",
      "    Verification Time (ms): 32297.5\n",
      "    Processing Time (ms): 33731.5\n",
      "<<< Done! (Outer Elapsed Time: 51257.1005 ms)\n"
     ]
    }
   ],
   "source": [
    "\"\"\" exec \"\"\"\n",
    "\n",
    "time_table_optimized, outer_time_table_optimized = (\n",
    "    optimized_builder.run_with_elapsed_time_table_ret()\n",
    ")\n",
    "assert len(time_table_optimized) == 1 and len(outer_time_table_optimized) == 1"
   ]
  },
  {
   "cell_type": "code",
   "execution_count": 8,
   "metadata": {},
   "outputs": [
    {
     "name": "stdout",
     "output_type": "stream",
     "text": [
      "Comparison between: `original_match` & `optimized_match`\n"
     ]
    },
    {
     "data": {
      "text/html": [
       "<div><style>\n",
       ".dataframe > thead > tr,\n",
       ".dataframe > tbody > tr {\n",
       "  text-align: right;\n",
       "  white-space: pre-wrap;\n",
       "}\n",
       "</style>\n",
       "<small>shape: (1, 5)</small><table border=\"1\" class=\"dataframe\"><thead><tr><th>task</th><th>original (ms)</th><th>optimized (ms)</th><th>original outer (ms)</th><th>optimized outer (ms)</th></tr><tr><td>list[str]</td><td>f64</td><td>f64</td><td>f64</td><td>f64</td></tr></thead><tbody><tr><td>[&quot;bi_3_query&quot;]</td><td>30378.5</td><td>33731.5</td><td>49121.8554</td><td>51257.1005</td></tr></tbody></table></div>"
      ],
      "text/plain": [
       "shape: (1, 5)\n",
       "┌────────────────┬───────────────┬────────────────┬─────────────────────┬──────────────────────┐\n",
       "│ task           ┆ original (ms) ┆ optimized (ms) ┆ original outer (ms) ┆ optimized outer (ms) │\n",
       "│ ---            ┆ ---           ┆ ---            ┆ ---                 ┆ ---                  │\n",
       "│ list[str]      ┆ f64           ┆ f64            ┆ f64                 ┆ f64                  │\n",
       "╞════════════════╪═══════════════╪════════════════╪═════════════════════╪══════════════════════╡\n",
       "│ [\"bi_3_query\"] ┆ 30378.5       ┆ 33731.5        ┆ 49121.8554          ┆ 51257.1005           │\n",
       "└────────────────┴───────────────┴────────────────┴─────────────────────┴──────────────────────┘"
      ]
     },
     "execution_count": 8,
     "metadata": {},
     "output_type": "execute_result"
    }
   ],
   "source": [
    "\"\"\" Show `comparison data-frame` \"\"\"\n",
    "\n",
    "print(\"Comparison between: `original_match` & `optimized_match`\")\n",
    "\n",
    "df = pl.DataFrame(\n",
    "    {\n",
    "        \"task\": task_names,\n",
    "        \"original (ms)\": time_table,\n",
    "        \"optimized (ms)\": time_table_optimized,\n",
    "        \"original outer (ms)\": outer_time_table,\n",
    "        \"optimized outer (ms)\": outer_time_table_optimized,\n",
    "    }\n",
    ")\n",
    "df"
   ]
  }
 ],
 "metadata": {
  "kernelspec": {
   "display_name": "base",
   "language": "python",
   "name": "python3"
  },
  "language_info": {
   "codemirror_mode": {
    "name": "ipython",
    "version": 3
   },
   "file_extension": ".py",
   "mimetype": "text/x-python",
   "name": "python",
   "nbconvert_exporter": "python",
   "pygments_lexer": "ipython3",
   "version": "3.11.4"
  }
 },
 "nbformat": 4,
 "nbformat_minor": 2
}
