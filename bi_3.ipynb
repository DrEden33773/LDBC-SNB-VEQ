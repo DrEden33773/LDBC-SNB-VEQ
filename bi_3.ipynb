{
 "cells": [
  {
   "cell_type": "markdown",
   "metadata": {},
   "source": [
    "# BI 3\n"
   ]
  },
  {
   "cell_type": "code",
   "execution_count": null,
   "metadata": {},
   "outputs": [],
   "source": [
    "from prelude import *"
   ]
  },
  {
   "cell_type": "markdown",
   "metadata": {},
   "source": [
    "## Original\n"
   ]
  },
  {
   "cell_type": "code",
   "execution_count": null,
   "metadata": {},
   "outputs": [],
   "source": [
    "from dataclasses import dataclass\n",
    "\n",
    "BI_3_ORIGINAL_Q_PRE = f\"{ORIGINAL_QUERY_PREFIX}/BI_3\"\n",
    "if not os.path.exists(BI_3_ORIGINAL_Q_PRE):\n",
    "    os.makedirs(BI_3_ORIGINAL_Q_PRE)\n",
    "\n",
    "BI_3_OPTIMIZED_Q_PRE = f\"{OPTIMIZED_QUERY_PREFIX}/BI_3\"\n",
    "if not os.path.exists(BI_3_OPTIMIZED_Q_PRE):\n",
    "    os.makedirs(BI_3_OPTIMIZED_Q_PRE)\n",
    "\n",
    "\n",
    "@dataclass\n",
    "class OriginalBI3:\n",
    "    dirname = \"BI_3\"\n",
    "    labels = [\n",
    "        BaseLabel.Country + \"China\",\n",
    "        \"city\",\n",
    "        \"person\",\n",
    "        \"forum\",\n",
    "        \"post\",\n",
    "        \"comment\",\n",
    "        \"tag\",\n",
    "        \"tagclass\",\n",
    "    ]\n",
    "    edges = [(0, 1), (1, 2), (2, 3), (3, 4), (4, 5), (5, 6), (6, 7)]\n",
    "    task_name = \"original_china_bi3\"\n",
    "    query_graph_name = \"original_china_bi3_query_graph.txt\"\n",
    "    log_name = \"original_china_bi3_result.txt\"\n",
    "    time_table = list[float]()\n",
    "    args = wsl_if_on_windows + [\n",
    "        \"./VEQ_M_100k\",\n",
    "        \"-dg\",\n",
    "        BI_11_DG,\n",
    "        \"-qg\",\n",
    "        f\"{BI_3_ORIGINAL_Q_PRE}/{query_graph_name}\",\n",
    "    ]\n",
    "\n",
    "    def build_query_graph(self):\n",
    "        query_prefix = BI_3_ORIGINAL_Q_PRE\n",
    "        if not os.path.exists(f\"{query_prefix}/{self.query_graph_name}\"):\n",
    "            with open(f\"{query_prefix}/{self.query_graph_name}\", \"w\") as f:\n",
    "                f.write(\"#0\\n\")\n",
    "                f.write(f\"{len(self.labels)}\\n\")\n",
    "                [f.write(f\"{label}\\n\") for label in self.labels]\n",
    "                f.write(f\"{len(self.edges)}\\n\")\n",
    "                [f.write(f\"{src} {dst}\\n\") for src, dst in self.edges]\n",
    "\n",
    "    def run_query(self):\n",
    "        log_prefix = f\"{ORIGINAL_LOG_PREFIX}/{self.dirname}\"\n",
    "        if not os.path.exists(log_prefix):\n",
    "            os.makedirs(log_prefix)\n",
    "        run_veq_m_100k(\n",
    "            f\"{log_prefix}/{self.log_name}\",\n",
    "            self.task_name,\n",
    "            self.args,\n",
    "            self.time_table,\n",
    "        )\n",
    "\n",
    "\n",
    "original_query_proc = OriginalBI3()"
   ]
  },
  {
   "cell_type": "code",
   "execution_count": null,
   "metadata": {},
   "outputs": [],
   "source": [
    "\"\"\" Build `query graph` \"\"\"\n",
    "\n",
    "original_query_proc.build_query_graph()"
   ]
  },
  {
   "cell_type": "code",
   "execution_count": null,
   "metadata": {},
   "outputs": [
    {
     "name": "stdout",
     "output_type": "stream",
     "text": [
      ">>> Running: original_china_bi3...\n",
      "    Data file: ./out/original/BI_11/data_graph.txt\n",
      "    Query file: ./out/original/BI_3/original_china_bi3_query_graph.txt\n",
      "    Output file: \n",
      "    Sum of |C(u)|: 488316\n",
      "    Total Recursive Call Count: 40584\n",
      "    Number of Matches: 100000\n",
      "    Filtering Time (ms): 854.313\n",
      "    Verification Time (ms): 25661.9\n",
      "    Processing Time (ms): 26516.2\n",
      "<<< Done!\n"
     ]
    }
   ],
   "source": [
    "\"\"\" Run query \"\"\"\n",
    "\n",
    "original_query_proc.run_query()"
   ]
  },
  {
   "cell_type": "markdown",
   "metadata": {},
   "source": [
    "## Optimized\n"
   ]
  },
  {
   "cell_type": "code",
   "execution_count": null,
   "metadata": {},
   "outputs": [],
   "source": [
    "@dataclass\n",
    "class OptimizedBI3:\n",
    "    dirname = \"BI_3\"\n",
    "    labels = [\n",
    "        BaseLabel.Country + \"China\",\n",
    "        \"forum\",\n",
    "        \"post\",\n",
    "        \"comment\",\n",
    "        \"tag\",\n",
    "        \"tagclass\",\n",
    "    ]\n",
    "    edges = [(0, 1), (1, 2), (2, 3), (3, 4), (4, 5)]\n",
    "    task_name = \"optimized_china_bi3\"\n",
    "    query_graph_name = \"optimized_china_bi3_query_graph.txt\"\n",
    "    log_name = \"optimized_china_bi3_result.txt\"\n",
    "    time_table = list[float]()\n",
    "    args = wsl_if_on_windows + [\n",
    "        \"./VEQ_M_100k\",\n",
    "        \"-dg\",\n",
    "        BI_11_DG_OPTIMIZED,\n",
    "        \"-qg\",\n",
    "        f\"{BI_3_OPTIMIZED_Q_PRE}/{query_graph_name}\",\n",
    "    ]\n",
    "\n",
    "    def build_query_graph(self):\n",
    "        query_prefix = BI_3_OPTIMIZED_Q_PRE\n",
    "        if not os.path.exists(f\"{query_prefix}/{self.query_graph_name}\"):\n",
    "            with open(f\"{query_prefix}/{self.query_graph_name}\", \"w\") as f:\n",
    "                f.write(\"#0\\n\")\n",
    "                f.write(f\"{len(self.labels)}\\n\")\n",
    "                [f.write(f\"{label}\\n\") for label in self.labels]\n",
    "                f.write(f\"{len(self.edges)}\\n\")\n",
    "                [f.write(f\"{src} {dst}\\n\") for src, dst in self.edges]\n",
    "\n",
    "    def run_query(self):\n",
    "        log_prefix = f\"{OPTIMIZED_LOG_PREFIX}/{self.dirname}\"\n",
    "        if not os.path.exists(log_prefix):\n",
    "            os.makedirs(log_prefix)\n",
    "        run_veq_m_100k(\n",
    "            f\"{log_prefix}/{self.log_name}\",\n",
    "            self.task_name,\n",
    "            self.args,\n",
    "            self.time_table,\n",
    "        )\n",
    "\n",
    "\n",
    "optimized_query_proc = OptimizedBI3()"
   ]
  },
  {
   "cell_type": "code",
   "execution_count": null,
   "metadata": {},
   "outputs": [],
   "source": [
    "\"\"\" Build `query graph` \"\"\"\n",
    "\n",
    "optimized_query_proc.build_query_graph()"
   ]
  },
  {
   "cell_type": "code",
   "execution_count": null,
   "metadata": {},
   "outputs": [
    {
     "name": "stdout",
     "output_type": "stream",
     "text": [
      ">>> Running: optimized_china_bi3...\n",
      "    Data file: ./out/optimized/BI_11/data_graph.txt\n",
      "    Query file: ./out/optimized/BI_3/optimized_china_bi3_query_graph.txt\n",
      "    Output file: \n",
      "    Sum of |C(u)|: 125935\n",
      "    Total Recursive Call Count: 47581\n",
      "    Number of Matches: 100000\n",
      "    Filtering Time (ms): 309.348\n",
      "    Verification Time (ms): 24971.3\n",
      "    Processing Time (ms): 25280.6\n",
      "<<< Done!\n"
     ]
    }
   ],
   "source": [
    "\"\"\" Run query \"\"\"\n",
    "\n",
    "optimized_query_proc.run_query()"
   ]
  },
  {
   "cell_type": "code",
   "execution_count": null,
   "metadata": {},
   "outputs": [
    {
     "data": {
      "text/html": [
       "<div><style>\n",
       ".dataframe > thead > tr,\n",
       ".dataframe > tbody > tr {\n",
       "  text-align: right;\n",
       "  white-space: pre-wrap;\n",
       "}\n",
       "</style>\n",
       "<small>shape: (1, 3)</small><table border=\"1\" class=\"dataframe\"><thead><tr><th>task</th><th>original (ms)</th><th>optimized (ms)</th></tr><tr><td>str</td><td>f64</td><td>f64</td></tr></thead><tbody><tr><td>&quot;china_bi3&quot;</td><td>26516.2</td><td>25280.6</td></tr></tbody></table></div>"
      ],
      "text/plain": [
       "shape: (1, 3)\n",
       "┌───────────┬───────────────┬────────────────┐\n",
       "│ task      ┆ original (ms) ┆ optimized (ms) │\n",
       "│ ---       ┆ ---           ┆ ---            │\n",
       "│ str       ┆ f64           ┆ f64            │\n",
       "╞═══════════╪═══════════════╪════════════════╡\n",
       "│ china_bi3 ┆ 26516.2       ┆ 25280.6        │\n",
       "└───────────┴───────────────┴────────────────┘"
      ]
     },
     "metadata": {},
     "output_type": "display_data"
    }
   ],
   "source": [
    "\"\"\" Show BI-3 `comparison data-frame` \"\"\"\n",
    "\n",
    "df = pl.DataFrame(\n",
    "    {\n",
    "        \"task\": [\"china_bi3\"],\n",
    "        \"original (ms)\": original_query_proc.time_table,\n",
    "        \"optimized (ms)\": optimized_query_proc.time_table,\n",
    "    }\n",
    ")\n",
    "df"
   ]
  }
 ],
 "metadata": {
  "language_info": {
   "name": "python"
  }
 },
 "nbformat": 4,
 "nbformat_minor": 2
}
