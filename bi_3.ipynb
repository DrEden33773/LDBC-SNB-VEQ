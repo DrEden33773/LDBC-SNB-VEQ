{
 "cells": [
  {
   "cell_type": "markdown",
   "metadata": {},
   "source": [
    "# BI 3\n"
   ]
  },
  {
   "cell_type": "code",
   "execution_count": 1,
   "metadata": {},
   "outputs": [],
   "source": [
    "from prelude import *"
   ]
  },
  {
   "cell_type": "markdown",
   "metadata": {},
   "source": [
    "## Original\n"
   ]
  },
  {
   "cell_type": "code",
   "execution_count": 2,
   "metadata": {},
   "outputs": [],
   "source": [
    "\"\"\" labels & edges \"\"\"\n",
    "\n",
    "edges = [(0, 1), (1, 2), (2, 3), (3, 4), (4, 5), (5, 6), (6, 7)]\n",
    "labels_template = [\n",
    "    \"country\",\n",
    "    \"city\",\n",
    "    \"person\",\n",
    "    \"forum\",\n",
    "    \"post\",\n",
    "    \"message\",  # could use \"comment\" / \"post\"\n",
    "    \"tag\",\n",
    "    \"tagclass\",\n",
    "]\n",
    "\n",
    "\n",
    "def wrapper(tagClass: str, country: str, msgType: str = \"post\") -> list[str]:\n",
    "    return [BaseLabel.TagClass + tagClass, BaseLabel.Country + country, msgType]\n",
    "\n",
    "\n",
    "task_names = [\n",
    "    \"Saint,India,post\",\n",
    "    \"Saint,India,comment\",\n",
    "    \"President,India,post\",\n",
    "    \"President,India,comment\",\n",
    "    \"Song,China,post\",\n",
    "    \"Song,China,comment\",\n",
    "]\n",
    "\n",
    "kwargs = {}\n",
    "for task_name in task_names:\n",
    "    tagClass, country, msgType = task_name.split(\",\")\n",
    "    kwargs[task_name] = QGMetaRecord(\n",
    "        replace(labels_template, [7, 0, 5], wrapper(tagClass, country, msgType)), edges\n",
    "    )"
   ]
  },
  {
   "cell_type": "code",
   "execution_count": 3,
   "metadata": {},
   "outputs": [],
   "source": [
    "\"\"\" Init Original Query Graph \"\"\"\n",
    "\n",
    "for qg_name, meta_record in kwargs.items():\n",
    "    qg_path = f\"{BI_3_ORIGINAL_Q_PRE}/{qg_name}.txt\"\n",
    "    labels = meta_record.labels\n",
    "    edges = meta_record.edges\n",
    "    qg_emitter(qg_path, labels, edges)"
   ]
  },
  {
   "cell_type": "code",
   "execution_count": 4,
   "metadata": {},
   "outputs": [],
   "source": [
    "\"\"\" args \"\"\"\n",
    "\n",
    "args_list = [\n",
    "    bi_3_original_args_starting + [f\"{BI_3_ORIGINAL_Q_PRE}/{task_name}.txt\"]\n",
    "    for task_name in task_names\n",
    "]"
   ]
  },
  {
   "cell_type": "code",
   "execution_count": 5,
   "metadata": {},
   "outputs": [
    {
     "name": "stdout",
     "output_type": "stream",
     "text": [
      ">>> Running: Saint,India,post...\n",
      "    Data file: ./out/original/data_graph.txt\n",
      "    Query file: ./out/original/BI_3/Saint,India,post.txt\n",
      "    Output file: \n",
      "    Total Recursive Call Count: 0\n",
      "    Number of Matches: 0\n",
      "    Filtering Time (ms): 29.4075\n",
      "    Verification Time (ms): 0\n",
      "    Processing Time (ms): 29.4075\n",
      "<<< Done!\n",
      ">>> Running: Saint,India,comment...\n",
      "    Data file: ./out/original/data_graph.txt\n",
      "    Query file: ./out/original/BI_3/Saint,India,comment.txt\n",
      "    Output file: \n",
      "    Sum of |C(u)|: 36100\n",
      "    Total Recursive Call Count: 178205\n",
      "    Number of Matches: 100000\n",
      "    Filtering Time (ms): 250.786\n",
      "    Verification Time (ms): 31587\n",
      "    Processing Time (ms): 31837.8\n",
      "<<< Done!\n",
      ">>> Running: President,India,post...\n",
      "    Data file: ./out/original/data_graph.txt\n",
      "    Query file: ./out/original/BI_3/President,India,post.txt\n",
      "    Output file: \n",
      "    Total Recursive Call Count: 0\n",
      "    Number of Matches: 0\n",
      "    Filtering Time (ms): 32.7491\n",
      "    Verification Time (ms): 0\n",
      "    Processing Time (ms): 32.7491\n",
      "<<< Done!\n",
      ">>> Running: President,India,comment...\n",
      "    Data file: ./out/original/data_graph.txt\n",
      "    Query file: ./out/original/BI_3/President,India,comment.txt\n",
      "    Output file: \n",
      "    Sum of |C(u)|: 36362\n",
      "    Total Recursive Call Count: 161257\n",
      "    Number of Matches: 100000\n",
      "    Filtering Time (ms): 254.299\n",
      "    Verification Time (ms): 27148\n",
      "    Processing Time (ms): 27402.3\n",
      "<<< Done!\n",
      ">>> Running: Song,China,post...\n",
      "    Data file: ./out/original/data_graph.txt\n",
      "    Query file: ./out/original/BI_3/Song,China,post.txt\n",
      "    Output file: \n",
      "    Total Recursive Call Count: 0\n",
      "    Number of Matches: 0\n",
      "    Filtering Time (ms): 27.2211\n",
      "    Verification Time (ms): 0\n",
      "    Processing Time (ms): 27.2211\n",
      "<<< Done!\n",
      ">>> Running: Song,China,comment...\n",
      "    Data file: ./out/original/data_graph.txt\n",
      "    Query file: ./out/original/BI_3/Song,China,comment.txt\n",
      "    Output file: \n",
      "    Sum of |C(u)|: 38547\n",
      "    Total Recursive Call Count: 180742\n",
      "    Number of Matches: 100000\n",
      "    Filtering Time (ms): 229.53\n",
      "    Verification Time (ms): 29166.5\n",
      "    Processing Time (ms): 29396.1\n",
      "<<< Done!\n"
     ]
    }
   ],
   "source": [
    "\"\"\" exec \"\"\"\n",
    "\n",
    "time_table = []\n",
    "\n",
    "result_path_list = [\n",
    "    f\"{BI_3_ORIGINAL_L_PRE}/{task_name}.txt\" for task_name in task_names\n",
    "]\n",
    "\n",
    "run_multiple_veq_m_100k(\n",
    "    result_path_list,\n",
    "    task_names,\n",
    "    args_list,\n",
    "    time_table,\n",
    ")"
   ]
  },
  {
   "cell_type": "markdown",
   "metadata": {},
   "source": [
    "## Optimized\n"
   ]
  },
  {
   "cell_type": "code",
   "execution_count": 6,
   "metadata": {},
   "outputs": [],
   "source": [
    "\"\"\" labels & edges \"\"\"\n",
    "\n",
    "edges_optimized = [(0, 1), (1, 2), (2, 3), (3, 4), (4, 5)]\n",
    "labels_template_optimized = [\n",
    "    \"country\",\n",
    "    \"forum\",\n",
    "    \"post\",\n",
    "    \"message\",  # could use \"comment\" / \"post\"\n",
    "    \"tag\",\n",
    "    \"tagclass\",\n",
    "]\n",
    "\n",
    "kwargs_optimized = {}\n",
    "for task_name in task_names:\n",
    "    tagClass, country, msgType = task_name.split(\",\")\n",
    "    kwargs_optimized[task_name] = QGMetaRecord(\n",
    "        replace(\n",
    "            labels_template_optimized, [5, 0, 3], wrapper(tagClass, country, msgType)\n",
    "        ),\n",
    "        edges_optimized,\n",
    "    )"
   ]
  },
  {
   "cell_type": "code",
   "execution_count": 7,
   "metadata": {},
   "outputs": [],
   "source": [
    "\"\"\" Init Original Query Graph \"\"\"\n",
    "\n",
    "for qg_name, meta_record in kwargs_optimized.items():\n",
    "    qg_path = f\"{BI_3_OPTIMIZED_Q_PRE}/{qg_name}.txt\"\n",
    "    labels = meta_record.labels\n",
    "    edges = meta_record.edges\n",
    "    qg_emitter(qg_path, labels, edges)"
   ]
  },
  {
   "cell_type": "code",
   "execution_count": 8,
   "metadata": {},
   "outputs": [],
   "source": [
    "\"\"\" args \"\"\"\n",
    "\n",
    "args_list_optimized = [\n",
    "    bi_3_optimized_args_starting + [f\"{BI_3_OPTIMIZED_Q_PRE}/{task_name}.txt\"]\n",
    "    for task_name in task_names\n",
    "]"
   ]
  },
  {
   "cell_type": "code",
   "execution_count": 9,
   "metadata": {},
   "outputs": [
    {
     "name": "stdout",
     "output_type": "stream",
     "text": [
      ">>> Running: Saint,India,post...\n",
      "    Data file: ./out/optimized/data_graph.txt\n",
      "    Query file: ./out/optimized/BI_3/Saint,India,post.txt\n",
      "    Output file: \n",
      "    Total Recursive Call Count: 0\n",
      "    Number of Matches: 0\n",
      "    Filtering Time (ms): 10.1837\n",
      "    Verification Time (ms): 0\n",
      "    Processing Time (ms): 10.1837\n",
      "<<< Done!\n",
      ">>> Running: Saint,India,comment...\n",
      "    Data file: ./out/optimized/data_graph.txt\n",
      "    Query file: ./out/optimized/BI_3/Saint,India,comment.txt\n",
      "    Output file: \n",
      "    Sum of |C(u)|: 6219\n",
      "    Total Recursive Call Count: 5740\n",
      "    Number of Matches: 3077\n",
      "    Filtering Time (ms): 76.7111\n",
      "    Verification Time (ms): 877.163\n",
      "    Processing Time (ms): 953.874\n",
      "<<< Done!\n",
      ">>> Running: President,India,post...\n",
      "    Data file: ./out/optimized/data_graph.txt\n",
      "    Query file: ./out/optimized/BI_3/President,India,post.txt\n",
      "    Output file: \n",
      "    Total Recursive Call Count: 0\n",
      "    Number of Matches: 0\n",
      "    Filtering Time (ms): 10.9808\n",
      "    Verification Time (ms): 0\n",
      "    Processing Time (ms): 10.9808\n",
      "<<< Done!\n",
      ">>> Running: President,India,comment...\n",
      "    Data file: ./out/optimized/data_graph.txt\n",
      "    Query file: ./out/optimized/BI_3/President,India,comment.txt\n",
      "    Output file: \n",
      "    Sum of |C(u)|: 6745\n",
      "    Total Recursive Call Count: 5963\n",
      "    Number of Matches: 3531\n",
      "    Filtering Time (ms): 74.7836\n",
      "    Verification Time (ms): 958.226\n",
      "    Processing Time (ms): 1033.01\n",
      "<<< Done!\n",
      ">>> Running: Song,China,post...\n",
      "    Data file: ./out/optimized/data_graph.txt\n",
      "    Query file: ./out/optimized/BI_3/Song,China,post.txt\n",
      "    Output file: \n",
      "    Total Recursive Call Count: 0\n",
      "    Number of Matches: 0\n",
      "    Filtering Time (ms): 11.9063\n",
      "    Verification Time (ms): 0\n",
      "    Processing Time (ms): 11.9063\n",
      "<<< Done!\n",
      ">>> Running: Song,China,comment...\n",
      "    Data file: ./out/optimized/data_graph.txt\n",
      "    Query file: ./out/optimized/BI_3/Song,China,comment.txt\n",
      "    Output file: \n",
      "    Sum of |C(u)|: 8330\n",
      "    Total Recursive Call Count: 7505\n",
      "    Number of Matches: 3914\n",
      "    Filtering Time (ms): 98.9664\n",
      "    Verification Time (ms): 1260.47\n",
      "    Processing Time (ms): 1359.44\n",
      "<<< Done!\n"
     ]
    }
   ],
   "source": [
    "\"\"\" exec \"\"\"\n",
    "\n",
    "time_table_optimized = []\n",
    "\n",
    "result_path_list_optimized = [\n",
    "    f\"{BI_3_OPTIMIZED_L_PRE}/{task_name}.txt\" for task_name in task_names\n",
    "]\n",
    "\n",
    "run_multiple_veq_m_100k(\n",
    "    result_path_list_optimized,\n",
    "    task_names,\n",
    "    args_list_optimized,\n",
    "    time_table_optimized,\n",
    ")"
   ]
  },
  {
   "cell_type": "code",
   "execution_count": 10,
   "metadata": {},
   "outputs": [
    {
     "name": "stdout",
     "output_type": "stream",
     "text": [
      "Comparison between: `original_match` & `optimized_match`\n"
     ]
    },
    {
     "data": {
      "text/html": [
       "<div><style>\n",
       ".dataframe > thead > tr,\n",
       ".dataframe > tbody > tr {\n",
       "  text-align: right;\n",
       "  white-space: pre-wrap;\n",
       "}\n",
       "</style>\n",
       "<small>shape: (6, 3)</small><table border=\"1\" class=\"dataframe\"><thead><tr><th>task</th><th>original (ms)</th><th>optimized (ms)</th></tr><tr><td>str</td><td>f64</td><td>f64</td></tr></thead><tbody><tr><td>&quot;Saint,India,po…</td><td>29.4075</td><td>10.1837</td></tr><tr><td>&quot;Saint,India,co…</td><td>31837.8</td><td>953.874</td></tr><tr><td>&quot;President,Indi…</td><td>32.7491</td><td>10.9808</td></tr><tr><td>&quot;President,Indi…</td><td>27402.3</td><td>1033.01</td></tr><tr><td>&quot;Song,China,pos…</td><td>27.2211</td><td>11.9063</td></tr><tr><td>&quot;Song,China,com…</td><td>29396.1</td><td>1359.44</td></tr></tbody></table></div>"
      ],
      "text/plain": [
       "shape: (6, 3)\n",
       "┌─────────────────────────┬───────────────┬────────────────┐\n",
       "│ task                    ┆ original (ms) ┆ optimized (ms) │\n",
       "│ ---                     ┆ ---           ┆ ---            │\n",
       "│ str                     ┆ f64           ┆ f64            │\n",
       "╞═════════════════════════╪═══════════════╪════════════════╡\n",
       "│ Saint,India,post        ┆ 29.4075       ┆ 10.1837        │\n",
       "│ Saint,India,comment     ┆ 31837.8       ┆ 953.874        │\n",
       "│ President,India,post    ┆ 32.7491       ┆ 10.9808        │\n",
       "│ President,India,comment ┆ 27402.3       ┆ 1033.01        │\n",
       "│ Song,China,post         ┆ 27.2211       ┆ 11.9063        │\n",
       "│ Song,China,comment      ┆ 29396.1       ┆ 1359.44        │\n",
       "└─────────────────────────┴───────────────┴────────────────┘"
      ]
     },
     "execution_count": 10,
     "metadata": {},
     "output_type": "execute_result"
    }
   ],
   "source": [
    "\"\"\" Show BI-3 `comparison data-frame` \"\"\"\n",
    "\n",
    "print(\"Comparison between: `original_match` & `optimized_match`\")\n",
    "\n",
    "df = pl.DataFrame(\n",
    "    {\n",
    "        \"task\": task_names,\n",
    "        \"original (ms)\": time_table,\n",
    "        \"optimized (ms)\": time_table_optimized,\n",
    "    }\n",
    ")\n",
    "df"
   ]
  }
 ],
 "metadata": {
  "kernelspec": {
   "display_name": "base",
   "language": "python",
   "name": "python3"
  },
  "language_info": {
   "codemirror_mode": {
    "name": "ipython",
    "version": 3
   },
   "file_extension": ".py",
   "mimetype": "text/x-python",
   "name": "python",
   "nbconvert_exporter": "python",
   "pygments_lexer": "ipython3",
   "version": "3.11.4"
  }
 },
 "nbformat": 4,
 "nbformat_minor": 2
}
