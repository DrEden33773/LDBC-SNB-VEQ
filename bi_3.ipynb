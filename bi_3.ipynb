{
 "cells": [
  {
   "cell_type": "markdown",
   "metadata": {},
   "source": [
    "# BI 3\n"
   ]
  },
  {
   "cell_type": "code",
   "execution_count": 1,
   "metadata": {},
   "outputs": [],
   "source": [
    "from prelude import *"
   ]
  },
  {
   "cell_type": "markdown",
   "metadata": {},
   "source": [
    "## Original\n"
   ]
  },
  {
   "cell_type": "code",
   "execution_count": 2,
   "metadata": {},
   "outputs": [],
   "source": [
    "\"\"\" labels & edges \"\"\"\n",
    "\n",
    "edges = [(0, 1), (1, 2), (2, 3), (3, 4), (4, 5), (5, 6), (6, 7)]\n",
    "labels_template = [\n",
    "    \"country\",\n",
    "    \"city\",\n",
    "    \"person\",\n",
    "    \"forum\",\n",
    "    \"post\",\n",
    "    \"message\",  # could use \"comment\" / \"post\"\n",
    "    \"tag\",\n",
    "    \"tagclass\",\n",
    "]\n",
    "\n",
    "\n",
    "def wrapper(tagClass: str, country: str, msgType: str = \"post\") -> list[str]:\n",
    "    return [BaseLabel.TagClass + tagClass, BaseLabel.Country + country, msgType]\n",
    "\n",
    "\n",
    "task_names = [\n",
    "    \"Saint,India,post\",\n",
    "    \"Saint,India,comment\",\n",
    "    \"President,India,post\",\n",
    "    \"President,India,comment\",\n",
    "    \"Song,China,post\",\n",
    "    \"Song,China,comment\",\n",
    "]\n",
    "\n",
    "kwargs = {}\n",
    "for task_name in task_names:\n",
    "    tagClass, country, msgType = task_name.split(\",\")\n",
    "    kwargs[task_name] = QGMetaRecord(\n",
    "        replace(labels_template, [7, 0, 5], wrapper(tagClass, country, msgType)), edges\n",
    "    )"
   ]
  },
  {
   "cell_type": "code",
   "execution_count": 3,
   "metadata": {},
   "outputs": [],
   "source": [
    "\"\"\" Init Original Query Graph \"\"\"\n",
    "\n",
    "for qg_name, meta_record in kwargs.items():\n",
    "    qg_path = f\"{BI_3_ORIGINAL_Q_PRE}/{qg_name}.txt\"\n",
    "    labels = meta_record.labels\n",
    "    edges = meta_record.edges\n",
    "    qg_emitter(qg_path, labels, edges)"
   ]
  },
  {
   "cell_type": "code",
   "execution_count": 4,
   "metadata": {},
   "outputs": [],
   "source": [
    "\"\"\" args \"\"\"\n",
    "\n",
    "args_list = [\n",
    "    bi_3_original_args_starting + [f\"{BI_3_ORIGINAL_Q_PRE}/{task_name}.txt\"]\n",
    "    for task_name in task_names\n",
    "]"
   ]
  },
  {
   "cell_type": "code",
   "execution_count": 5,
   "metadata": {},
   "outputs": [
    {
     "name": "stdout",
     "output_type": "stream",
     "text": [
      ">>> Running: Saint,India,post...\n",
      "    Data file: ./out/original/data_graph.txt\n",
      "    Query file: ./out/original/BI_3/Saint,India,post.txt\n",
      "    Output file: \n",
      "    Total Recursive Call Count: 0\n",
      "    Number of Matches: 0\n",
      "    Filtering Time (ms): 28.6267\n",
      "    Verification Time (ms): 0\n",
      "    Processing Time (ms): 28.6267\n",
      "<<< Done!\n",
      ">>> Running: Saint,India,comment...\n",
      "    Data file: ./out/original/data_graph.txt\n",
      "    Query file: ./out/original/BI_3/Saint,India,comment.txt\n",
      "    Output file: \n",
      "    Sum of |C(u)|: 36100\n",
      "    Total Recursive Call Count: 178205\n",
      "    Number of Matches: 100000\n",
      "    Filtering Time (ms): 229.923\n",
      "    Verification Time (ms): 26599.1\n",
      "    Processing Time (ms): 26829.1\n",
      "<<< Done!\n",
      ">>> Running: President,India,post...\n",
      "    Data file: ./out/original/data_graph.txt\n",
      "    Query file: ./out/original/BI_3/President,India,post.txt\n",
      "    Output file: \n",
      "    Total Recursive Call Count: 0\n",
      "    Number of Matches: 0\n",
      "    Filtering Time (ms): 24.6046\n",
      "    Verification Time (ms): 0\n",
      "    Processing Time (ms): 24.6046\n",
      "<<< Done!\n",
      ">>> Running: President,India,comment...\n",
      "    Data file: ./out/original/data_graph.txt\n",
      "    Query file: ./out/original/BI_3/President,India,comment.txt\n",
      "    Output file: \n",
      "    Sum of |C(u)|: 36362\n",
      "    Total Recursive Call Count: 161257\n",
      "    Number of Matches: 100000\n",
      "    Filtering Time (ms): 233.923\n",
      "    Verification Time (ms): 23998.5\n",
      "    Processing Time (ms): 24232.4\n",
      "<<< Done!\n",
      ">>> Running: Song,China,post...\n",
      "    Data file: ./out/original/data_graph.txt\n",
      "    Query file: ./out/original/BI_3/Song,China,post.txt\n",
      "    Output file: \n",
      "    Total Recursive Call Count: 0\n",
      "    Number of Matches: 0\n",
      "    Filtering Time (ms): 28.4468\n",
      "    Verification Time (ms): 0\n",
      "    Processing Time (ms): 28.4468\n",
      "<<< Done!\n",
      ">>> Running: Song,China,comment...\n",
      "    Data file: ./out/original/data_graph.txt\n",
      "    Query file: ./out/original/BI_3/Song,China,comment.txt\n",
      "    Output file: \n",
      "    Sum of |C(u)|: 38547\n",
      "    Total Recursive Call Count: 180742\n",
      "    Number of Matches: 100000\n",
      "    Filtering Time (ms): 236.292\n",
      "    Verification Time (ms): 26749.7\n",
      "    Processing Time (ms): 26986\n",
      "<<< Done!\n"
     ]
    }
   ],
   "source": [
    "\"\"\" exec \"\"\"\n",
    "\n",
    "time_table = []\n",
    "\n",
    "result_path_list = [\n",
    "    f\"{BI_3_ORIGINAL_L_PRE}/{task_name}.txt\" for task_name in task_names\n",
    "]\n",
    "\n",
    "run_multiple_veq_m_100k(\n",
    "    result_path_list,\n",
    "    task_names,\n",
    "    args_list,\n",
    "    time_table,\n",
    ")"
   ]
  },
  {
   "cell_type": "markdown",
   "metadata": {},
   "source": [
    "## Optimized\n"
   ]
  },
  {
   "cell_type": "code",
   "execution_count": 6,
   "metadata": {},
   "outputs": [],
   "source": [
    "\"\"\" labels & edges \"\"\"\n",
    "\n",
    "edges_optimized = [(0, 1), (1, 2), (2, 3), (3, 4), (4, 5)]\n",
    "labels_template_optimized = [\n",
    "    \"country\",\n",
    "    \"forum\",\n",
    "    \"post\",\n",
    "    \"message\",  # could use \"comment\" / \"post\"\n",
    "    \"tag\",\n",
    "    \"tagclass\",\n",
    "]\n",
    "\n",
    "kwargs_optimized = {}\n",
    "for task_name in task_names:\n",
    "    tagClass, country, msgType = task_name.split(\",\")\n",
    "    kwargs_optimized[task_name] = QGMetaRecord(\n",
    "        replace(\n",
    "            labels_template_optimized, [5, 0, 3], wrapper(tagClass, country, msgType)\n",
    "        ),\n",
    "        edges_optimized,\n",
    "    )"
   ]
  },
  {
   "cell_type": "code",
   "execution_count": 7,
   "metadata": {},
   "outputs": [],
   "source": [
    "\"\"\" Init Original Query Graph \"\"\"\n",
    "\n",
    "for qg_name, meta_record in kwargs_optimized.items():\n",
    "    qg_path = f\"{BI_3_OPTIMIZED_Q_PRE}/{qg_name}.txt\"\n",
    "    labels = meta_record.labels\n",
    "    edges = meta_record.edges\n",
    "    qg_emitter(qg_path, labels, edges)"
   ]
  },
  {
   "cell_type": "code",
   "execution_count": 8,
   "metadata": {},
   "outputs": [],
   "source": [
    "\"\"\" args \"\"\"\n",
    "\n",
    "args_list_optimized = [\n",
    "    bi_3_optimized_args_starting + [f\"{BI_3_OPTIMIZED_Q_PRE}/{task_name}.txt\"]\n",
    "    for task_name in task_names\n",
    "]"
   ]
  },
  {
   "cell_type": "code",
   "execution_count": 9,
   "metadata": {},
   "outputs": [
    {
     "name": "stdout",
     "output_type": "stream",
     "text": [
      "File `./log/optimized/BI_3/Saint,India,post.txt` already exists\n",
      "    last_line ~> Processing Time (ms): 9.53107\n",
      "\n",
      "File `./log/optimized/BI_3/Saint,India,comment.txt` already exists\n",
      "    last_line ~> Processing Time (ms): 875.86\n",
      "\n",
      "File `./log/optimized/BI_3/President,India,post.txt` already exists\n",
      "    last_line ~> Processing Time (ms): 9.28269\n",
      "\n",
      "File `./log/optimized/BI_3/President,India,comment.txt` already exists\n",
      "    last_line ~> Processing Time (ms): 913.997\n",
      "\n",
      "File `./log/optimized/BI_3/Song,China,post.txt` already exists\n",
      "    last_line ~> Processing Time (ms): 8.38721\n",
      "\n",
      "File `./log/optimized/BI_3/Song,China,comment.txt` already exists\n",
      "    last_line ~> Processing Time (ms): 1136.47\n",
      "\n"
     ]
    }
   ],
   "source": [
    "\"\"\" exec \"\"\"\n",
    "\n",
    "time_table_optimized = []\n",
    "\n",
    "result_path_list_optimized = [\n",
    "    f\"{BI_3_OPTIMIZED_L_PRE}/{task_name}.txt\" for task_name in task_names\n",
    "]\n",
    "\n",
    "run_multiple_veq_m_100k(\n",
    "    result_path_list_optimized,\n",
    "    task_names,\n",
    "    args_list_optimized,\n",
    "    time_table_optimized,\n",
    ")"
   ]
  },
  {
   "cell_type": "code",
   "execution_count": 10,
   "metadata": {},
   "outputs": [
    {
     "name": "stdout",
     "output_type": "stream",
     "text": [
      "Comparison between: `original_match` & `optimized_match`\n"
     ]
    },
    {
     "data": {
      "text/html": [
       "<div><style>\n",
       ".dataframe > thead > tr,\n",
       ".dataframe > tbody > tr {\n",
       "  text-align: right;\n",
       "  white-space: pre-wrap;\n",
       "}\n",
       "</style>\n",
       "<small>shape: (6, 3)</small><table border=\"1\" class=\"dataframe\"><thead><tr><th>task</th><th>original (ms)</th><th>optimized (ms)</th></tr><tr><td>str</td><td>f64</td><td>f64</td></tr></thead><tbody><tr><td>&quot;Saint,India,po…</td><td>28.6267</td><td>9.53107</td></tr><tr><td>&quot;Saint,India,co…</td><td>26829.1</td><td>875.86</td></tr><tr><td>&quot;President,Indi…</td><td>24.6046</td><td>9.28269</td></tr><tr><td>&quot;President,Indi…</td><td>24232.4</td><td>913.997</td></tr><tr><td>&quot;Song,China,pos…</td><td>28.4468</td><td>8.38721</td></tr><tr><td>&quot;Song,China,com…</td><td>26986.0</td><td>1136.47</td></tr></tbody></table></div>"
      ],
      "text/plain": [
       "shape: (6, 3)\n",
       "┌─────────────────────────┬───────────────┬────────────────┐\n",
       "│ task                    ┆ original (ms) ┆ optimized (ms) │\n",
       "│ ---                     ┆ ---           ┆ ---            │\n",
       "│ str                     ┆ f64           ┆ f64            │\n",
       "╞═════════════════════════╪═══════════════╪════════════════╡\n",
       "│ Saint,India,post        ┆ 28.6267       ┆ 9.53107        │\n",
       "│ Saint,India,comment     ┆ 26829.1       ┆ 875.86         │\n",
       "│ President,India,post    ┆ 24.6046       ┆ 9.28269        │\n",
       "│ President,India,comment ┆ 24232.4       ┆ 913.997        │\n",
       "│ Song,China,post         ┆ 28.4468       ┆ 8.38721        │\n",
       "│ Song,China,comment      ┆ 26986.0       ┆ 1136.47        │\n",
       "└─────────────────────────┴───────────────┴────────────────┘"
      ]
     },
     "execution_count": 10,
     "metadata": {},
     "output_type": "execute_result"
    }
   ],
   "source": [
    "\"\"\" Show BI-3 `comparison data-frame` \"\"\"\n",
    "\n",
    "print(\"Comparison between: `original_match` & `optimized_match`\")\n",
    "\n",
    "df = pl.DataFrame(\n",
    "    {\n",
    "        \"task\": task_names,\n",
    "        \"original (ms)\": time_table,\n",
    "        \"optimized (ms)\": time_table_optimized,\n",
    "    }\n",
    ")\n",
    "df"
   ]
  }
 ],
 "metadata": {
  "kernelspec": {
   "display_name": "base",
   "language": "python",
   "name": "python3"
  },
  "language_info": {
   "codemirror_mode": {
    "name": "ipython",
    "version": 3
   },
   "file_extension": ".py",
   "mimetype": "text/x-python",
   "name": "python",
   "nbconvert_exporter": "python",
   "pygments_lexer": "ipython3",
   "version": "3.11.4"
  }
 },
 "nbformat": 4,
 "nbformat_minor": 2
}
