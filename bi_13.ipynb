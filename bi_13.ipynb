{
 "cells": [
  {
   "cell_type": "markdown",
   "metadata": {},
   "source": [
    "# BI 13\n"
   ]
  },
  {
   "cell_type": "code",
   "execution_count": 2,
   "metadata": {},
   "outputs": [],
   "source": [
    "from prelude import *"
   ]
  },
  {
   "cell_type": "markdown",
   "metadata": {},
   "source": [
    "## Original\n"
   ]
  },
  {
   "cell_type": "code",
   "execution_count": 3,
   "metadata": {},
   "outputs": [],
   "source": [
    "\"\"\" labels & edges \"\"\"\n",
    "\n",
    "edges = [(0, 1), (1, 2), (2, 3)]\n",
    "labels_template = [\n",
    "    \"country\",\n",
    "    \"city\",\n",
    "    \"person\",\n",
    "    \"message\",  # could use \"comment\" / \"post\"\n",
    "]\n",
    "task_names = [\"bi_13,post\", \"bi_13,comment\"]\n",
    "\n",
    "kwargs = {}\n",
    "for task_name in task_names:\n",
    "    _, msgType = task_name.split(\",\")\n",
    "    kwargs[task_name] = QGMetaRecord(replace(labels_template, [3], [msgType]), edges)"
   ]
  },
  {
   "cell_type": "code",
   "execution_count": 4,
   "metadata": {},
   "outputs": [],
   "source": [
    "\"\"\" Init Original Query Graph \"\"\"\n",
    "\n",
    "for qg_name, meta_record in kwargs.items():\n",
    "    qg_path = f\"{BI_13_ORIGINAL_Q_PRE}/{qg_name}.txt\"\n",
    "    labels = meta_record.labels\n",
    "    edges = meta_record.edges\n",
    "    qg_emitter(qg_path, labels, edges)"
   ]
  },
  {
   "cell_type": "code",
   "execution_count": 5,
   "metadata": {},
   "outputs": [],
   "source": [
    "\"\"\" args \"\"\"\n",
    "\n",
    "args_list = [\n",
    "    bi_13_original_args_starting + [f\"{BI_13_ORIGINAL_Q_PRE}/{task_name}.txt\"]\n",
    "    for task_name in task_names\n",
    "]"
   ]
  },
  {
   "cell_type": "code",
   "execution_count": 6,
   "metadata": {},
   "outputs": [
    {
     "name": "stdout",
     "output_type": "stream",
     "text": [
      ">>> Running: bi_13,post...\n",
      "    Data file: ./out/original/data_graph.txt\n",
      "    Query file: ./out/original/BI_13/bi_13,post.txt\n",
      "    Output file: \n",
      "    Sum of |C(u)|: 692933\n",
      "    Total Recursive Call Count: 146\n",
      "    Number of Matches: 100164\n",
      "    Filtering Time (ms): 355.181\n",
      "    Verification Time (ms): 365.761\n",
      "    Processing Time (ms): 720.942\n",
      "<<< Done!\n",
      ">>> Running: bi_13,comment...\n",
      "    Data file: ./out/original/data_graph.txt\n",
      "    Query file: ./out/original/BI_13/bi_13,comment.txt\n",
      "    Output file: \n",
      "    Sum of |C(u)|: 1373499\n",
      "    Total Recursive Call Count: 91\n",
      "    Number of Matches: 100569\n",
      "    Filtering Time (ms): 2010.45\n",
      "    Verification Time (ms): 322.487\n",
      "    Processing Time (ms): 2332.93\n",
      "<<< Done!\n"
     ]
    }
   ],
   "source": [
    "\"\"\" exec \"\"\"\n",
    "\n",
    "time_table = []\n",
    "\n",
    "result_path_list = [\n",
    "    f\"{BI_13_ORIGINAL_L_PRE}/{task_name}.txt\" for task_name in task_names\n",
    "]\n",
    "\n",
    "run_multiple_veq_m_100k(\n",
    "    result_path_list,\n",
    "    task_names,\n",
    "    args_list,\n",
    "    time_table,\n",
    ")"
   ]
  },
  {
   "cell_type": "markdown",
   "metadata": {},
   "source": [
    "## Optimized\n"
   ]
  },
  {
   "cell_type": "code",
   "execution_count": 7,
   "metadata": {},
   "outputs": [],
   "source": [
    "\"\"\" labels & edges \"\"\"\n",
    "\n",
    "edges_optimized = [(0, 1), (1, 2)]\n",
    "labels_template_optimized = [\n",
    "    \"country\",\n",
    "    \"person\",\n",
    "    \"message\",  # could use \"comment\" / \"post\"\n",
    "]\n",
    "\n",
    "kwargs_optimized = {}\n",
    "for task_name in task_names:\n",
    "    _, msgType = task_name.split(\",\")\n",
    "    kwargs_optimized[task_name] = QGMetaRecord(\n",
    "        replace(labels_template_optimized, [2], [msgType]), edges_optimized\n",
    "    )"
   ]
  },
  {
   "cell_type": "code",
   "execution_count": 8,
   "metadata": {},
   "outputs": [],
   "source": [
    "\"\"\" Init Original Query Graph \"\"\"\n",
    "\n",
    "for qg_name, meta_record in kwargs_optimized.items():\n",
    "    qg_path = f\"{BI_13_OPTIMIZED_Q_PRE}/{qg_name}.txt\"\n",
    "    labels = meta_record.labels\n",
    "    edges = meta_record.edges\n",
    "    qg_emitter(qg_path, labels, edges)"
   ]
  },
  {
   "cell_type": "code",
   "execution_count": 9,
   "metadata": {},
   "outputs": [],
   "source": [
    "\"\"\" args \"\"\"\n",
    "\n",
    "args_list_optimized = [\n",
    "    bi_13_optimized_args_starting + [f\"{BI_13_OPTIMIZED_Q_PRE}/{task_name}.txt\"]\n",
    "    for task_name in task_names\n",
    "]"
   ]
  },
  {
   "cell_type": "code",
   "execution_count": 10,
   "metadata": {},
   "outputs": [
    {
     "name": "stdout",
     "output_type": "stream",
     "text": [
      ">>> Running: bi_13,post...\n",
      "    Data file: ./out/optimized/data_graph.txt\n",
      "    Query file: ./out/optimized/BI_13/bi_13,post.txt\n",
      "    Output file: \n",
      "    Sum of |C(u)|: 692047\n",
      "    Total Recursive Call Count: 53\n",
      "    Number of Matches: 100163\n",
      "    Filtering Time (ms): 481.182\n",
      "    Verification Time (ms): 372.223\n",
      "    Processing Time (ms): 853.406\n",
      "<<< Done!\n",
      ">>> Running: bi_13,comment...\n",
      "    Data file: ./out/optimized/data_graph.txt\n",
      "    Query file: ./out/optimized/BI_13/bi_13,comment.txt\n",
      "    Output file: \n",
      "    Sum of |C(u)|: 1503269\n",
      "    Total Recursive Call Count: 42\n",
      "    Number of Matches: 100168\n",
      "    Filtering Time (ms): 2718.43\n",
      "    Verification Time (ms): 447.01\n",
      "    Processing Time (ms): 3165.44\n",
      "<<< Done!\n"
     ]
    }
   ],
   "source": [
    "\"\"\" exec \"\"\"\n",
    "\n",
    "time_table_optimized = []\n",
    "\n",
    "result_path_list_optimized = [\n",
    "    f\"{BI_13_OPTIMIZED_L_PRE}/{task_name}.txt\" for task_name in task_names\n",
    "]\n",
    "\n",
    "run_multiple_veq_m_100k(\n",
    "    result_path_list_optimized,\n",
    "    task_names,\n",
    "    args_list_optimized,\n",
    "    time_table_optimized,\n",
    ")"
   ]
  },
  {
   "cell_type": "code",
   "execution_count": 11,
   "metadata": {},
   "outputs": [
    {
     "name": "stdout",
     "output_type": "stream",
     "text": [
      "Comparison between: `original_match` & `optimized_match`\n"
     ]
    },
    {
     "data": {
      "text/html": [
       "<div><style>\n",
       ".dataframe > thead > tr,\n",
       ".dataframe > tbody > tr {\n",
       "  text-align: right;\n",
       "  white-space: pre-wrap;\n",
       "}\n",
       "</style>\n",
       "<small>shape: (2, 3)</small><table border=\"1\" class=\"dataframe\"><thead><tr><th>task</th><th>original (ms)</th><th>optimized (ms)</th></tr><tr><td>str</td><td>f64</td><td>f64</td></tr></thead><tbody><tr><td>&quot;bi_13,post&quot;</td><td>720.942</td><td>853.406</td></tr><tr><td>&quot;bi_13,comment&quot;</td><td>2332.93</td><td>3165.44</td></tr></tbody></table></div>"
      ],
      "text/plain": [
       "shape: (2, 3)\n",
       "┌───────────────┬───────────────┬────────────────┐\n",
       "│ task          ┆ original (ms) ┆ optimized (ms) │\n",
       "│ ---           ┆ ---           ┆ ---            │\n",
       "│ str           ┆ f64           ┆ f64            │\n",
       "╞═══════════════╪═══════════════╪════════════════╡\n",
       "│ bi_13,post    ┆ 720.942       ┆ 853.406        │\n",
       "│ bi_13,comment ┆ 2332.93       ┆ 3165.44        │\n",
       "└───────────────┴───────────────┴────────────────┘"
      ]
     },
     "execution_count": 11,
     "metadata": {},
     "output_type": "execute_result"
    }
   ],
   "source": [
    "\"\"\" Show BI-13 `comparison data-frame` \"\"\"\n",
    "\n",
    "print(\"Comparison between: `original_match` & `optimized_match`\")\n",
    "\n",
    "df = pl.DataFrame(\n",
    "    {\n",
    "        \"task\": task_names,\n",
    "        \"original (ms)\": time_table,\n",
    "        \"optimized (ms)\": time_table_optimized,\n",
    "    }\n",
    ")\n",
    "df"
   ]
  }
 ],
 "metadata": {
  "kernelspec": {
   "display_name": "base",
   "language": "python",
   "name": "python3"
  },
  "language_info": {
   "codemirror_mode": {
    "name": "ipython",
    "version": 3
   },
   "file_extension": ".py",
   "mimetype": "text/x-python",
   "name": "python",
   "nbconvert_exporter": "python",
   "pygments_lexer": "ipython3",
   "version": "3.11.4"
  }
 },
 "nbformat": 4,
 "nbformat_minor": 2
}
