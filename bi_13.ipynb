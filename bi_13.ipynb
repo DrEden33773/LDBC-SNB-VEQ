{
 "cells": [
  {
   "cell_type": "markdown",
   "metadata": {},
   "source": [
    "# BI 13\n"
   ]
  },
  {
   "cell_type": "code",
   "execution_count": 1,
   "metadata": {},
   "outputs": [],
   "source": [
    "from dg_builder import *"
   ]
  },
  {
   "cell_type": "markdown",
   "metadata": {},
   "source": [
    "## Original\n"
   ]
  },
  {
   "cell_type": "code",
   "execution_count": 2,
   "metadata": {},
   "outputs": [],
   "source": [
    "\"\"\" labels & edges \"\"\"\n",
    "\n",
    "edges = [(0, 1), (1, 2), (2, 3)]\n",
    "labels_template = [\n",
    "    \"country\",\n",
    "    \"city\",\n",
    "    \"person\",\n",
    "    \"message\",  # could use \"comment\" / \"post\"\n",
    "]\n",
    "task_names = [\n",
    "    \"India,post\",\n",
    "    \"India,comment\",\n",
    "    \"China,post\",\n",
    "    \"China,comment\",\n",
    "]\n",
    "\n",
    "kwargs = {}\n",
    "for task_name in task_names:\n",
    "    country, msgType = task_name.split(\",\")\n",
    "    kwargs[task_name] = QGMetaRecord(\n",
    "        replace(labels_template, [0, 3], [BaseLabel.Country + country, msgType]),\n",
    "        edges,\n",
    "    )"
   ]
  },
  {
   "cell_type": "code",
   "execution_count": 3,
   "metadata": {},
   "outputs": [],
   "source": [
    "\"\"\" Init Original Query Graph \"\"\"\n",
    "\n",
    "for qg_name, meta_record in kwargs.items():\n",
    "    qg_path = f\"{BI_13_ORIGINAL_Q_PRE}/{qg_name}.txt\"\n",
    "    labels = meta_record.labels\n",
    "    edges = meta_record.edges\n",
    "    qg_emitter(qg_path, labels, edges)"
   ]
  },
  {
   "cell_type": "code",
   "execution_count": 4,
   "metadata": {},
   "outputs": [],
   "source": [
    "\"\"\" args \"\"\"\n",
    "\n",
    "args_list = [\n",
    "    bi_13_original_args_starting + [f\"{BI_13_ORIGINAL_Q_PRE}/{task_name}.txt\"]\n",
    "    for task_name in task_names\n",
    "]"
   ]
  },
  {
   "cell_type": "code",
   "execution_count": 5,
   "metadata": {},
   "outputs": [
    {
     "name": "stdout",
     "output_type": "stream",
     "text": [
      ">>> Running: India,post...\n",
      "    Data file: ./out/original/data_graph.txt\n",
      "    Query file: ./out/original/BI_13/India,post.txt\n",
      "    Output file: \n",
      "    Sum of |C(u)|: 165674\n",
      "    Total Recursive Call Count: 100\n",
      "    Number of Matches: 100118\n",
      "    Filtering Time (ms): 132.455\n",
      "    Verification Time (ms): 244.095\n",
      "    Processing Time (ms): 376.55\n",
      "<<< Done!\n",
      ">>> Running: India,comment...\n",
      "    Data file: ./out/original/data_graph.txt\n",
      "    Query file: ./out/original/BI_13/India,comment.txt\n",
      "    Output file: \n",
      "    Sum of |C(u)|: 353990\n",
      "    Total Recursive Call Count: 60\n",
      "    Number of Matches: 100192\n",
      "    Filtering Time (ms): 679.052\n",
      "    Verification Time (ms): 155.005\n",
      "    Processing Time (ms): 834.056\n",
      "<<< Done!\n",
      ">>> Running: China,post...\n",
      "    Data file: ./out/original/data_graph.txt\n",
      "    Query file: ./out/original/BI_13/China,post.txt\n",
      "    Output file: \n",
      "    Sum of |C(u)|: 159920\n",
      "    Total Recursive Call Count: 109\n",
      "    Number of Matches: 100054\n",
      "    Filtering Time (ms): 118.55\n",
      "    Verification Time (ms): 228.207\n",
      "    Processing Time (ms): 346.757\n",
      "<<< Done!\n",
      ">>> Running: China,comment...\n",
      "    Data file: ./out/original/data_graph.txt\n",
      "    Query file: ./out/original/BI_13/China,comment.txt\n",
      "    Output file: \n",
      "    Sum of |C(u)|: 305987\n",
      "    Total Recursive Call Count: 68\n",
      "    Number of Matches: 100607\n",
      "    Filtering Time (ms): 513.122\n",
      "    Verification Time (ms): 151.261\n",
      "    Processing Time (ms): 664.383\n",
      "<<< Done!\n"
     ]
    }
   ],
   "source": [
    "\"\"\" exec \"\"\"\n",
    "\n",
    "time_table = []\n",
    "\n",
    "result_path_list = [\n",
    "    f\"{BI_13_ORIGINAL_L_PRE}/{task_name}.txt\" for task_name in task_names\n",
    "]\n",
    "\n",
    "run_multiple_veq_m_100k(\n",
    "    result_path_list,\n",
    "    task_names,\n",
    "    args_list,\n",
    "    time_table,\n",
    ")"
   ]
  },
  {
   "cell_type": "markdown",
   "metadata": {},
   "source": [
    "## Optimized\n"
   ]
  },
  {
   "cell_type": "code",
   "execution_count": 6,
   "metadata": {},
   "outputs": [],
   "source": [
    "\"\"\" labels & edges \"\"\"\n",
    "\n",
    "edges_optimized = [(0, 1), (1, 2)]\n",
    "labels_template_optimized = [\n",
    "    \"country\",\n",
    "    \"person\",\n",
    "    \"message\",  # could use \"comment\" / \"post\"\n",
    "]\n",
    "\n",
    "kwargs_optimized = {}\n",
    "for task_name in task_names:\n",
    "    _, msgType = task_name.split(\",\")\n",
    "    kwargs_optimized[task_name] = QGMetaRecord(\n",
    "        replace(\n",
    "            labels_template_optimized, [0, 2], [BaseLabel.Country + country, msgType]\n",
    "        ),\n",
    "        edges_optimized,\n",
    "    )"
   ]
  },
  {
   "cell_type": "code",
   "execution_count": 7,
   "metadata": {},
   "outputs": [],
   "source": [
    "\"\"\" Init Original Query Graph \"\"\"\n",
    "\n",
    "for qg_name, meta_record in kwargs_optimized.items():\n",
    "    qg_path = f\"{BI_13_OPTIMIZED_Q_PRE}/{qg_name}.txt\"\n",
    "    labels = meta_record.labels\n",
    "    edges = meta_record.edges\n",
    "    qg_emitter(qg_path, labels, edges)"
   ]
  },
  {
   "cell_type": "code",
   "execution_count": 8,
   "metadata": {},
   "outputs": [],
   "source": [
    "\"\"\" args \"\"\"\n",
    "\n",
    "args_list_optimized = [\n",
    "    bi_13_optimized_args_starting + [f\"{BI_13_OPTIMIZED_Q_PRE}/{task_name}.txt\"]\n",
    "    for task_name in task_names\n",
    "]"
   ]
  },
  {
   "cell_type": "code",
   "execution_count": 9,
   "metadata": {},
   "outputs": [
    {
     "name": "stdout",
     "output_type": "stream",
     "text": [
      ">>> Running: India,post...\n",
      "    Data file: ./out/optimized/data_graph.txt\n",
      "    Query file: ./out/optimized/BI_13/India,post.txt\n",
      "    Output file: \n",
      "    Sum of |C(u)|: 159722\n",
      "    Total Recursive Call Count: 2\n",
      "    Number of Matches: 100064\n",
      "    Filtering Time (ms): 155.573\n",
      "    Verification Time (ms): 312.022\n",
      "    Processing Time (ms): 467.595\n",
      "<<< Done!\n",
      ">>> Running: India,comment...\n",
      "    Data file: ./out/optimized/data_graph.txt\n",
      "    Query file: ./out/optimized/BI_13/India,comment.txt\n",
      "    Output file: \n",
      "    Sum of |C(u)|: 367429\n",
      "    Total Recursive Call Count: 2\n",
      "    Number of Matches: 100268\n",
      "    Filtering Time (ms): 753.295\n",
      "    Verification Time (ms): 342.004\n",
      "    Processing Time (ms): 1095.3\n",
      "<<< Done!\n",
      ">>> Running: China,post...\n",
      "    Data file: ./out/optimized/data_graph.txt\n",
      "    Query file: ./out/optimized/BI_13/China,post.txt\n",
      "    Output file: \n",
      "    Sum of |C(u)|: 159722\n",
      "    Total Recursive Call Count: 2\n",
      "    Number of Matches: 100064\n",
      "    Filtering Time (ms): 145.031\n",
      "    Verification Time (ms): 289.041\n",
      "    Processing Time (ms): 434.072\n",
      "<<< Done!\n",
      ">>> Running: China,comment...\n",
      "    Data file: ./out/optimized/data_graph.txt\n",
      "    Query file: ./out/optimized/BI_13/China,comment.txt\n",
      "    Output file: \n",
      "    Sum of |C(u)|: 367429\n",
      "    Total Recursive Call Count: 2\n",
      "    Number of Matches: 100268\n",
      "    Filtering Time (ms): 822.178\n",
      "    Verification Time (ms): 254.433\n",
      "    Processing Time (ms): 1076.61\n",
      "<<< Done!\n"
     ]
    }
   ],
   "source": [
    "\"\"\" exec \"\"\"\n",
    "\n",
    "time_table_optimized = []\n",
    "\n",
    "result_path_list_optimized = [\n",
    "    f\"{BI_13_OPTIMIZED_L_PRE}/{task_name}.txt\" for task_name in task_names\n",
    "]\n",
    "\n",
    "run_multiple_veq_m_100k(\n",
    "    result_path_list_optimized,\n",
    "    task_names,\n",
    "    args_list_optimized,\n",
    "    time_table_optimized,\n",
    ")"
   ]
  },
  {
   "cell_type": "code",
   "execution_count": 10,
   "metadata": {},
   "outputs": [
    {
     "name": "stdout",
     "output_type": "stream",
     "text": [
      "Comparison between: `original_match` & `optimized_match`\n"
     ]
    },
    {
     "data": {
      "text/html": [
       "<div><style>\n",
       ".dataframe > thead > tr,\n",
       ".dataframe > tbody > tr {\n",
       "  text-align: right;\n",
       "  white-space: pre-wrap;\n",
       "}\n",
       "</style>\n",
       "<small>shape: (4, 3)</small><table border=\"1\" class=\"dataframe\"><thead><tr><th>task</th><th>original (ms)</th><th>optimized (ms)</th></tr><tr><td>str</td><td>f64</td><td>f64</td></tr></thead><tbody><tr><td>&quot;India,post&quot;</td><td>376.55</td><td>467.595</td></tr><tr><td>&quot;India,comment&quot;</td><td>834.056</td><td>1095.3</td></tr><tr><td>&quot;China,post&quot;</td><td>346.757</td><td>434.072</td></tr><tr><td>&quot;China,comment&quot;</td><td>664.383</td><td>1076.61</td></tr></tbody></table></div>"
      ],
      "text/plain": [
       "shape: (4, 3)\n",
       "┌───────────────┬───────────────┬────────────────┐\n",
       "│ task          ┆ original (ms) ┆ optimized (ms) │\n",
       "│ ---           ┆ ---           ┆ ---            │\n",
       "│ str           ┆ f64           ┆ f64            │\n",
       "╞═══════════════╪═══════════════╪════════════════╡\n",
       "│ India,post    ┆ 376.55        ┆ 467.595        │\n",
       "│ India,comment ┆ 834.056       ┆ 1095.3         │\n",
       "│ China,post    ┆ 346.757       ┆ 434.072        │\n",
       "│ China,comment ┆ 664.383       ┆ 1076.61        │\n",
       "└───────────────┴───────────────┴────────────────┘"
      ]
     },
     "execution_count": 10,
     "metadata": {},
     "output_type": "execute_result"
    }
   ],
   "source": [
    "\"\"\" Show BI-13 `comparison data-frame` \"\"\"\n",
    "\n",
    "print(\"Comparison between: `original_match` & `optimized_match`\")\n",
    "\n",
    "df = pl.DataFrame(\n",
    "    {\n",
    "        \"task\": task_names,\n",
    "        \"original (ms)\": time_table,\n",
    "        \"optimized (ms)\": time_table_optimized,\n",
    "    }\n",
    ")\n",
    "df"
   ]
  }
 ],
 "metadata": {
  "kernelspec": {
   "display_name": "base",
   "language": "python",
   "name": "python3"
  },
  "language_info": {
   "codemirror_mode": {
    "name": "ipython",
    "version": 3
   },
   "file_extension": ".py",
   "mimetype": "text/x-python",
   "name": "python",
   "nbconvert_exporter": "python",
   "pygments_lexer": "ipython3",
   "version": "3.11.4"
  }
 },
 "nbformat": 4,
 "nbformat_minor": 2
}
