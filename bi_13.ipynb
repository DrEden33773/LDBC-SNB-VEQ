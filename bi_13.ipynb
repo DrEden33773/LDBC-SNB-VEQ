{
 "cells": [
  {
   "cell_type": "markdown",
   "metadata": {},
   "source": [
    "# BI 13\n"
   ]
  },
  {
   "cell_type": "code",
   "execution_count": 1,
   "metadata": {},
   "outputs": [],
   "source": [
    "from dg_builder import *"
   ]
  },
  {
   "cell_type": "markdown",
   "metadata": {},
   "source": [
    "> comment/post -> person -> city -> country\n"
   ]
  },
  {
   "cell_type": "code",
   "execution_count": 2,
   "metadata": {},
   "outputs": [
    {
     "name": "stderr",
     "output_type": "stream",
     "text": [
      "Mapping `origin_id` to `uni_id`: 100%|██████████| 3181724/3181724 [00:02<00:00, 1123590.75it/s]\n",
      "Build map of `vertex.uni_id -> label`: 100%|██████████| 3181724/3181724 [00:01<00:00, 1615325.44it/s]\n",
      "Build edges in format: `(src_id, dst_id)`: 100%|██████████| 17256038/17256038 [00:13<00:00, 1290036.15it/s]"
     ]
    },
    {
     "name": "stdout",
     "output_type": "stream",
     "text": [
      "File `./out/original/data_graph.txt` already exists\n"
     ]
    },
    {
     "name": "stderr",
     "output_type": "stream",
     "text": [
      "\n"
     ]
    }
   ],
   "source": [
    "\"\"\" build `original data graph` \"\"\"\n",
    "\n",
    "build_original_dg(\n",
    "    original_dg_filepath=BI_13_DG, optimized_dg_filepath=BI_13_DG_OPTIMIZED\n",
    ")"
   ]
  },
  {
   "cell_type": "code",
   "execution_count": 3,
   "metadata": {},
   "outputs": [
    {
     "name": "stderr",
     "output_type": "stream",
     "text": [
      "Adding `index edge` into `edges`: 100%|██████████| 3055774/3055774 [00:02<00:00, 1045270.46it/s]\n",
      "Writing `labels` into `./out/optimized/BI_13/data_graph.txt`: 100%|██████████| 3181724/3181724 [00:01<00:00, 1918687.99it/s]\n",
      "Writing `edges` into `./out/optimized/BI_13/data_graph.txt`: 100%|██████████| 17367336/17367336 [00:16<00:00, 1067022.89it/s]\n"
     ]
    }
   ],
   "source": [
    "\"\"\" build `optimized data graph` \"\"\"\n",
    "\n",
    "index_csv_filenames = [\n",
    "    \"comment_person_city_country\",\n",
    "    \"post_person_city_country\",\n",
    "]\n",
    "\n",
    "build_optimized_dg(\n",
    "    optimized_dg_filepath=BI_13_DG_OPTIMIZED,\n",
    "    index_csv_filenames=index_csv_filenames,\n",
    ")"
   ]
  },
  {
   "cell_type": "markdown",
   "metadata": {},
   "source": [
    "## Original\n"
   ]
  },
  {
   "cell_type": "code",
   "execution_count": 4,
   "metadata": {},
   "outputs": [
    {
     "data": {
      "text/plain": [
       "QueryBuilder {\n",
       "    edges: [(0, 1), (1, 2), (2, 3)],\n",
       "    labels: ['message', 'person', 'city', 'country'],\n",
       "    raw_task_names: [['comment'], ['post']],\n",
       "    QG_PRE: ./out/original/BI_13,\n",
       "    LOG_PRE: ./log/original/BI_13,\n",
       "    args_starting: ['wsl', './VEQ_M_100k', '-dg', './out/original/data_graph.txt', '-qg'],\n",
       "    replace_indices: [0],\n",
       "    replace_wrapper: <function QueryBuilder.<lambda> at 0x00000189FBACD120>,\n",
       "    kwargs: {'comment': QGMetaRecord(labels=['comment', 'person', 'city', 'country'], edges=[(0, 1), (1, 2), (2, 3)]), 'post': QGMetaRecord(labels=['post', 'person', 'city', 'country'], edges=[(0, 1), (1, 2), (2, 3)])},\n",
       "}"
      ]
     },
     "execution_count": 4,
     "metadata": {},
     "output_type": "execute_result"
    }
   ],
   "source": [
    "edges = [(0, 1), (1, 2), (2, 3)]\n",
    "labels_template = [\"message\", \"person\", \"city\", \"country\"]\n",
    "task_names = [[\"comment\"], [\"post\"]]\n",
    "\n",
    "original_builder = QueryBuilder(\n",
    "    edges=edges,\n",
    "    labels=labels_template,\n",
    "    raw_task_names=task_names,\n",
    "    QG_PRE=BI_13_ORIGINAL_Q_PRE,\n",
    "    LOG_PRE=BI_13_ORIGINAL_L_PRE,\n",
    "    args_starting=bi_13_original_args_starting,\n",
    "    kwargs={},\n",
    ")\n",
    "\n",
    "original_builder.with_replace_indices([0]).build()"
   ]
  },
  {
   "cell_type": "code",
   "execution_count": 5,
   "metadata": {},
   "outputs": [
    {
     "name": "stdout",
     "output_type": "stream",
     "text": [
      ">>> Running: comment...\n",
      "    Data file: ./out/original/data_graph.txt\n",
      "    Query file: ./out/original/BI_13/comment.txt\n",
      "    Output file: \n",
      "    Sum of |C(u)|: 1217796\n",
      "    Total Recursive Call Count: 87\n",
      "    Number of Matches: 100065\n",
      "    Filtering Time (ms): 1907.83\n",
      "    Verification Time (ms): 322.792\n",
      "    Processing Time (ms): 2230.62\n",
      "<<< Done! (Outer Elapsed Time: 20972.1454 ms)\n",
      ">>> Running: post...\n",
      "    Data file: ./out/original/data_graph.txt\n",
      "    Query file: ./out/original/BI_13/post.txt\n",
      "    Output file: \n",
      "    Sum of |C(u)|: 621696\n",
      "    Total Recursive Call Count: 149\n",
      "    Number of Matches: 100173\n",
      "    Filtering Time (ms): 340.436\n",
      "    Verification Time (ms): 330.228\n",
      "    Processing Time (ms): 670.664\n",
      "<<< Done! (Outer Elapsed Time: 15209.0357 ms)\n"
     ]
    }
   ],
   "source": [
    "\"\"\" exec \"\"\"\n",
    "\n",
    "time_table, outer_time_table = original_builder.run_with_elapsed_time_table_ret()\n",
    "assert len(time_table) == 2 and len(outer_time_table) == 2"
   ]
  },
  {
   "cell_type": "markdown",
   "metadata": {},
   "source": [
    "## Optimized\n"
   ]
  },
  {
   "cell_type": "code",
   "execution_count": 6,
   "metadata": {},
   "outputs": [
    {
     "data": {
      "text/plain": [
       "QueryBuilder {\n",
       "    edges: [(0, 1)],\n",
       "    labels: ['message', 'country'],\n",
       "    raw_task_names: [['comment'], ['post']],\n",
       "    QG_PRE: ./out/optimized/BI_13,\n",
       "    LOG_PRE: ./log/optimized/BI_13,\n",
       "    args_starting: ['wsl', './VEQ_M_100k', '-dg', './out/optimized/BI_13/data_graph.txt', '-qg'],\n",
       "    replace_indices: [0],\n",
       "    replace_wrapper: <function QueryBuilder.<lambda> at 0x00000189FBACD120>,\n",
       "    kwargs: {'comment': QGMetaRecord(labels=['comment', 'country'], edges=[(0, 1)]), 'post': QGMetaRecord(labels=['post', 'country'], edges=[(0, 1)])},\n",
       "}"
      ]
     },
     "execution_count": 6,
     "metadata": {},
     "output_type": "execute_result"
    }
   ],
   "source": [
    "\"\"\" labels & edges \"\"\"\n",
    "\n",
    "edges_optimized: list[tuple[int, int]] = [(0, 1)]\n",
    "labels_template_optimized = [\"message\", \"country\"]\n",
    "task_names_optimized = task_names\n",
    "\n",
    "optimized_builder = QueryBuilder(\n",
    "    edges=edges_optimized,\n",
    "    labels=labels_template_optimized,\n",
    "    raw_task_names=task_names_optimized,\n",
    "    QG_PRE=BI_13_OPTIMIZED_Q_PRE,\n",
    "    LOG_PRE=BI_13_OPTIMIZED_L_PRE,\n",
    "    args_starting=bi_13_optimized_args_starting,\n",
    "    kwargs={},\n",
    ")\n",
    "\n",
    "optimized_builder.with_replace_indices([0]).build()"
   ]
  },
  {
   "cell_type": "code",
   "execution_count": 7,
   "metadata": {},
   "outputs": [
    {
     "name": "stdout",
     "output_type": "stream",
     "text": [
      ">>> Running: comment...\n",
      "    Data file: ./out/optimized/BI_13/data_graph.txt\n",
      "    Query file: ./out/optimized/BI_13/comment.txt\n",
      "    Output file: \n",
      "    Sum of |C(u)|: 1221401\n",
      "<<< Done! (Outer Elapsed Time: 16041.6358 ms)\n",
      "--- Warning: No `Processing Time (ms)` detected in `task(comment)` (`Outer Elapsed Time` is NOT accurate). ---\n",
      "--- ^^^^^^^^ `time_table` will be filled with `float(\"NaN\")` only for marking. ---\n",
      ">>> Running: post...\n",
      "    Data file: ./out/optimized/BI_13/data_graph.txt\n",
      "    Query file: ./out/optimized/BI_13/post.txt\n",
      "    Output file: \n",
      "    Sum of |C(u)|: 610387\n",
      "<<< Done! (Outer Elapsed Time: 14213.2384 ms)\n",
      "--- Warning: No `Processing Time (ms)` detected in `task(post)` (`Outer Elapsed Time` is NOT accurate). ---\n",
      "--- ^^^^^^^^ `time_table` will be filled with `float(\"NaN\")` only for marking. ---\n"
     ]
    }
   ],
   "source": [
    "\"\"\" exec \"\"\"\n",
    "\n",
    "time_table_optimized, outer_time_table_optimized = (\n",
    "    optimized_builder.run_with_elapsed_time_table_ret()\n",
    ")\n",
    "assert len(time_table_optimized) == 2 and len(outer_time_table_optimized) == 2"
   ]
  },
  {
   "cell_type": "code",
   "execution_count": 8,
   "metadata": {},
   "outputs": [
    {
     "name": "stdout",
     "output_type": "stream",
     "text": [
      "Comparison between: `original_match` & `optimized_match`\n"
     ]
    },
    {
     "data": {
      "text/html": [
       "<div><style>\n",
       ".dataframe > thead > tr,\n",
       ".dataframe > tbody > tr {\n",
       "  text-align: right;\n",
       "  white-space: pre-wrap;\n",
       "}\n",
       "</style>\n",
       "<small>shape: (2, 5)</small><table border=\"1\" class=\"dataframe\"><thead><tr><th>task</th><th>original (ms)</th><th>optimized (ms)</th><th>original outer (ms)</th><th>optimized outer (ms)</th></tr><tr><td>list[str]</td><td>f64</td><td>f64</td><td>f64</td><td>f64</td></tr></thead><tbody><tr><td>[&quot;comment&quot;]</td><td>2230.62</td><td>NaN</td><td>20972.1454</td><td>16041.6358</td></tr><tr><td>[&quot;post&quot;]</td><td>670.664</td><td>NaN</td><td>15209.0357</td><td>14213.2384</td></tr></tbody></table></div>"
      ],
      "text/plain": [
       "shape: (2, 5)\n",
       "┌─────────────┬───────────────┬────────────────┬─────────────────────┬──────────────────────┐\n",
       "│ task        ┆ original (ms) ┆ optimized (ms) ┆ original outer (ms) ┆ optimized outer (ms) │\n",
       "│ ---         ┆ ---           ┆ ---            ┆ ---                 ┆ ---                  │\n",
       "│ list[str]   ┆ f64           ┆ f64            ┆ f64                 ┆ f64                  │\n",
       "╞═════════════╪═══════════════╪════════════════╪═════════════════════╪══════════════════════╡\n",
       "│ [\"comment\"] ┆ 2230.62       ┆ NaN            ┆ 20972.1454          ┆ 16041.6358           │\n",
       "│ [\"post\"]    ┆ 670.664       ┆ NaN            ┆ 15209.0357          ┆ 14213.2384           │\n",
       "└─────────────┴───────────────┴────────────────┴─────────────────────┴──────────────────────┘"
      ]
     },
     "execution_count": 8,
     "metadata": {},
     "output_type": "execute_result"
    }
   ],
   "source": [
    "\"\"\" Show `comparison data-frame` \"\"\"\n",
    "\n",
    "print(\"Comparison between: `original_match` & `optimized_match`\")\n",
    "\n",
    "df = pl.DataFrame(\n",
    "    {\n",
    "        \"task\": task_names,\n",
    "        \"original (ms)\": time_table,\n",
    "        \"optimized (ms)\": time_table_optimized,\n",
    "        \"original outer (ms)\": outer_time_table,\n",
    "        \"optimized outer (ms)\": outer_time_table_optimized,\n",
    "    }\n",
    ")\n",
    "df"
   ]
  }
 ],
 "metadata": {
  "kernelspec": {
   "display_name": "base",
   "language": "python",
   "name": "python3"
  },
  "language_info": {
   "codemirror_mode": {
    "name": "ipython",
    "version": 3
   },
   "file_extension": ".py",
   "mimetype": "text/x-python",
   "name": "python",
   "nbconvert_exporter": "python",
   "pygments_lexer": "ipython3",
   "version": "3.11.4"
  }
 },
 "nbformat": 4,
 "nbformat_minor": 2
}
