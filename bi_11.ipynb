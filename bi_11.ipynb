{
 "cells": [
  {
   "cell_type": "markdown",
   "metadata": {},
   "source": [
    "# BI 11\n"
   ]
  },
  {
   "cell_type": "code",
   "execution_count": 7,
   "metadata": {},
   "outputs": [],
   "source": [
    "from prelude import *"
   ]
  },
  {
   "cell_type": "markdown",
   "metadata": {},
   "source": [
    "## Original QG Build\n"
   ]
  },
  {
   "cell_type": "code",
   "execution_count": 8,
   "metadata": {},
   "outputs": [],
   "source": [
    "\"\"\" Build `India` and `China` query graph \"\"\"\n",
    "\n",
    "china_query_graph_labels = [BaseLabel.Country + \"China\"] + [\"city\"] * 3 + [\"person\"] * 3\n",
    "china_query_graph_edges = [\n",
    "    (1, 0),\n",
    "    (2, 0),\n",
    "    (3, 0),\n",
    "    (4, 1),\n",
    "    (5, 2),\n",
    "    (6, 3),\n",
    "    (4, 5),\n",
    "    (5, 6),\n",
    "    (6, 4),\n",
    "]\n",
    "\n",
    "india_query_graph_labels = [BaseLabel.Country + \"India\"] + [\"city\"] * 3 + [\"person\"] * 3\n",
    "india_query_graph_edges = china_query_graph_edges\n",
    "\n",
    "if not os.path.exists(BI_11_CHINA_QG):\n",
    "    with open(BI_11_CHINA_QG, \"w\") as f:\n",
    "        f.write(\"#0\\n\")\n",
    "        f.write(f\"{len(china_query_graph_labels)}\\n\")\n",
    "        [f.write(f\"{label}\\n\") for label in china_query_graph_labels]\n",
    "        f.write(f\"{len(china_query_graph_edges)}\\n\")\n",
    "        [f.write(f\"{src} {dst}\\n\") for src, dst in china_query_graph_edges]\n",
    "\n",
    "if not os.path.exists(BI_11_INDIA_QG):\n",
    "    with open(BI_11_INDIA_QG, \"w\") as f:\n",
    "        f.write(\"#0\\n\")\n",
    "        f.write(f\"{len(india_query_graph_labels)}\\n\")\n",
    "        [f.write(f\"{label}\\n\") for label in india_query_graph_labels]\n",
    "        f.write(f\"{len(india_query_graph_edges)}\\n\")\n",
    "        [f.write(f\"{src} {dst}\\n\") for src, dst in india_query_graph_edges]"
   ]
  },
  {
   "cell_type": "markdown",
   "metadata": {},
   "source": [
    "## Optimized QG Build\n"
   ]
  },
  {
   "cell_type": "code",
   "execution_count": 9,
   "metadata": {},
   "outputs": [],
   "source": [
    "\"\"\" Build `India` and `China` query graph \"\"\"\n",
    "\n",
    "china_query_graph_labels = [BaseLabel.Country + \"China\"] + [\"person\"] * 3\n",
    "china_query_graph_edges = [\n",
    "    (1, 0),\n",
    "    (2, 0),\n",
    "    (3, 0),\n",
    "    (1, 2),\n",
    "    (2, 3),\n",
    "    (3, 1),\n",
    "]\n",
    "\n",
    "india_query_graph_labels = [BaseLabel.Country + \"India\"] + [\"person\"] * 3\n",
    "india_query_graph_edges = china_query_graph_edges\n",
    "\n",
    "if not os.path.exists(BI_11_CHINA_QG_OPTIMIZED):\n",
    "    with open(BI_11_CHINA_QG_OPTIMIZED, \"w\") as f:\n",
    "        f.write(\"#0\\n\")\n",
    "        f.write(f\"{len(china_query_graph_labels)}\\n\")\n",
    "        [f.write(f\"{label}\\n\") for label in china_query_graph_labels]\n",
    "        f.write(f\"{len(china_query_graph_edges)}\\n\")\n",
    "        [f.write(f\"{src} {dst}\\n\") for src, dst in china_query_graph_edges]\n",
    "\n",
    "if not os.path.exists(BI_11_INDIA_QG_OPTIMIZED):\n",
    "    with open(BI_11_INDIA_QG_OPTIMIZED, \"w\") as f:\n",
    "        f.write(\"#0\\n\")\n",
    "        f.write(f\"{len(india_query_graph_labels)}\\n\")\n",
    "        [f.write(f\"{label}\\n\") for label in india_query_graph_labels]\n",
    "        f.write(f\"{len(india_query_graph_edges)}\\n\")\n",
    "        [f.write(f\"{src} {dst}\\n\") for src, dst in india_query_graph_edges]"
   ]
  },
  {
   "cell_type": "markdown",
   "metadata": {},
   "source": [
    "## Execute `Query`\n"
   ]
  },
  {
   "cell_type": "code",
   "execution_count": 10,
   "metadata": {},
   "outputs": [
    {
     "name": "stdout",
     "output_type": "stream",
     "text": [
      "File `./log/original/BI_11/china_match_result.txt` already exists\n",
      "    last_line ~> Processing Time (ms): 5869.19\n",
      "\n",
      "File `./log/original/BI_11/india_match_result.txt` already exists\n",
      "    last_line ~> Processing Time (ms): 6104.81\n",
      "\n",
      "File `./log/optimized/BI_11/china_match_result.txt` already exists\n",
      "    last_line ~> Processing Time (ms): 2969.95\n",
      "\n",
      "File `./log/optimized/BI_11/india_match_result.txt` already exists\n",
      "    last_line ~> Processing Time (ms): 2825.75\n",
      "\n"
     ]
    }
   ],
   "source": [
    "\"\"\" Exec `match` on `original` \"\"\"\n",
    "\n",
    "bi_11_original_time_table = []\n",
    "\n",
    "run_veq_m_100k(\n",
    "    BI_11_ORIGINAL_CHINA_RES,\n",
    "    \"original_china_match\",\n",
    "    original_china_match_args,\n",
    "    bi_11_original_time_table,\n",
    ")\n",
    "run_veq_m_100k(\n",
    "    BI_11_ORIGINAL_INDIA_RES,\n",
    "    \"original_india_match\",\n",
    "    original_india_match_args,\n",
    "    bi_11_original_time_table,\n",
    ")\n",
    "\n",
    "\"\"\" Exec `match` on `optimized` \"\"\"\n",
    "\n",
    "bi_11_optimized_time_table = []\n",
    "\n",
    "run_veq_m_100k(\n",
    "    BI_11_OPTIMIZED_CHINA_RES,\n",
    "    \"optimized_china_match\",\n",
    "    optimized_china_match_args,\n",
    "    bi_11_optimized_time_table,\n",
    ")\n",
    "run_veq_m_100k(\n",
    "    BI_11_OPTIMIZED_INDIA_RES,\n",
    "    \"optimized_india_match\",\n",
    "    optimized_india_match_args,\n",
    "    bi_11_optimized_time_table,\n",
    ")"
   ]
  },
  {
   "cell_type": "code",
   "execution_count": 11,
   "metadata": {},
   "outputs": [
    {
     "name": "stdout",
     "output_type": "stream",
     "text": [
      "Comparison between: `original_china/india_match` & `optimized_china/india_match`\n"
     ]
    },
    {
     "data": {
      "text/html": [
       "<div><style>\n",
       ".dataframe > thead > tr,\n",
       ".dataframe > tbody > tr {\n",
       "  text-align: right;\n",
       "  white-space: pre-wrap;\n",
       "}\n",
       "</style>\n",
       "<small>shape: (2, 3)</small><table border=\"1\" class=\"dataframe\"><thead><tr><th>task</th><th>original (ms)</th><th>optimized (ms)</th></tr><tr><td>str</td><td>f64</td><td>f64</td></tr></thead><tbody><tr><td>&quot;china_match&quot;</td><td>5869.19</td><td>2969.95</td></tr><tr><td>&quot;india_match&quot;</td><td>6104.81</td><td>2825.75</td></tr></tbody></table></div>"
      ],
      "text/plain": [
       "shape: (2, 3)\n",
       "┌─────────────┬───────────────┬────────────────┐\n",
       "│ task        ┆ original (ms) ┆ optimized (ms) │\n",
       "│ ---         ┆ ---           ┆ ---            │\n",
       "│ str         ┆ f64           ┆ f64            │\n",
       "╞═════════════╪═══════════════╪════════════════╡\n",
       "│ china_match ┆ 5869.19       ┆ 2969.95        │\n",
       "│ india_match ┆ 6104.81       ┆ 2825.75        │\n",
       "└─────────────┴───────────────┴────────────────┘"
      ]
     },
     "execution_count": 11,
     "metadata": {},
     "output_type": "execute_result"
    }
   ],
   "source": [
    "\"\"\" Show BI-11 `comparison data-frame` \"\"\"\n",
    "\n",
    "print(\n",
    "    \"Comparison between: `original_china/india_match` & `optimized_china/india_match`\"\n",
    ")\n",
    "\n",
    "df = pl.DataFrame(\n",
    "    {\n",
    "        \"task\": [\"china_match\", \"india_match\"],\n",
    "        \"original (ms)\": bi_11_original_time_table,\n",
    "        \"optimized (ms)\": bi_11_optimized_time_table,\n",
    "    }\n",
    ")\n",
    "df"
   ]
  }
 ],
 "metadata": {
  "kernelspec": {
   "display_name": "base",
   "language": "python",
   "name": "python3"
  },
  "language_info": {
   "codemirror_mode": {
    "name": "ipython",
    "version": 3
   },
   "file_extension": ".py",
   "mimetype": "text/x-python",
   "name": "python",
   "nbconvert_exporter": "python",
   "pygments_lexer": "ipython3",
   "version": "3.11.4"
  }
 },
 "nbformat": 4,
 "nbformat_minor": 2
}
