{
 "cells": [
  {
   "cell_type": "markdown",
   "metadata": {},
   "source": [
    "# BI 11\n"
   ]
  },
  {
   "cell_type": "code",
   "execution_count": 1,
   "metadata": {},
   "outputs": [],
   "source": [
    "from dg_builder import *"
   ]
  },
  {
   "cell_type": "code",
   "execution_count": 2,
   "metadata": {},
   "outputs": [
    {
     "name": "stderr",
     "output_type": "stream",
     "text": [
      "Mapping `origin_id` to `uni_id`: 100%|██████████| 3181724/3181724 [00:02<00:00, 1088159.17it/s]\n",
      "Build map of `vertex.uni_id -> label`: 100%|██████████| 3181724/3181724 [00:01<00:00, 1612742.41it/s]\n",
      "Build edges in format: `(src_id, dst_id)`: 100%|██████████| 17256038/17256038 [00:13<00:00, 1236264.96it/s]"
     ]
    },
    {
     "name": "stdout",
     "output_type": "stream",
     "text": [
      "File `./out/original/data_graph.txt` already exists\n"
     ]
    },
    {
     "name": "stderr",
     "output_type": "stream",
     "text": [
      "\n"
     ]
    }
   ],
   "source": [
    "\"\"\" build `original data graph` \"\"\"\n",
    "\n",
    "build_original_dg(\n",
    "    original_dg_filepath=BI_11_DG, optimized_dg_filepath=BI_11_DG_OPTIMIZED\n",
    ")"
   ]
  },
  {
   "cell_type": "code",
   "execution_count": 3,
   "metadata": {},
   "outputs": [
    {
     "name": "stderr",
     "output_type": "stream",
     "text": [
      "Adding `index edge` into `edges`: 100%|██████████| 7949/7949 [00:00<00:00, 772844.75it/s]\n",
      "Writing `labels` into `./out/optimized/BI_11/data_graph.txt`: 100%|██████████| 3181724/3181724 [00:01<00:00, 1798285.45it/s]\n",
      "Writing `edges` into `./out/optimized/BI_11/data_graph.txt`: 100%|██████████| 17263982/17263982 [00:18<00:00, 933585.94it/s] \n"
     ]
    }
   ],
   "source": [
    "\"\"\" build `optimized data graph` \"\"\"\n",
    "\n",
    "index_csv_filenames = [\"person_city_country\"]\n",
    "\n",
    "build_optimized_dg(\n",
    "    optimized_dg_filepath=BI_11_DG_OPTIMIZED,\n",
    "    index_csv_filenames=index_csv_filenames,\n",
    ")"
   ]
  },
  {
   "cell_type": "markdown",
   "metadata": {},
   "source": [
    "## Original\n"
   ]
  },
  {
   "cell_type": "code",
   "execution_count": 4,
   "metadata": {},
   "outputs": [
    {
     "data": {
      "text/plain": [
       "QueryBuilder {\n",
       "    edges: [(0, 1), (1, 2), (2, 0), (0, 3), (1, 4), (2, 5), (3, 6), (4, 6), (5, 6)],\n",
       "    labels: ['person', 'person', 'person', 'city', 'city', 'city', 'country'],\n",
       "    raw_task_names: [['person^-city~country']],\n",
       "    QG_PRE: ./out/original/BI_11,\n",
       "    LOG_PRE: ./log/original/BI_11,\n",
       "    args_starting: ['wsl', './VEQ_M_100k', '-dg', './out/original/data_graph.txt', '-qg'],\n",
       "    replace_indices: [],\n",
       "    replace_wrapper: <function QueryBuilder.<lambda> at 0x00000200C4E7D120>,\n",
       "    kwargs: {'person^-city~country': QGMetaRecord(labels=['person', 'person', 'person', 'city', 'city', 'city', 'country'], edges=[(0, 1), (1, 2), (2, 0), (0, 3), (1, 4), (2, 5), (3, 6), (4, 6), (5, 6)])},\n",
       "}"
      ]
     },
     "execution_count": 4,
     "metadata": {},
     "output_type": "execute_result"
    }
   ],
   "source": [
    "\"\"\" labels & edges \"\"\"\n",
    "\n",
    "edges = [(0, 1), (1, 2), (2, 0)] + [(0, 3), (1, 4), (2, 5)] + [(3, 6), (4, 6), (5, 6)]\n",
    "labels_template = [\"person\"] * 3 + [\"city\"] * 3 + [\"country\"]\n",
    "task_names = [[\"person^-city~country\"]]\n",
    "\n",
    "original_builder = QueryBuilder(\n",
    "    edges=edges,\n",
    "    labels=labels_template,\n",
    "    raw_task_names=task_names,\n",
    "    QG_PRE=BI_11_ORIGINAL_Q_PRE,\n",
    "    LOG_PRE=BI_11_ORIGINAL_L_PRE,\n",
    "    args_starting=bi_11_original_args_starting,\n",
    "    kwargs={},\n",
    ")\n",
    "\n",
    "original_builder.build()"
   ]
  },
  {
   "cell_type": "code",
   "execution_count": 5,
   "metadata": {},
   "outputs": [
    {
     "name": "stdout",
     "output_type": "stream",
     "text": [
      ">>> Running: person^-city~country...\n",
      "    Data file: ./out/original/data_graph.txt\n",
      "    Query file: ./out/original/BI_11/person^-city~country.txt\n",
      "    Output file: \n",
      "    Sum of |C(u)|: 16553\n",
      "    Total Recursive Call Count: 154296\n",
      "    Number of Matches: 100000\n",
      "    Filtering Time (ms): 101.666\n",
      "    Verification Time (ms): 9227.58\n",
      "    Processing Time (ms): 9329.24\n",
      "<<< Done! (Outer Elapsed Time: 29680.0744 ms)\n"
     ]
    }
   ],
   "source": [
    "\"\"\" exec \"\"\"\n",
    "\n",
    "time_table, outer_time_table = original_builder.run_with_elapsed_time_table_ret()\n",
    "assert len(time_table) == 1 and len(outer_time_table) == 1"
   ]
  },
  {
   "cell_type": "markdown",
   "metadata": {},
   "source": [
    "## Optimized\n"
   ]
  },
  {
   "cell_type": "code",
   "execution_count": 6,
   "metadata": {},
   "outputs": [
    {
     "data": {
      "text/plain": [
       "QueryBuilder {\n",
       "    edges: [(0, 1), (1, 2), (2, 0), (0, 3), (1, 3), (2, 3)],\n",
       "    labels: ['person', 'person', 'person', 'country'],\n",
       "    raw_task_names: [['person^~country']],\n",
       "    QG_PRE: ./out/optimized/BI_11,\n",
       "    LOG_PRE: ./log/optimized/BI_11,\n",
       "    args_starting: ['wsl', './VEQ_M_100k', '-dg', './out/optimized/BI_11/data_graph.txt', '-qg'],\n",
       "    replace_indices: [],\n",
       "    replace_wrapper: <function QueryBuilder.<lambda> at 0x00000200C4E7D120>,\n",
       "    kwargs: {'person^~country': QGMetaRecord(labels=['person', 'person', 'person', 'country'], edges=[(0, 1), (1, 2), (2, 0), (0, 3), (1, 3), (2, 3)])},\n",
       "}"
      ]
     },
     "execution_count": 6,
     "metadata": {},
     "output_type": "execute_result"
    }
   ],
   "source": [
    "\"\"\" labels & edges \"\"\"\n",
    "\n",
    "edges_optimized = [(0, 1), (1, 2), (2, 0)] + [(0, 3), (1, 3), (2, 3)]\n",
    "labels_template_optimized = [\"person\"] * 3 + [\"country\"]\n",
    "task_names_optimized = [[\"person^~country\"]]\n",
    "\n",
    "optimized_builder = QueryBuilder(\n",
    "    edges=edges_optimized,\n",
    "    labels=labels_template_optimized,\n",
    "    raw_task_names=task_names_optimized,\n",
    "    QG_PRE=BI_11_OPTIMIZED_Q_PRE,\n",
    "    LOG_PRE=BI_11_OPTIMIZED_L_PRE,\n",
    "    args_starting=bi_11_optimized_args_starting,\n",
    "    kwargs={},\n",
    ")\n",
    "\n",
    "optimized_builder.build()"
   ]
  },
  {
   "cell_type": "code",
   "execution_count": 7,
   "metadata": {},
   "outputs": [
    {
     "name": "stdout",
     "output_type": "stream",
     "text": [
      ">>> Running: person^~country...\n",
      "    Data file: ./out/optimized/BI_11/data_graph.txt\n",
      "    Query file: ./out/optimized/BI_11/person^~country.txt\n",
      "    Output file: \n",
      "    Sum of |C(u)|: 11928\n",
      "    Total Recursive Call Count: 22687\n",
      "    Number of Matches: 75570\n",
      "    Filtering Time (ms): 77.824\n",
      "    Verification Time (ms): 2642.24\n",
      "    Processing Time (ms): 2720.06\n",
      "<<< Done! (Outer Elapsed Time: 18133.2707 ms)\n"
     ]
    }
   ],
   "source": [
    "\"\"\" exec \"\"\"\n",
    "\n",
    "time_table_optimized, outer_time_table_optimized = (\n",
    "    optimized_builder.run_with_elapsed_time_table_ret()\n",
    ")\n",
    "assert len(time_table_optimized) == 1 and len(outer_time_table_optimized) == 1"
   ]
  },
  {
   "cell_type": "code",
   "execution_count": 8,
   "metadata": {},
   "outputs": [
    {
     "name": "stdout",
     "output_type": "stream",
     "text": [
      "Comparison between: `original_match` & `optimized_match`\n"
     ]
    },
    {
     "data": {
      "text/html": [
       "<div><style>\n",
       ".dataframe > thead > tr,\n",
       ".dataframe > tbody > tr {\n",
       "  text-align: right;\n",
       "  white-space: pre-wrap;\n",
       "}\n",
       "</style>\n",
       "<small>shape: (1, 5)</small><table border=\"1\" class=\"dataframe\"><thead><tr><th>task</th><th>original (ms)</th><th>optimized (ms)</th><th>original outer (ms)</th><th>optimized outer (ms)</th></tr><tr><td>list[str]</td><td>f64</td><td>f64</td><td>f64</td><td>f64</td></tr></thead><tbody><tr><td>[&quot;person^-city~country&quot;]</td><td>9329.24</td><td>2720.06</td><td>29680.0744</td><td>18133.2707</td></tr></tbody></table></div>"
      ],
      "text/plain": [
       "shape: (1, 5)\n",
       "┌─────────────────────────┬───────────────┬────────────────┬─────────────────────┬─────────────────┐\n",
       "│ task                    ┆ original (ms) ┆ optimized (ms) ┆ original outer (ms) ┆ optimized outer │\n",
       "│ ---                     ┆ ---           ┆ ---            ┆ ---                 ┆ (ms)            │\n",
       "│ list[str]               ┆ f64           ┆ f64            ┆ f64                 ┆ ---             │\n",
       "│                         ┆               ┆                ┆                     ┆ f64             │\n",
       "╞═════════════════════════╪═══════════════╪════════════════╪═════════════════════╪═════════════════╡\n",
       "│ [\"person^-city~country\" ┆ 9329.24       ┆ 2720.06        ┆ 29680.0744          ┆ 18133.2707      │\n",
       "│ ]                       ┆               ┆                ┆                     ┆                 │\n",
       "└─────────────────────────┴───────────────┴────────────────┴─────────────────────┴─────────────────┘"
      ]
     },
     "execution_count": 8,
     "metadata": {},
     "output_type": "execute_result"
    }
   ],
   "source": [
    "\"\"\" Show `comparison data-frame` \"\"\"\n",
    "\n",
    "print(\"Comparison between: `original_match` & `optimized_match`\")\n",
    "\n",
    "df = pl.DataFrame(\n",
    "    {\n",
    "        \"task\": task_names,\n",
    "        \"original (ms)\": time_table,\n",
    "        \"optimized (ms)\": time_table_optimized,\n",
    "        \"original outer (ms)\": outer_time_table,\n",
    "        \"optimized outer (ms)\": outer_time_table_optimized,\n",
    "    }\n",
    ")\n",
    "df"
   ]
  }
 ],
 "metadata": {
  "kernelspec": {
   "display_name": "base",
   "language": "python",
   "name": "python3"
  },
  "language_info": {
   "codemirror_mode": {
    "name": "ipython",
    "version": 3
   },
   "file_extension": ".py",
   "mimetype": "text/x-python",
   "name": "python",
   "nbconvert_exporter": "python",
   "pygments_lexer": "ipython3",
   "version": "undefined.undefined.undefined"
  }
 },
 "nbformat": 4,
 "nbformat_minor": 2
}
