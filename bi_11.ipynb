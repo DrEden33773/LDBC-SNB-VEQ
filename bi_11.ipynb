{
 "cells": [
  {
   "cell_type": "markdown",
   "metadata": {},
   "source": [
    "# Prepare\n"
   ]
  },
  {
   "cell_type": "code",
   "execution_count": null,
   "metadata": {},
   "outputs": [],
   "source": [
    "from prelude import *"
   ]
  },
  {
   "cell_type": "code",
   "execution_count": null,
   "metadata": {},
   "outputs": [
    {
     "data": {
      "text/html": [
       "<div><style>\n",
       ".dataframe > thead > tr,\n",
       ".dataframe > tbody > tr {\n",
       "  text-align: right;\n",
       "  white-space: pre-wrap;\n",
       "}\n",
       "</style>\n",
       "<small>shape: (2, 4)</small><table border=\"1\" class=\"dataframe\"><thead><tr><th>:ID(Placeid)</th><th>name</th><th>:TYPE</th><th>:LABEL</th></tr><tr><td>i64</td><td>str</td><td>str</td><td>str</td></tr></thead><tbody><tr><td>0</td><td>&quot;India&quot;</td><td>&quot;country&quot;</td><td>&quot;place&quot;</td></tr><tr><td>1</td><td>&quot;China&quot;</td><td>&quot;country&quot;</td><td>&quot;place&quot;</td></tr></tbody></table></div>"
      ],
      "text/plain": [
       "shape: (2, 4)\n",
       "┌──────────────┬───────┬─────────┬────────┐\n",
       "│ :ID(Placeid) ┆ name  ┆ :TYPE   ┆ :LABEL │\n",
       "│ ---          ┆ ---   ┆ ---     ┆ ---    │\n",
       "│ i64          ┆ str   ┆ str     ┆ str    │\n",
       "╞══════════════╪═══════╪═════════╪════════╡\n",
       "│ 0            ┆ India ┆ country ┆ place  │\n",
       "│ 1            ┆ China ┆ country ┆ place  │\n",
       "└──────────────┴───────┴─────────┴────────┘"
      ]
     },
     "metadata": {},
     "output_type": "display_data"
    }
   ],
   "source": [
    "\"\"\" Test \"\"\"\n",
    "\n",
    "PLACE = f\"{RAW_DATA_PREFIX}/place.csv\"\n",
    "\n",
    "df = pl.read_csv(PLACE)\n",
    "test_table = df.lazy().filter(pl.col(\"name\").is_in([\"India\", \"China\"])).collect()\n",
    "out = test_table.select(\n",
    "    [\n",
    "        pl.col(\":ID(Placeid)\"),\n",
    "        pl.col(\"name\"),\n",
    "        pl.col(\":TYPE\"),\n",
    "        pl.col(\":LABEL\"),\n",
    "    ]\n",
    ")\n",
    "out.head(5)"
   ]
  },
  {
   "cell_type": "code",
   "execution_count": null,
   "metadata": {},
   "outputs": [],
   "source": [
    "\"\"\" Load `vertices/edges` \"\"\"\n",
    "\n",
    "from polars import DataFrame\n",
    "\n",
    "vertices = dict[str, DataFrame]()\n",
    "raw_edges = dict[tuple[str, str, str], DataFrame]()\n",
    "switch_namespace = dict[str, dict[int, int]]()\n",
    "\n",
    "for file in glob.glob(f\"{RAW_DATA_PREFIX}/*.csv\"):\n",
    "    df_name = os.path.basename(file).split(\".\")[0]\n",
    "    if \"_\" in df_name:\n",
    "        src, relationship, dst = df_name.split(\"_\")\n",
    "        raw_edges[(src, relationship, dst)] = pl.read_csv(file)\n",
    "    else:\n",
    "        vertices[df_name] = pl.read_csv(file)\n",
    "\n",
    "\n",
    "vertex_num = sum(len(df) for df in vertices.values())\n",
    "edge_num = sum(len(df) for df in raw_edges.values())"
   ]
  },
  {
   "cell_type": "code",
   "execution_count": null,
   "metadata": {},
   "outputs": [
    {
     "data": {
      "text/plain": [
       "{'Commentid': {},\n",
       " 'Forumid': {},\n",
       " 'Organisationid': {},\n",
       " 'Personid': {},\n",
       " 'Placeid': {},\n",
       " 'Postid': {},\n",
       " 'Tagid': {},\n",
       " 'TagClassid': {}}"
      ]
     },
     "metadata": {},
     "output_type": "display_data"
    }
   ],
   "source": [
    "\"\"\" Initialize `switch_namespace` \"\"\"\n",
    "\n",
    "for df in vertices.values():\n",
    "    base_label = get_namespace(df.columns[0])\n",
    "    switch_namespace[base_label] = dict()\n",
    "\n",
    "switch_namespace"
   ]
  },
  {
   "cell_type": "code",
   "execution_count": null,
   "metadata": {},
   "outputs": [
    {
     "name": "stderr",
     "output_type": "stream",
     "text": [
      "Mapping `origin_id` to `uni_id`: 100%|██████████| 3181724/3181724 [00:03<00:00, 908464.65it/s] \n"
     ]
    },
    {
     "data": {
      "text/plain": [
       "{'Commentid',\n",
       " 'Forumid',\n",
       " 'Organisationid',\n",
       " 'Personid',\n",
       " 'Placeid',\n",
       " 'Postid',\n",
       " 'TagClassid',\n",
       " 'Tagid'}"
      ]
     },
     "metadata": {},
     "output_type": "display_data"
    }
   ],
   "source": [
    "\"\"\" Re-arrange all `:ID($AnyNamespace)` \"\"\"\n",
    "\n",
    "curr_global_id = 0\n",
    "\n",
    "with tqdm(desc=\"Mapping `origin_id` to `uni_id`\", total=vertex_num) as bar:\n",
    "    for df in vertices.values():\n",
    "        base_label = get_namespace(df.columns[0])\n",
    "        map = switch_namespace[base_label]\n",
    "        for row in df.rows():\n",
    "            map[int(row[0])] = curr_global_id\n",
    "            curr_global_id += 1\n",
    "            bar.update(1)\n",
    "\n",
    "assert curr_global_id == vertex_num\n",
    "set(switch_namespace.keys())"
   ]
  },
  {
   "cell_type": "markdown",
   "metadata": {},
   "source": [
    "# BI 11\n"
   ]
  },
  {
   "cell_type": "markdown",
   "metadata": {},
   "source": [
    "## Original QG Build\n"
   ]
  },
  {
   "cell_type": "code",
   "execution_count": null,
   "metadata": {},
   "outputs": [],
   "source": [
    "\"\"\" Build `India` and `China` query graph \"\"\"\n",
    "\n",
    "china_query_graph_labels = [BaseLabel.Country + \"China\"] + [\"city\"] * 3 + [\"person\"] * 3\n",
    "china_query_graph_edges = [\n",
    "    (1, 0),\n",
    "    (2, 0),\n",
    "    (3, 0),\n",
    "    (4, 1),\n",
    "    (5, 2),\n",
    "    (6, 3),\n",
    "    (4, 5),\n",
    "    (5, 6),\n",
    "    (6, 4),\n",
    "]\n",
    "\n",
    "india_query_graph_labels = [BaseLabel.Country + \"India\"] + [\"city\"] * 3 + [\"person\"] * 3\n",
    "india_query_graph_edges = china_query_graph_edges\n",
    "\n",
    "if not os.path.exists(BI_11_CHINA_QG):\n",
    "    with open(BI_11_CHINA_QG, \"w\") as f:\n",
    "        f.write(\"#0\\n\")\n",
    "        f.write(f\"{len(china_query_graph_labels)}\\n\")\n",
    "        [f.write(f\"{label}\\n\") for label in china_query_graph_labels]\n",
    "        f.write(f\"{len(china_query_graph_edges)}\\n\")\n",
    "        [f.write(f\"{src} {dst}\\n\") for src, dst in china_query_graph_edges]\n",
    "\n",
    "if not os.path.exists(BI_11_INDIA_QG):\n",
    "    with open(BI_11_INDIA_QG, \"w\") as f:\n",
    "        f.write(\"#0\\n\")\n",
    "        f.write(f\"{len(india_query_graph_labels)}\\n\")\n",
    "        [f.write(f\"{label}\\n\") for label in india_query_graph_labels]\n",
    "        f.write(f\"{len(india_query_graph_edges)}\\n\")\n",
    "        [f.write(f\"{src} {dst}\\n\") for src, dst in india_query_graph_edges]"
   ]
  },
  {
   "cell_type": "markdown",
   "metadata": {},
   "source": [
    "## Optimized QG Build\n"
   ]
  },
  {
   "cell_type": "code",
   "execution_count": null,
   "metadata": {},
   "outputs": [],
   "source": [
    "\"\"\" Build `India` and `China` query graph \"\"\"\n",
    "\n",
    "china_query_graph_labels = [BaseLabel.Country + \"China\"] + [\"person\"] * 3\n",
    "china_query_graph_edges = [\n",
    "    (1, 0),\n",
    "    (2, 0),\n",
    "    (3, 0),\n",
    "    (1, 2),\n",
    "    (2, 3),\n",
    "    (3, 1),\n",
    "]\n",
    "\n",
    "india_query_graph_labels = [BaseLabel.Country + \"India\"] + [\"person\"] * 3\n",
    "india_query_graph_edges = china_query_graph_edges\n",
    "\n",
    "if not os.path.exists(BI_11_CHINA_QG_OPTIMIZED):\n",
    "    with open(BI_11_CHINA_QG_OPTIMIZED, \"w\") as f:\n",
    "        f.write(\"#0\\n\")\n",
    "        f.write(f\"{len(china_query_graph_labels)}\\n\")\n",
    "        [f.write(f\"{label}\\n\") for label in china_query_graph_labels]\n",
    "        f.write(f\"{len(china_query_graph_edges)}\\n\")\n",
    "        [f.write(f\"{src} {dst}\\n\") for src, dst in china_query_graph_edges]\n",
    "\n",
    "if not os.path.exists(BI_11_INDIA_QG_OPTIMIZED):\n",
    "    with open(BI_11_INDIA_QG_OPTIMIZED, \"w\") as f:\n",
    "        f.write(\"#0\\n\")\n",
    "        f.write(f\"{len(india_query_graph_labels)}\\n\")\n",
    "        [f.write(f\"{label}\\n\") for label in india_query_graph_labels]\n",
    "        f.write(f\"{len(india_query_graph_edges)}\\n\")\n",
    "        [f.write(f\"{src} {dst}\\n\") for src, dst in india_query_graph_edges]"
   ]
  },
  {
   "cell_type": "markdown",
   "metadata": {},
   "source": [
    "## Execute `Query`\n"
   ]
  },
  {
   "cell_type": "code",
   "execution_count": null,
   "metadata": {},
   "outputs": [
    {
     "name": "stdout",
     "output_type": "stream",
     "text": [
      ">>> Running: original_china_match...\n",
      "    Data file: ./out/original/BI_11/data_graph.txt\n",
      "    Query file: ./out/original/BI_11/china_query_graph.txt\n",
      "    Output file: \n",
      "    Sum of |C(u)|: 3748\n",
      "    Total Recursive Call Count: 131167\n",
      "    Number of Matches: 100000\n",
      "    Filtering Time (ms): 20.6644\n",
      "    Verification Time (ms): 6480.42\n",
      "    Processing Time (ms): 6501.08\n",
      "<<< Done!\n",
      ">>> Running: original_india_match...\n",
      "    Data file: ./out/original/BI_11/data_graph.txt\n",
      "    Query file: ./out/original/BI_11/india_query_graph.txt\n",
      "    Output file: \n",
      "    Sum of |C(u)|: 3871\n",
      "    Total Recursive Call Count: 131701\n",
      "    Number of Matches: 100000\n",
      "    Filtering Time (ms): 23.6162\n",
      "    Verification Time (ms): 6028.32\n",
      "    Processing Time (ms): 6051.94\n",
      "<<< Done!\n",
      ">>> Running: optimized_china_match...\n",
      "    Data file: ./out/optimized/BI_11/data_graph.txt\n",
      "    Query file: ./out/optimized/BI_11/china_query_graph.txt\n",
      "    Output file: \n",
      "    Sum of |C(u)|: 3157\n",
      "    Total Recursive Call Count: 17593\n",
      "    Number of Matches: 100000\n",
      "    Filtering Time (ms): 20.2106\n",
      "    Verification Time (ms): 3012.86\n",
      "    Processing Time (ms): 3033.07\n",
      "<<< Done!\n",
      ">>> Running: optimized_india_match...\n",
      "    Data file: ./out/optimized/BI_11/data_graph.txt\n",
      "    Query file: ./out/optimized/BI_11/india_query_graph.txt\n",
      "    Output file: \n",
      "    Sum of |C(u)|: 3274\n",
      "    Total Recursive Call Count: 17966\n",
      "    Number of Matches: 100000\n",
      "    Filtering Time (ms): 27.4562\n",
      "    Verification Time (ms): 3051.89\n",
      "    Processing Time (ms): 3079.34\n",
      "<<< Done!\n"
     ]
    }
   ],
   "source": [
    "\"\"\" Exec `match` on `original` \"\"\"\n",
    "\n",
    "bi_11_original_time_table = []\n",
    "\n",
    "run_veq_m_100k(\n",
    "    BI_11_ORIGINAL_CHINA_RES,\n",
    "    \"original_china_match\",\n",
    "    original_china_match_args,\n",
    "    bi_11_original_time_table,\n",
    ")\n",
    "run_veq_m_100k(\n",
    "    BI_11_ORIGINAL_INDIA_RES,\n",
    "    \"original_india_match\",\n",
    "    original_india_match_args,\n",
    "    bi_11_original_time_table,\n",
    ")\n",
    "\n",
    "\"\"\" Exec `match` on `optimized` \"\"\"\n",
    "\n",
    "bi_11_optimized_time_table = []\n",
    "\n",
    "run_veq_m_100k(\n",
    "    BI_11_OPTIMIZED_CHINA_RES,\n",
    "    \"optimized_china_match\",\n",
    "    optimized_china_match_args,\n",
    "    bi_11_optimized_time_table,\n",
    ")\n",
    "run_veq_m_100k(\n",
    "    BI_11_OPTIMIZED_INDIA_RES,\n",
    "    \"optimized_india_match\",\n",
    "    optimized_india_match_args,\n",
    "    bi_11_optimized_time_table,\n",
    ")"
   ]
  },
  {
   "cell_type": "code",
   "execution_count": null,
   "metadata": {},
   "outputs": [
    {
     "name": "stdout",
     "output_type": "stream",
     "text": [
      "Comparison between: `original_china/india_match` & `optimized_china/india_match`\n"
     ]
    },
    {
     "data": {
      "text/html": [
       "<div><style>\n",
       ".dataframe > thead > tr,\n",
       ".dataframe > tbody > tr {\n",
       "  text-align: right;\n",
       "  white-space: pre-wrap;\n",
       "}\n",
       "</style>\n",
       "<small>shape: (2, 3)</small><table border=\"1\" class=\"dataframe\"><thead><tr><th>task</th><th>original (ms)</th><th>optimized (ms)</th></tr><tr><td>str</td><td>f64</td><td>f64</td></tr></thead><tbody><tr><td>&quot;china_match&quot;</td><td>6501.08</td><td>3033.07</td></tr><tr><td>&quot;india_match&quot;</td><td>6051.94</td><td>3079.34</td></tr></tbody></table></div>"
      ],
      "text/plain": [
       "shape: (2, 3)\n",
       "┌─────────────┬───────────────┬────────────────┐\n",
       "│ task        ┆ original (ms) ┆ optimized (ms) │\n",
       "│ ---         ┆ ---           ┆ ---            │\n",
       "│ str         ┆ f64           ┆ f64            │\n",
       "╞═════════════╪═══════════════╪════════════════╡\n",
       "│ china_match ┆ 6501.08       ┆ 3033.07        │\n",
       "│ india_match ┆ 6051.94       ┆ 3079.34        │\n",
       "└─────────────┴───────────────┴────────────────┘"
      ]
     },
     "metadata": {},
     "output_type": "display_data"
    }
   ],
   "source": [
    "\"\"\" Show BI-11 `comparison data-frame` \"\"\"\n",
    "\n",
    "print(\n",
    "    \"Comparison between: `original_china/india_match` & `optimized_china/india_match`\"\n",
    ")\n",
    "\n",
    "df = pl.DataFrame(\n",
    "    {\n",
    "        \"task\": [\"china_match\", \"india_match\"],\n",
    "        \"original (ms)\": bi_11_original_time_table,\n",
    "        \"optimized (ms)\": bi_11_optimized_time_table,\n",
    "    }\n",
    ")\n",
    "df"
   ]
  }
 ],
 "metadata": {
  "kernelspec": {
   "display_name": "base",
   "language": "python",
   "name": "python3"
  },
  "language_info": {
   "name": "python",
   "version": "3.11.4"
  }
 },
 "nbformat": 4,
 "nbformat_minor": 2
}
