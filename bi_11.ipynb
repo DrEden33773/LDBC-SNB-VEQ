{
 "cells": [
  {
   "cell_type": "markdown",
   "metadata": {},
   "source": [
    "# Prepare\n"
   ]
  },
  {
   "cell_type": "code",
   "execution_count": null,
   "metadata": {},
   "outputs": [],
   "source": [
    "from prelude import *"
   ]
  },
  {
   "cell_type": "code",
   "execution_count": null,
   "metadata": {},
   "outputs": [
    {
     "data": {
      "text/html": [
       "<div><style>\n",
       ".dataframe > thead > tr,\n",
       ".dataframe > tbody > tr {\n",
       "  text-align: right;\n",
       "  white-space: pre-wrap;\n",
       "}\n",
       "</style>\n",
       "<small>shape: (2, 4)</small><table border=\"1\" class=\"dataframe\"><thead><tr><th>:ID(Placeid)</th><th>name</th><th>:TYPE</th><th>:LABEL</th></tr><tr><td>i64</td><td>str</td><td>str</td><td>str</td></tr></thead><tbody><tr><td>0</td><td>&quot;India&quot;</td><td>&quot;country&quot;</td><td>&quot;place&quot;</td></tr><tr><td>1</td><td>&quot;China&quot;</td><td>&quot;country&quot;</td><td>&quot;place&quot;</td></tr></tbody></table></div>"
      ],
      "text/plain": [
       "shape: (2, 4)\n",
       "┌──────────────┬───────┬─────────┬────────┐\n",
       "│ :ID(Placeid) ┆ name  ┆ :TYPE   ┆ :LABEL │\n",
       "│ ---          ┆ ---   ┆ ---     ┆ ---    │\n",
       "│ i64          ┆ str   ┆ str     ┆ str    │\n",
       "╞══════════════╪═══════╪═════════╪════════╡\n",
       "│ 0            ┆ India ┆ country ┆ place  │\n",
       "│ 1            ┆ China ┆ country ┆ place  │\n",
       "└──────────────┴───────┴─────────┴────────┘"
      ]
     },
     "metadata": {},
     "output_type": "display_data"
    }
   ],
   "source": [
    "\"\"\" Test \"\"\"\n",
    "\n",
    "PLACE = f\"{RAW_DATA_PREFIX}/place.csv\"\n",
    "\n",
    "df = pl.read_csv(PLACE)\n",
    "test_table = df.lazy().filter(pl.col(\"name\").is_in([\"India\", \"China\"])).collect()\n",
    "out = test_table.select(\n",
    "    [\n",
    "        pl.col(\":ID(Placeid)\"),\n",
    "        pl.col(\"name\"),\n",
    "        pl.col(\":TYPE\"),\n",
    "        pl.col(\":LABEL\"),\n",
    "    ]\n",
    ")\n",
    "out.head(5)"
   ]
  },
  {
   "cell_type": "code",
   "execution_count": null,
   "metadata": {},
   "outputs": [],
   "source": [
    "\"\"\" Load `vertices/edges` \"\"\"\n",
    "\n",
    "from polars import DataFrame\n",
    "\n",
    "vertices = dict[str, DataFrame]()\n",
    "raw_edges = dict[tuple[str, str, str], DataFrame]()\n",
    "switch_namespace = dict[str, dict[int, int]]()\n",
    "\n",
    "for file in glob.glob(f\"{RAW_DATA_PREFIX}/*.csv\"):\n",
    "    df_name = os.path.basename(file).split(\".\")[0]\n",
    "    if \"_\" in df_name:\n",
    "        src, relationship, dst = df_name.split(\"_\")\n",
    "        raw_edges[(src, relationship, dst)] = pl.read_csv(file)\n",
    "    else:\n",
    "        vertices[df_name] = pl.read_csv(file)\n",
    "\n",
    "\n",
    "vertex_num = sum(len(df) for df in vertices.values())\n",
    "edge_num = sum(len(df) for df in raw_edges.values())"
   ]
  },
  {
   "cell_type": "code",
   "execution_count": null,
   "metadata": {},
   "outputs": [
    {
     "data": {
      "text/plain": [
       "{'Commentid': {},\n",
       " 'Forumid': {},\n",
       " 'Organisationid': {},\n",
       " 'Personid': {},\n",
       " 'Placeid': {},\n",
       " 'Postid': {},\n",
       " 'Tagid': {},\n",
       " 'TagClassid': {}}"
      ]
     },
     "metadata": {},
     "output_type": "display_data"
    }
   ],
   "source": [
    "\"\"\" Initialize `switch_namespace` \"\"\"\n",
    "\n",
    "for df in vertices.values():\n",
    "    base_label = get_namespace(df.columns[0])\n",
    "    switch_namespace[base_label] = dict()\n",
    "\n",
    "switch_namespace"
   ]
  },
  {
   "cell_type": "code",
   "execution_count": null,
   "metadata": {},
   "outputs": [
    {
     "name": "stderr",
     "output_type": "stream",
     "text": [
      "Mapping `origin_id` to `uni_id`: 100%|██████████| 3181724/3181724 [00:03<00:00, 908464.65it/s] \n"
     ]
    },
    {
     "data": {
      "text/plain": [
       "{'Commentid',\n",
       " 'Forumid',\n",
       " 'Organisationid',\n",
       " 'Personid',\n",
       " 'Placeid',\n",
       " 'Postid',\n",
       " 'TagClassid',\n",
       " 'Tagid'}"
      ]
     },
     "metadata": {},
     "output_type": "display_data"
    }
   ],
   "source": [
    "\"\"\" Re-arrange all `:ID($AnyNamespace)` \"\"\"\n",
    "\n",
    "curr_global_id = 0\n",
    "\n",
    "with tqdm(desc=\"Mapping `origin_id` to `uni_id`\", total=vertex_num) as bar:\n",
    "    for df in vertices.values():\n",
    "        base_label = get_namespace(df.columns[0])\n",
    "        map = switch_namespace[base_label]\n",
    "        for row in df.rows():\n",
    "            map[int(row[0])] = curr_global_id\n",
    "            curr_global_id += 1\n",
    "            bar.update(1)\n",
    "\n",
    "assert curr_global_id == vertex_num\n",
    "set(switch_namespace.keys())"
   ]
  },
  {
   "cell_type": "markdown",
   "metadata": {},
   "source": [
    "# BI 11\n"
   ]
  },
  {
   "cell_type": "markdown",
   "metadata": {},
   "source": [
    "## Original Query\n"
   ]
  },
  {
   "cell_type": "code",
   "execution_count": null,
   "metadata": {},
   "outputs": [],
   "source": [
    "labels = dict[int, str]()\n",
    "label_set = set[str]()\n",
    "\n",
    "explicit_place_labels = (\n",
    "    {\"China\", \"India\"}\n",
    "    .union({\"Tunisia\", \"Cuba\", \"France\"})\n",
    "    .union({\"Belgium\", \"Greece\", \"Chile\"})\n",
    ")\n",
    "explicit_tagclass_labels = {\n",
    "    \"NascarDriver\",\n",
    "    \"Thing\",\n",
    "    \"Politician\",\n",
    "}.union({\"Saint\", \"President\", \"Song\"})\n",
    "explicit_date_labels = {\"2010-01-07\", \"2010-01-10\", \"2010-01-26\"}\n",
    "explicit_end_date_labels = {\"2012-11-11\", \"2012-11-09\", \"2012-11-03\"}\n",
    "\n",
    "\n",
    "def place_op(df: DataFrame):\n",
    "    namespace = get_namespace(df.columns[0])\n",
    "    map = switch_namespace[namespace]\n",
    "    slice = df.select(\n",
    "        [\n",
    "            pl.col(df.columns[0]),\n",
    "            pl.col(\"name\"),\n",
    "            pl.col(\":TYPE\"),\n",
    "        ]\n",
    "    )\n",
    "    for oid, name, ty in slice.rows():\n",
    "        oid, name, label = int(oid), str(name), str(ty)\n",
    "        uid = map[oid]\n",
    "        if name in explicit_place_labels:\n",
    "            label = BaseLabel.Country + name\n",
    "        labels[uid] = label\n",
    "        label_set.add(label)\n",
    "        bar.update(1)\n",
    "\n",
    "\n",
    "def normal_op(df: DataFrame):\n",
    "    namespace = get_namespace(df.columns[0])\n",
    "    map = switch_namespace[namespace]\n",
    "    slice = df.select(\n",
    "        [\n",
    "            pl.col(df.columns[0]),\n",
    "            pl.col(\":TYPE\" if \":TYPE\" in df.columns else \":LABEL\"),\n",
    "        ]\n",
    "    )\n",
    "    for oid, label in slice.rows():\n",
    "        uid = map[int(oid)]\n",
    "        labels[uid] = str(label)\n",
    "        label_set.add(str(label))\n",
    "        bar.update(1)\n",
    "\n",
    "\n",
    "def vertex_op(df_name: str, df: DataFrame):\n",
    "    match df_name:\n",
    "        case \"place\":\n",
    "            place_op(df)\n",
    "        case _:\n",
    "            normal_op(df)"
   ]
  },
  {
   "cell_type": "code",
   "execution_count": null,
   "metadata": {},
   "outputs": [
    {
     "name": "stderr",
     "output_type": "stream",
     "text": [
      "Build map of `vertex.uni_id -> label`: 100%|██████████| 3181724/3181724 [00:02<00:00, 1496053.20it/s]\n"
     ]
    },
    {
     "data": {
      "text/plain": [
       "{'China',\n",
       " 'India',\n",
       " 'city',\n",
       " 'comment',\n",
       " 'company',\n",
       " 'continent',\n",
       " 'country',\n",
       " 'forum',\n",
       " 'person',\n",
       " 'post',\n",
       " 'tag',\n",
       " 'tagclass',\n",
       " 'university'}"
      ]
     },
     "metadata": {},
     "output_type": "display_data"
    }
   ],
   "source": [
    "\"\"\" Build map of `vertex.uid -> label` \"\"\"\n",
    "\n",
    "with tqdm(desc=\"Build map of `vertex.uni_id -> label`\", total=vertex_num) as bar:\n",
    "    for df_name, df in vertices.items():\n",
    "        vertex_op(df_name, df)\n",
    "\n",
    "label_set"
   ]
  },
  {
   "cell_type": "code",
   "execution_count": null,
   "metadata": {},
   "outputs": [
    {
     "name": "stderr",
     "output_type": "stream",
     "text": [
      "Build edges in format: `(src_id, dst_id)`: 100%|██████████| 17256038/17256038 [00:18<00:00, 927268.42it/s] \n"
     ]
    }
   ],
   "source": [
    "\"\"\" Build edges in format: `(src_id, dst_id)` \"\"\"\n",
    "\n",
    "edges = set[tuple[int, int]]()\n",
    "\n",
    "with tqdm(desc=\"Build edges in format: `(src_id, dst_id)`\", total=edge_num) as bar:\n",
    "    for df_name, df in raw_edges.items():\n",
    "        src_namespace = get_namespace(df.columns[0])\n",
    "        dst_namespace = get_namespace(df.columns[1])\n",
    "        src_map = switch_namespace[src_namespace]\n",
    "        dst_map = switch_namespace[dst_namespace]\n",
    "        slice = df.select(\n",
    "            [\n",
    "                pl.col(df.columns[0]),\n",
    "                pl.col(df.columns[1]),\n",
    "            ]\n",
    "        )\n",
    "        for src_id, dst_id in slice.rows():\n",
    "            src_uni_id = src_map[int(src_id)]\n",
    "            dst_uni_id = dst_map[int(dst_id)]\n",
    "            edges.add((src_uni_id, dst_uni_id))\n",
    "            bar.update(1)"
   ]
  },
  {
   "cell_type": "code",
   "execution_count": null,
   "metadata": {},
   "outputs": [
    {
     "name": "stderr",
     "output_type": "stream",
     "text": [
      "Writing `labels` into `data_graph.txt`: 100%|██████████| 3181724/3181724 [00:02<00:00, 1514438.58it/s]\n",
      "Writing `edges` into `data_graph.txt: 100%|██████████| 17256033/17256033 [00:20<00:00, 857313.93it/s]\n"
     ]
    }
   ],
   "source": [
    "\"\"\" Write into `data_graph.txt` \"\"\"\n",
    "\n",
    "if not os.path.exists(COMMON_DG):\n",
    "    with open(COMMON_DG, \"w\") as f:\n",
    "        f.write(\"#0\\n\")\n",
    "        f.write(f\"{len(labels)}\\n\")\n",
    "        with tqdm(\n",
    "            desc=f\"Writing `labels` into `{COMMON_DG}`\", total=len(labels)\n",
    "        ) as bar:\n",
    "            for i in range(len(labels)):\n",
    "                f.write(f\"{labels[i]}\\n\")\n",
    "                bar.update(1)\n",
    "        f.write(f\"{len(edges)}\\n\")\n",
    "        with tqdm(desc=f\"Writing `edges` into `{COMMON_DG}`\", total=len(edges)) as bar:\n",
    "            for src, dst in edges:\n",
    "                f.write(f\"{src} {dst}\\n\")\n",
    "                bar.update(1)\n",
    "else:\n",
    "    print(f\"File `{COMMON_DG}` already exists\")"
   ]
  },
  {
   "cell_type": "code",
   "execution_count": null,
   "metadata": {},
   "outputs": [],
   "source": [
    "\"\"\" Build `India` and `China` query graph \"\"\"\n",
    "\n",
    "china_query_graph_labels = [BaseLabel.Country + \"China\"] + [\"city\"] * 3 + [\"person\"] * 3\n",
    "china_query_graph_edges = [\n",
    "    (1, 0),\n",
    "    (2, 0),\n",
    "    (3, 0),\n",
    "    (4, 1),\n",
    "    (5, 2),\n",
    "    (6, 3),\n",
    "    (4, 5),\n",
    "    (5, 6),\n",
    "    (6, 4),\n",
    "]\n",
    "\n",
    "india_query_graph_labels = [BaseLabel.Country + \"India\"] + [\"city\"] * 3 + [\"person\"] * 3\n",
    "india_query_graph_edges = china_query_graph_edges\n",
    "\n",
    "if not os.path.exists(BI_11_CHINA_QG):\n",
    "    with open(BI_11_CHINA_QG, \"w\") as f:\n",
    "        f.write(\"#0\\n\")\n",
    "        f.write(f\"{len(china_query_graph_labels)}\\n\")\n",
    "        [f.write(f\"{label}\\n\") for label in china_query_graph_labels]\n",
    "        f.write(f\"{len(china_query_graph_edges)}\\n\")\n",
    "        [f.write(f\"{src} {dst}\\n\") for src, dst in china_query_graph_edges]\n",
    "\n",
    "if not os.path.exists(BI_11_INDIA_QG):\n",
    "    with open(BI_11_INDIA_QG, \"w\") as f:\n",
    "        f.write(\"#0\\n\")\n",
    "        f.write(f\"{len(india_query_graph_labels)}\\n\")\n",
    "        [f.write(f\"{label}\\n\") for label in india_query_graph_labels]\n",
    "        f.write(f\"{len(india_query_graph_edges)}\\n\")\n",
    "        [f.write(f\"{src} {dst}\\n\") for src, dst in india_query_graph_edges]"
   ]
  },
  {
   "cell_type": "markdown",
   "metadata": {},
   "source": [
    "## Optimized Query\n"
   ]
  },
  {
   "cell_type": "code",
   "execution_count": null,
   "metadata": {},
   "outputs": [],
   "source": [
    "\"\"\" Load all `index edge` \"\"\"\n",
    "\n",
    "index_edges = dict[str, DataFrame]()\n",
    "\n",
    "for file in glob.glob(f\"{INDEX_EDGES_PREFIX}/*.csv\"):\n",
    "    df_name = os.path.basename(file).split(\".\")[0]\n",
    "    index_edges[df_name] = pl.read_csv(file)\n",
    "\n",
    "index_edge_num = sum(len(df) for df in index_edges.values())"
   ]
  },
  {
   "cell_type": "code",
   "execution_count": null,
   "metadata": {},
   "outputs": [
    {
     "name": "stderr",
     "output_type": "stream",
     "text": [
      "Adding `index edge` into `edges`: 100%|██████████| 20605002/20605002 [00:24<00:00, 851473.18it/s] \n"
     ]
    }
   ],
   "source": [
    "\"\"\" Add `index edge` into `edges` \"\"\"\n",
    "\n",
    "with tqdm(desc=\"Adding `index edge` into `edges`\", total=index_edge_num) as bar:\n",
    "    for df in index_edges.values():\n",
    "        src_namespace = get_namespace(df.columns[0])\n",
    "        dst_namespace = get_namespace(df.columns[1])\n",
    "        src_map = switch_namespace[src_namespace]\n",
    "        dst_map = switch_namespace[dst_namespace]\n",
    "        slice = df.select(\n",
    "            [\n",
    "                pl.col(df.columns[0]),\n",
    "                pl.col(df.columns[1]),\n",
    "            ]\n",
    "        )\n",
    "        for src_id, dst_id in slice.rows():\n",
    "            src_uni_id = src_map[int(src_id)]\n",
    "            dst_uni_id = dst_map[int(dst_id)]\n",
    "            edges.add((src_uni_id, dst_uni_id))\n",
    "            bar.update(1)"
   ]
  },
  {
   "cell_type": "code",
   "execution_count": null,
   "metadata": {},
   "outputs": [
    {
     "name": "stderr",
     "output_type": "stream",
     "text": [
      "Writing `labels` into `data_graph.txt`: 100%|██████████| 3181724/3181724 [00:02<00:00, 1477753.36it/s]\n",
      "Writing `edges` into `data_graph.txt: 100%|██████████| 34775921/34775921 [00:42<00:00, 825434.42it/s]\n"
     ]
    }
   ],
   "source": [
    "\"\"\" Write into `data_graph.txt` \"\"\"\n",
    "\n",
    "if not os.path.exists(COMMON_DG_OPTIMIZED):\n",
    "    with open(COMMON_DG_OPTIMIZED, \"w\") as f:\n",
    "        f.write(\"#0\\n\")\n",
    "        f.write(f\"{len(labels)}\\n\")\n",
    "        with tqdm(\n",
    "            desc=f\"Writing `labels` into `{COMMON_DG_OPTIMIZED}`\", total=len(labels)\n",
    "        ) as bar:\n",
    "            for i in range(len(labels)):\n",
    "                f.write(f\"{labels[i]}\\n\")\n",
    "                bar.update(1)\n",
    "        f.write(f\"{len(edges)}\\n\")\n",
    "        with tqdm(\n",
    "            desc=f\"Writing `edges` into `{COMMON_DG_OPTIMIZED}`\", total=len(edges)\n",
    "        ) as bar:\n",
    "            for src, dst in edges:\n",
    "                f.write(f\"{src} {dst}\\n\")\n",
    "                bar.update(1)\n",
    "else:\n",
    "    print(f\"File `{COMMON_DG_OPTIMIZED}` already exists\")"
   ]
  },
  {
   "cell_type": "code",
   "execution_count": null,
   "metadata": {},
   "outputs": [],
   "source": [
    "\"\"\" Build `India` and `China` query graph \"\"\"\n",
    "\n",
    "china_query_graph_labels = [BaseLabel.Country + \"China\"] + [\"person\"] * 3\n",
    "china_query_graph_edges = [\n",
    "    (1, 0),\n",
    "    (2, 0),\n",
    "    (3, 0),\n",
    "    (1, 2),\n",
    "    (2, 3),\n",
    "    (3, 1),\n",
    "]\n",
    "\n",
    "india_query_graph_labels = [BaseLabel.Country + \"India\"] + [\"person\"] * 3\n",
    "india_query_graph_edges = china_query_graph_edges\n",
    "\n",
    "if not os.path.exists(BI_11_CHINA_QG_OPTIMIZED):\n",
    "    with open(BI_11_CHINA_QG_OPTIMIZED, \"w\") as f:\n",
    "        f.write(\"#0\\n\")\n",
    "        f.write(f\"{len(china_query_graph_labels)}\\n\")\n",
    "        [f.write(f\"{label}\\n\") for label in china_query_graph_labels]\n",
    "        f.write(f\"{len(china_query_graph_edges)}\\n\")\n",
    "        [f.write(f\"{src} {dst}\\n\") for src, dst in china_query_graph_edges]\n",
    "\n",
    "if not os.path.exists(BI_11_INDIA_QG_OPTIMIZED):\n",
    "    with open(BI_11_INDIA_QG_OPTIMIZED, \"w\") as f:\n",
    "        f.write(\"#0\\n\")\n",
    "        f.write(f\"{len(india_query_graph_labels)}\\n\")\n",
    "        [f.write(f\"{label}\\n\") for label in india_query_graph_labels]\n",
    "        f.write(f\"{len(india_query_graph_edges)}\\n\")\n",
    "        [f.write(f\"{src} {dst}\\n\") for src, dst in india_query_graph_edges]"
   ]
  },
  {
   "cell_type": "markdown",
   "metadata": {},
   "source": [
    "## Execute `Query`\n"
   ]
  },
  {
   "cell_type": "code",
   "execution_count": null,
   "metadata": {},
   "outputs": [],
   "source": [
    "\"\"\" Args \"\"\"\n",
    "\n",
    "from args import *"
   ]
  },
  {
   "cell_type": "code",
   "execution_count": null,
   "metadata": {},
   "outputs": [
    {
     "name": "stdout",
     "output_type": "stream",
     "text": [
      ">>> Running: original_china_match...\n",
      "    Data file: ./out/original/BI_11/data_graph.txt\n",
      "    Query file: ./out/original/BI_11/china_query_graph.txt\n",
      "    Output file: \n",
      "    Sum of |C(u)|: 3748\n",
      "    Total Recursive Call Count: 131167\n",
      "    Number of Matches: 100000\n",
      "    Filtering Time (ms): 20.6644\n",
      "    Verification Time (ms): 6480.42\n",
      "    Processing Time (ms): 6501.08\n",
      "<<< Done!\n",
      ">>> Running: original_india_match...\n",
      "    Data file: ./out/original/BI_11/data_graph.txt\n",
      "    Query file: ./out/original/BI_11/india_query_graph.txt\n",
      "    Output file: \n",
      "    Sum of |C(u)|: 3871\n",
      "    Total Recursive Call Count: 131701\n",
      "    Number of Matches: 100000\n",
      "    Filtering Time (ms): 23.6162\n",
      "    Verification Time (ms): 6028.32\n",
      "    Processing Time (ms): 6051.94\n",
      "<<< Done!\n",
      ">>> Running: optimized_china_match...\n",
      "    Data file: ./out/optimized/BI_11/data_graph.txt\n",
      "    Query file: ./out/optimized/BI_11/china_query_graph.txt\n",
      "    Output file: \n",
      "    Sum of |C(u)|: 3157\n",
      "    Total Recursive Call Count: 17593\n",
      "    Number of Matches: 100000\n",
      "    Filtering Time (ms): 20.2106\n",
      "    Verification Time (ms): 3012.86\n",
      "    Processing Time (ms): 3033.07\n",
      "<<< Done!\n",
      ">>> Running: optimized_india_match...\n",
      "    Data file: ./out/optimized/BI_11/data_graph.txt\n",
      "    Query file: ./out/optimized/BI_11/india_query_graph.txt\n",
      "    Output file: \n",
      "    Sum of |C(u)|: 3274\n",
      "    Total Recursive Call Count: 17966\n",
      "    Number of Matches: 100000\n",
      "    Filtering Time (ms): 27.4562\n",
      "    Verification Time (ms): 3051.89\n",
      "    Processing Time (ms): 3079.34\n",
      "<<< Done!\n"
     ]
    }
   ],
   "source": [
    "\"\"\" Exec `match` on `original` \"\"\"\n",
    "\n",
    "bi_11_original_time_table = []\n",
    "\n",
    "run_veq_m_100k(\n",
    "    BI_11_ORIGINAL_CHINA_RES,\n",
    "    \"original_china_match\",\n",
    "    original_china_match_args,\n",
    "    bi_11_original_time_table,\n",
    ")\n",
    "run_veq_m_100k(\n",
    "    BI_11_ORIGINAL_INDIA_RES,\n",
    "    \"original_india_match\",\n",
    "    original_india_match_args,\n",
    "    bi_11_original_time_table,\n",
    ")\n",
    "\n",
    "\"\"\" Exec `match` on `optimized` \"\"\"\n",
    "\n",
    "bi_11_optimized_time_table = []\n",
    "\n",
    "run_veq_m_100k(\n",
    "    BI_11_OPTIMIZED_CHINA_RES,\n",
    "    \"optimized_china_match\",\n",
    "    optimized_china_match_args,\n",
    "    bi_11_optimized_time_table,\n",
    ")\n",
    "run_veq_m_100k(\n",
    "    BI_11_OPTIMIZED_INDIA_RES,\n",
    "    \"optimized_india_match\",\n",
    "    optimized_india_match_args,\n",
    "    bi_11_optimized_time_table,\n",
    ")"
   ]
  },
  {
   "cell_type": "code",
   "execution_count": null,
   "metadata": {},
   "outputs": [
    {
     "name": "stdout",
     "output_type": "stream",
     "text": [
      "Comparison between: `original_china/india_match` & `optimized_china/india_match`\n"
     ]
    },
    {
     "data": {
      "text/html": [
       "<div><style>\n",
       ".dataframe > thead > tr,\n",
       ".dataframe > tbody > tr {\n",
       "  text-align: right;\n",
       "  white-space: pre-wrap;\n",
       "}\n",
       "</style>\n",
       "<small>shape: (2, 3)</small><table border=\"1\" class=\"dataframe\"><thead><tr><th>task</th><th>original (ms)</th><th>optimized (ms)</th></tr><tr><td>str</td><td>f64</td><td>f64</td></tr></thead><tbody><tr><td>&quot;china_match&quot;</td><td>6501.08</td><td>3033.07</td></tr><tr><td>&quot;india_match&quot;</td><td>6051.94</td><td>3079.34</td></tr></tbody></table></div>"
      ],
      "text/plain": [
       "shape: (2, 3)\n",
       "┌─────────────┬───────────────┬────────────────┐\n",
       "│ task        ┆ original (ms) ┆ optimized (ms) │\n",
       "│ ---         ┆ ---           ┆ ---            │\n",
       "│ str         ┆ f64           ┆ f64            │\n",
       "╞═════════════╪═══════════════╪════════════════╡\n",
       "│ china_match ┆ 6501.08       ┆ 3033.07        │\n",
       "│ india_match ┆ 6051.94       ┆ 3079.34        │\n",
       "└─────────────┴───────────────┴────────────────┘"
      ]
     },
     "metadata": {},
     "output_type": "display_data"
    }
   ],
   "source": [
    "\"\"\" Show BI-11 `comparison data-frame` \"\"\"\n",
    "\n",
    "print(\n",
    "    \"Comparison between: `original_china/india_match` & `optimized_china/india_match`\"\n",
    ")\n",
    "\n",
    "df = pl.DataFrame(\n",
    "    {\n",
    "        \"task\": [\"china_match\", \"india_match\"],\n",
    "        \"original (ms)\": bi_11_original_time_table,\n",
    "        \"optimized (ms)\": bi_11_optimized_time_table,\n",
    "    }\n",
    ")\n",
    "df"
   ]
  }
 ],
 "metadata": {
  "kernelspec": {
   "display_name": "base",
   "language": "python",
   "name": "python3"
  },
  "language_info": {
   "name": "python",
   "version": "3.11.4"
  }
 },
 "nbformat": 4,
 "nbformat_minor": 2
}
