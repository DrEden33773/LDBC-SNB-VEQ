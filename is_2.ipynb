{
 "cells": [
  {
   "cell_type": "markdown",
   "metadata": {},
   "source": [
    "# IS 2\n"
   ]
  },
  {
   "cell_type": "code",
   "execution_count": 1,
   "metadata": {},
   "outputs": [],
   "source": [
    "from dg_builder import *"
   ]
  },
  {
   "cell_type": "markdown",
   "metadata": {},
   "source": [
    "> message-[replyof]->post-[hasCreator]->person\n",
    "\n",
    "Actually, this should be:\n",
    "\n",
    "> comment-[replyof]->post-[hasCreator]->person\n"
   ]
  },
  {
   "cell_type": "markdown",
   "metadata": {},
   "source": [
    "## Original\n"
   ]
  },
  {
   "cell_type": "code",
   "execution_count": 2,
   "metadata": {},
   "outputs": [
    {
     "name": "stderr",
     "output_type": "stream",
     "text": [
      "Mapping `origin_id` to `uni_id`: 100%|██████████| 3181724/3181724 [00:03<00:00, 878500.57it/s] \n",
      "Build map of `vertex.uni_id -> label`: 100%|██████████| 3181724/3181724 [00:02<00:00, 1432484.70it/s]\n",
      "Build edges in format: `(src_id, dst_id)`: 100%|██████████| 17256038/17256038 [00:15<00:00, 1128245.02it/s]"
     ]
    },
    {
     "name": "stdout",
     "output_type": "stream",
     "text": [
      "File `./out/original/data_graph.txt` already exists\n"
     ]
    },
    {
     "name": "stderr",
     "output_type": "stream",
     "text": [
      "\n"
     ]
    }
   ],
   "source": [
    "\"\"\" build `original data graph` \"\"\"\n",
    "\n",
    "build_original_dg(original_dg_filepath=IS_2_DG, optimized_dg_filepath=IS_2_DG_OPTIMIZED)"
   ]
  },
  {
   "cell_type": "code",
   "execution_count": 3,
   "metadata": {},
   "outputs": [
    {
     "data": {
      "text/plain": [
       "QueryBuilder {\n",
       "    edges: [(0, 1), (1, 2)],\n",
       "    labels: ['comment', 'post', 'person'],\n",
       "    raw_task_names: [['comment-post-person']],\n",
       "    QG_PRE: ./out/original/IS_2,\n",
       "    LOG_PRE: ./log/original/IS_2,\n",
       "    args_starting: ['wsl', './VEQ_M_100k', '-dg', './out/original/data_graph.txt', '-qg'],\n",
       "    replace_indices: [],\n",
       "    replace_wrapper: <function QueryBuilder.<lambda> at 0x000002DEF2AB9080>,\n",
       "    kwargs: {'comment-post-person': QGMetaRecord(labels=['comment', 'post', 'person'], edges=[(0, 1), (1, 2)])},\n",
       "}"
      ]
     },
     "execution_count": 3,
     "metadata": {},
     "output_type": "execute_result"
    }
   ],
   "source": [
    "\"\"\" labels & edges \"\"\"\n",
    "\n",
    "edges = [(0, 1), (1, 2)]\n",
    "labels_template = [\"comment\", \"post\", \"person\"]\n",
    "task_names = [[\"comment-post-person\"]]\n",
    "\n",
    "original_builder = QueryBuilder(\n",
    "    edges=edges,\n",
    "    labels=labels_template,\n",
    "    raw_task_names=task_names,\n",
    "    QG_PRE=IS_2_ORIGINAL_Q_PRE,\n",
    "    LOG_PRE=IS_2_ORIGINAL_L_PRE,\n",
    "    args_starting=is_2_original_args_starting,\n",
    "    kwargs={},\n",
    ")\n",
    "\n",
    "original_builder.build()"
   ]
  },
  {
   "cell_type": "code",
   "execution_count": 4,
   "metadata": {},
   "outputs": [
    {
     "name": "stdout",
     "output_type": "stream",
     "text": [
      ">>> Running: comment-post-person...\n",
      "    Data file: ./out/original/data_graph.txt\n",
      "    Query file: ./out/original/IS_2/comment-post-person.txt\n",
      "    Output file: \n",
      "    Sum of |C(u)|: 1216823\n",
      "    Total Recursive Call Count: 1835\n",
      "    Number of Matches: 100003\n",
      "    Filtering Time (ms): 927.654\n",
      "    Verification Time (ms): 4812.01\n",
      "    Processing Time (ms): 5739.66\n",
      "<<< Done! (Outer Elapsed Time: 27329.0986 ms)\n"
     ]
    }
   ],
   "source": [
    "\"\"\" exec \"\"\"\n",
    "\n",
    "time_table = original_builder.run()\n",
    "assert len(time_table) == 1"
   ]
  },
  {
   "cell_type": "code",
   "execution_count": 5,
   "metadata": {},
   "outputs": [
    {
     "data": {
      "text/plain": [
       "[5739.66]"
      ]
     },
     "execution_count": 5,
     "metadata": {},
     "output_type": "execute_result"
    }
   ],
   "source": [
    "time_table"
   ]
  },
  {
   "cell_type": "markdown",
   "metadata": {},
   "source": [
    "## Optimized\n"
   ]
  },
  {
   "cell_type": "code",
   "execution_count": 6,
   "metadata": {},
   "outputs": [
    {
     "name": "stderr",
     "output_type": "stream",
     "text": [
      "Adding `index edge` into `edges`: 100%|██████████| 1011420/1011420 [00:00<00:00, 1041916.84it/s]\n",
      "Writing `labels` into `./out/optimized/IS_2/data_graph.txt`: 100%|██████████| 3181724/3181724 [00:01<00:00, 1631560.33it/s]\n",
      "Writing `edges` into `./out/optimized/IS_2/data_graph.txt`: 100%|██████████| 18262701/18262701 [00:20<00:00, 892989.27it/s]\n"
     ]
    }
   ],
   "source": [
    "\"\"\" build `optimized data graph` \"\"\"\n",
    "\n",
    "index_csv_filenames = [\"comment_post_person\"]\n",
    "\n",
    "build_optimized_dg(\n",
    "    optimized_dg_filepath=IS_2_DG_OPTIMIZED,\n",
    "    index_csv_filenames=index_csv_filenames,\n",
    ")"
   ]
  },
  {
   "cell_type": "code",
   "execution_count": 7,
   "metadata": {},
   "outputs": [
    {
     "data": {
      "text/plain": [
       "QueryBuilder {\n",
       "    edges: [(0, 1)],\n",
       "    labels: ['comment', 'person'],\n",
       "    raw_task_names: [['comment-person']],\n",
       "    QG_PRE: ./out/optimized/IS_2,\n",
       "    LOG_PRE: ./log/optimized/IS_2,\n",
       "    args_starting: ['wsl', './VEQ_M_100k', '-dg', './out/optimized/IS_2/data_graph.txt', '-qg'],\n",
       "    replace_indices: [],\n",
       "    replace_wrapper: <function QueryBuilder.<lambda> at 0x000002DEF2AB9080>,\n",
       "    kwargs: {'comment-person': QGMetaRecord(labels=['comment', 'person'], edges=[(0, 1)])},\n",
       "}"
      ]
     },
     "execution_count": 7,
     "metadata": {},
     "output_type": "execute_result"
    }
   ],
   "source": [
    "\"\"\" labels & edges \"\"\"\n",
    "\n",
    "edges_optimized: list[tuple[int, int]] = [(0, 1)]\n",
    "labels_template_optimized = [\"comment\", \"person\"]\n",
    "task_names_optimized = [[\"comment-person\"]]\n",
    "\n",
    "optimized_builder = QueryBuilder(\n",
    "    edges=edges_optimized,\n",
    "    labels=labels_template_optimized,\n",
    "    raw_task_names=task_names_optimized,\n",
    "    QG_PRE=IS_2_OPTIMIZED_Q_PRE,\n",
    "    LOG_PRE=IS_2_OPTIMIZED_L_PRE,\n",
    "    args_starting=is_2_optimized_args_starting,\n",
    "    kwargs={},\n",
    ")\n",
    "\n",
    "optimized_builder.build()"
   ]
  },
  {
   "cell_type": "code",
   "execution_count": 8,
   "metadata": {},
   "outputs": [
    {
     "name": "stdout",
     "output_type": "stream",
     "text": [
      ">>> Running: comment-person...\n",
      "    Data file: ./out/optimized/IS_2/data_graph.txt\n",
      "    Query file: ./out/optimized/IS_2/comment-person.txt\n",
      "    Output file: \n",
      "    Sum of |C(u)|: 2061775\n",
      "<<< Done! (Outer Elapsed Time: 19900.2371 ms)\n",
      "--- Warning: No `Processing Time (ms)` detected in `task(comment-person)` (`Outer Elapsed Time` is NOT accurate). ---\n",
      "--- ^^^^^^^^ `time_table` will be filled with `float(\"NaN\")` only for marking. ---\n"
     ]
    }
   ],
   "source": [
    "\"\"\" exec \"\"\"\n",
    "\n",
    "time_table_optimized = optimized_builder.run()\n",
    "assert len(time_table_optimized) == 1"
   ]
  },
  {
   "cell_type": "code",
   "execution_count": 9,
   "metadata": {},
   "outputs": [
    {
     "data": {
      "text/plain": [
       "[nan]"
      ]
     },
     "execution_count": 9,
     "metadata": {},
     "output_type": "execute_result"
    }
   ],
   "source": [
    "time_table_optimized"
   ]
  }
 ],
 "metadata": {
  "kernelspec": {
   "display_name": "base",
   "language": "python",
   "name": "python3"
  },
  "language_info": {
   "codemirror_mode": {
    "name": "ipython",
    "version": 3
   },
   "file_extension": ".py",
   "mimetype": "text/x-python",
   "name": "python",
   "nbconvert_exporter": "python",
   "pygments_lexer": "ipython3",
   "version": "3.11.4"
  }
 },
 "nbformat": 4,
 "nbformat_minor": 2
}
