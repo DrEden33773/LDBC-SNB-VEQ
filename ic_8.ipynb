{
 "cells": [
  {
   "cell_type": "markdown",
   "metadata": {},
   "source": [
    "# IC 8\n"
   ]
  },
  {
   "cell_type": "code",
   "execution_count": 1,
   "metadata": {},
   "outputs": [],
   "source": [
    "from dg_builder import *"
   ]
  },
  {
   "cell_type": "markdown",
   "metadata": {},
   "source": [
    "> comment-[replyof]->message-[hasCreator]->person\n"
   ]
  },
  {
   "cell_type": "markdown",
   "metadata": {},
   "source": [
    "## Original\n"
   ]
  },
  {
   "cell_type": "code",
   "execution_count": 2,
   "metadata": {},
   "outputs": [
    {
     "name": "stderr",
     "output_type": "stream",
     "text": [
      "Mapping `origin_id` to `uni_id`: 100%|██████████| 3181724/3181724 [00:03<00:00, 917277.91it/s] \n",
      "Build map of `vertex.uni_id -> label`: 100%|██████████| 3181724/3181724 [00:02<00:00, 1461622.18it/s]\n",
      "Build edges in format: `(src_id, dst_id)`: 100%|██████████| 17256038/17256038 [00:15<00:00, 1122262.40it/s]"
     ]
    },
    {
     "name": "stdout",
     "output_type": "stream",
     "text": [
      "File `./out/original/data_graph.txt` already exists\n"
     ]
    },
    {
     "name": "stderr",
     "output_type": "stream",
     "text": [
      "\n"
     ]
    }
   ],
   "source": [
    "\"\"\" build `original data graph` \"\"\"\n",
    "\n",
    "build_original_dg(original_dg_filepath=IC_8_DG, optimized_dg_filepath=IC_8_DG_OPTIMIZED)"
   ]
  },
  {
   "cell_type": "code",
   "execution_count": 3,
   "metadata": {},
   "outputs": [
    {
     "data": {
      "text/plain": [
       "QueryBuilder {\n",
       "    edges: [(0, 1), (1, 2)],\n",
       "    labels: ['comment', 'message', 'person'],\n",
       "    raw_task_names: [['comment'], ['post']],\n",
       "    QG_PRE: ./out/original/IC_8,\n",
       "    LOG_PRE: ./log/original/IC_8,\n",
       "    args_starting: ['wsl', './VEQ_M_100k', '-dg', './out/original/data_graph.txt', '-qg'],\n",
       "    replace_indices: [1],\n",
       "    replace_wrapper: <function QueryBuilder.<lambda> at 0x000001901546D120>,\n",
       "    kwargs: {'comment': QGMetaRecord(labels=['comment', 'comment', 'person'], edges=[(0, 1), (1, 2)]), 'post': QGMetaRecord(labels=['comment', 'post', 'person'], edges=[(0, 1), (1, 2)])},\n",
       "}"
      ]
     },
     "execution_count": 3,
     "metadata": {},
     "output_type": "execute_result"
    }
   ],
   "source": [
    "\"\"\" labels & edges \"\"\"\n",
    "\n",
    "edges = [(0, 1), (1, 2)]\n",
    "labels_template = [\"comment\", \"message\", \"person\"]\n",
    "task_names = [[\"comment\"], [\"post\"]]\n",
    "\n",
    "original_builder = QueryBuilder(\n",
    "    edges=edges,\n",
    "    labels=labels_template,\n",
    "    raw_task_names=task_names,\n",
    "    QG_PRE=IC_8_ORIGINAL_Q_PRE,\n",
    "    LOG_PRE=IC_8_ORIGINAL_L_PRE,\n",
    "    args_starting=ic_8_original_args_starting,\n",
    "    kwargs={},\n",
    ")\n",
    "\n",
    "original_builder.with_replace_indices([1]).build()"
   ]
  },
  {
   "cell_type": "code",
   "execution_count": 4,
   "metadata": {},
   "outputs": [
    {
     "name": "stdout",
     "output_type": "stream",
     "text": [
      ">>> Running: comment...\n",
      "    Data file: ./out/original/data_graph.txt\n",
      "    Query file: ./out/original/IC_8/comment.txt\n",
      "    Output file: \n",
      "    Sum of |C(u)|: 2601933\n",
      "    Total Recursive Call Count: 1600\n",
      "    Number of Matches: 100001\n",
      "    Filtering Time (ms): 7015.8\n",
      "    Verification Time (ms): 24065.2\n",
      "    Processing Time (ms): 31081\n",
      "<<< Done! (Outer Elapsed Time: 51576.3068 ms)\n",
      ">>> Running: post...\n",
      "    Data file: ./out/original/data_graph.txt\n",
      "    Query file: ./out/original/IC_8/post.txt\n",
      "    Output file: \n",
      "    Sum of |C(u)|: 1216823\n",
      "    Total Recursive Call Count: 1835\n",
      "    Number of Matches: 100003\n",
      "    Filtering Time (ms): 880.872\n",
      "    Verification Time (ms): 4456.83\n",
      "    Processing Time (ms): 5337.7\n",
      "<<< Done! (Outer Elapsed Time: 20986.0112 ms)\n"
     ]
    }
   ],
   "source": [
    "\"\"\" exec \"\"\"\n",
    "\n",
    "time_table = original_builder.run()\n",
    "assert len(time_table) == 2\n",
    "merged_time_table = [time_table[0] + time_table[1]]"
   ]
  },
  {
   "cell_type": "code",
   "execution_count": 5,
   "metadata": {},
   "outputs": [
    {
     "data": {
      "text/plain": [
       "[36418.7]"
      ]
     },
     "execution_count": 5,
     "metadata": {},
     "output_type": "execute_result"
    }
   ],
   "source": [
    "merged_time_table"
   ]
  },
  {
   "cell_type": "markdown",
   "metadata": {},
   "source": [
    "## Optimized\n"
   ]
  },
  {
   "cell_type": "code",
   "execution_count": 6,
   "metadata": {},
   "outputs": [
    {
     "name": "stderr",
     "output_type": "stream",
     "text": [
      "Adding `index edge` into `edges`: 100%|██████████| 2052169/2052169 [00:01<00:00, 1188573.77it/s]\n",
      "Writing `labels` into `./out/optimized/IC_8/data_graph.txt`: 100%|██████████| 3181724/3181724 [00:01<00:00, 1786168.38it/s]\n",
      "Writing `edges` into `./out/optimized/IC_8/data_graph.txt`: 100%|██████████| 19247811/19247811 [00:18<00:00, 1013450.08it/s]\n"
     ]
    }
   ],
   "source": [
    "\"\"\" build `optimized data graph` \"\"\"\n",
    "\n",
    "index_csv_filenames = [\"comment_comment_person\", \"comment_post_person\"]\n",
    "\n",
    "build_optimized_dg(\n",
    "    optimized_dg_filepath=IC_8_DG_OPTIMIZED,\n",
    "    index_csv_filenames=index_csv_filenames,\n",
    ")"
   ]
  },
  {
   "cell_type": "code",
   "execution_count": 7,
   "metadata": {},
   "outputs": [
    {
     "data": {
      "text/plain": [
       "QueryBuilder {\n",
       "    edges: [(0, 1)],\n",
       "    labels: ['comment', 'person'],\n",
       "    raw_task_names: [['comment_and_post']],\n",
       "    QG_PRE: ./out/optimized/IC_8,\n",
       "    LOG_PRE: ./log/optimized/IC_8,\n",
       "    args_starting: ['wsl', './VEQ_M_100k', '-dg', './out/optimized/IC_8/data_graph.txt', '-qg'],\n",
       "    replace_indices: [],\n",
       "    replace_wrapper: <function QueryBuilder.<lambda> at 0x000001901546D120>,\n",
       "    kwargs: {'comment_and_post': QGMetaRecord(labels=['comment', 'person'], edges=[(0, 1)])},\n",
       "}"
      ]
     },
     "execution_count": 7,
     "metadata": {},
     "output_type": "execute_result"
    }
   ],
   "source": [
    "\"\"\" labels & edges \"\"\"\n",
    "\n",
    "edges_optimized: list[tuple[int, int]] = [(0, 1)]\n",
    "labels_template_optimized = [\"comment\", \"person\"]\n",
    "task_names_optimized = [[\"comment_and_post\"]]\n",
    "\n",
    "optimized_builder = QueryBuilder(\n",
    "    edges=edges_optimized,\n",
    "    labels=labels_template_optimized,\n",
    "    raw_task_names=task_names_optimized,\n",
    "    QG_PRE=IC_8_OPTIMIZED_Q_PRE,\n",
    "    LOG_PRE=IC_8_OPTIMIZED_L_PRE,\n",
    "    args_starting=ic_8_optimized_args_starting,\n",
    "    kwargs={},\n",
    ")\n",
    "\n",
    "optimized_builder.build()"
   ]
  },
  {
   "cell_type": "code",
   "execution_count": 8,
   "metadata": {},
   "outputs": [
    {
     "name": "stdout",
     "output_type": "stream",
     "text": [
      ">>> Running: comment_and_post...\n",
      "    Data file: ./out/optimized/IC_8/data_graph.txt\n",
      "    Query file: ./out/optimized/IC_8/comment_and_post.txt\n",
      "    Output file: \n",
      "    Sum of |C(u)|: 2061788\n",
      "<<< Done! (Outer Elapsed Time: 22553.9671 ms)\n",
      "--- Warning: No `Processing Time (ms)` detected in `task(comment_and_post)` (`Outer Elapsed Time` is NOT accurate). ---\n",
      "--- ^^^^^^^^ `time_table` will be filled with `float(\"NaN\")` only for marking. ---\n"
     ]
    }
   ],
   "source": [
    "\"\"\" exec \"\"\"\n",
    "\n",
    "time_table_optimized = optimized_builder.run()\n",
    "assert len(time_table_optimized) == 1"
   ]
  },
  {
   "cell_type": "code",
   "execution_count": 9,
   "metadata": {},
   "outputs": [
    {
     "data": {
      "text/plain": [
       "[nan]"
      ]
     },
     "execution_count": 9,
     "metadata": {},
     "output_type": "execute_result"
    }
   ],
   "source": [
    "time_table_optimized"
   ]
  }
 ],
 "metadata": {
  "kernelspec": {
   "display_name": "base",
   "language": "python",
   "name": "python3"
  },
  "language_info": {
   "codemirror_mode": {
    "name": "ipython",
    "version": 3
   },
   "file_extension": ".py",
   "mimetype": "text/x-python",
   "name": "python",
   "nbconvert_exporter": "python",
   "pygments_lexer": "ipython3",
   "version": "3.11.4"
  }
 },
 "nbformat": 4,
 "nbformat_minor": 2
}
