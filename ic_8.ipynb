{
 "cells": [
  {
   "cell_type": "markdown",
   "metadata": {},
   "source": [
    "# IC 8\n"
   ]
  },
  {
   "cell_type": "code",
   "execution_count": 1,
   "metadata": {},
   "outputs": [],
   "source": [
    "from dg_builder import *"
   ]
  },
  {
   "cell_type": "markdown",
   "metadata": {},
   "source": [
    "> comment-[replyof]->message-[hasCreator]->person\n"
   ]
  },
  {
   "cell_type": "markdown",
   "metadata": {},
   "source": [
    "## Original\n"
   ]
  },
  {
   "cell_type": "code",
   "execution_count": 2,
   "metadata": {},
   "outputs": [
    {
     "name": "stdout",
     "output_type": "stream",
     "text": [
      "File `./out/optimized/IC_8/data_graph.txt` & `./out/original/data_graph.txt` already exists\n"
     ]
    }
   ],
   "source": [
    "\"\"\" build `original data graph` \"\"\"\n",
    "\n",
    "build_original_dg(original_dg_filepath=IC_8_DG, optimized_dg_filepath=IC_8_DG_OPTIMIZED)"
   ]
  },
  {
   "cell_type": "code",
   "execution_count": 3,
   "metadata": {},
   "outputs": [
    {
     "data": {
      "text/plain": [
       "QueryBuilder {\n",
       "    edges: [(0, 1), (1, 2)],\n",
       "    labels: ['comment', 'message', 'person'],\n",
       "    raw_task_names: [['comment'], ['post']],\n",
       "    QG_PRE: ./out/original/IC_8,\n",
       "    LOG_PRE: ./log/original/IC_8,\n",
       "    args_starting: ['wsl', './VEQ_M_100k', '-dg', './out/original/data_graph.txt', '-qg'],\n",
       "    replace_indices: [1],\n",
       "    replace_wrapper: <function QueryBuilder.<lambda> at 0x00000218EAE8D120>,\n",
       "    kwargs: {'comment': QGMetaRecord(labels=['comment', 'comment', 'person'], edges=[(0, 1), (1, 2)]), 'post': QGMetaRecord(labels=['comment', 'post', 'person'], edges=[(0, 1), (1, 2)])},\n",
       "}"
      ]
     },
     "execution_count": 3,
     "metadata": {},
     "output_type": "execute_result"
    }
   ],
   "source": [
    "\"\"\" labels & edges \"\"\"\n",
    "\n",
    "edges = [(0, 1), (1, 2)]\n",
    "labels_template = [\"comment\", \"message\", \"person\"]\n",
    "task_names = [[\"comment\"], [\"post\"]]\n",
    "\n",
    "original_builder = QueryBuilder(\n",
    "    edges=edges,\n",
    "    labels=labels_template,\n",
    "    raw_task_names=task_names,\n",
    "    QG_PRE=IC_8_ORIGINAL_Q_PRE,\n",
    "    LOG_PRE=IC_8_ORIGINAL_L_PRE,\n",
    "    args_starting=ic_8_original_args_starting,\n",
    "    kwargs={},\n",
    ")\n",
    "\n",
    "original_builder.with_replace_indices([1]).build()"
   ]
  },
  {
   "cell_type": "code",
   "execution_count": 4,
   "metadata": {},
   "outputs": [
    {
     "name": "stdout",
     "output_type": "stream",
     "text": [
      "File `./log/original/IC_8/comment.txt` already exists\n",
      "    lines[-2] ~> Processing Time (ms): 29259.7\n",
      "    lines[-1] ~> Outer Elapsed Time (ms): 53122.553\n",
      "\n",
      "File `./log/original/IC_8/post.txt` already exists\n",
      "    lines[-2] ~> Processing Time (ms): 5499.62\n",
      "    lines[-1] ~> Outer Elapsed Time (ms): 26547.2936\n",
      "\n"
     ]
    }
   ],
   "source": [
    "\"\"\" exec \"\"\"\n",
    "\n",
    "time_table, outer_time_table = original_builder.run_with_elapsed_time_table_ret()\n",
    "assert len(time_table) == 2 and len(outer_time_table) == 2\n",
    "merged_time_table = [time_table[0] + time_table[1]]\n",
    "merged_outer_time_table = [outer_time_table[0] + outer_time_table[1]]"
   ]
  },
  {
   "cell_type": "markdown",
   "metadata": {},
   "source": [
    "## Optimized\n"
   ]
  },
  {
   "cell_type": "code",
   "execution_count": 5,
   "metadata": {},
   "outputs": [
    {
     "name": "stdout",
     "output_type": "stream",
     "text": [
      "File `./out/optimized/IC_8/data_graph.txt` already exists\n"
     ]
    }
   ],
   "source": [
    "\"\"\" build `optimized data graph` \"\"\"\n",
    "\n",
    "index_csv_filenames = [\"comment_comment_person\", \"comment_post_person\"]\n",
    "\n",
    "build_optimized_dg(\n",
    "    optimized_dg_filepath=IC_8_DG_OPTIMIZED,\n",
    "    index_csv_filenames=index_csv_filenames,\n",
    ")"
   ]
  },
  {
   "cell_type": "code",
   "execution_count": 6,
   "metadata": {},
   "outputs": [
    {
     "data": {
      "text/plain": [
       "QueryBuilder {\n",
       "    edges: [(0, 1)],\n",
       "    labels: ['comment', 'person'],\n",
       "    raw_task_names: [['comment_and_post']],\n",
       "    QG_PRE: ./out/optimized/IC_8,\n",
       "    LOG_PRE: ./log/optimized/IC_8,\n",
       "    args_starting: ['wsl', './VEQ_M_100k', '-dg', './out/optimized/IC_8/data_graph.txt', '-qg'],\n",
       "    replace_indices: [],\n",
       "    replace_wrapper: <function QueryBuilder.<lambda> at 0x00000218EAE8D120>,\n",
       "    kwargs: {'comment_and_post': QGMetaRecord(labels=['comment', 'person'], edges=[(0, 1)])},\n",
       "}"
      ]
     },
     "execution_count": 6,
     "metadata": {},
     "output_type": "execute_result"
    }
   ],
   "source": [
    "\"\"\" labels & edges \"\"\"\n",
    "\n",
    "edges_optimized: list[tuple[int, int]] = [(0, 1)]\n",
    "labels_template_optimized = [\"comment\", \"person\"]\n",
    "task_names_optimized = [[\"comment_and_post\"]]\n",
    "\n",
    "optimized_builder = QueryBuilder(\n",
    "    edges=edges_optimized,\n",
    "    labels=labels_template_optimized,\n",
    "    raw_task_names=task_names_optimized,\n",
    "    QG_PRE=IC_8_OPTIMIZED_Q_PRE,\n",
    "    LOG_PRE=IC_8_OPTIMIZED_L_PRE,\n",
    "    args_starting=ic_8_optimized_args_starting,\n",
    "    kwargs={},\n",
    ")\n",
    "\n",
    "optimized_builder.build()"
   ]
  },
  {
   "cell_type": "code",
   "execution_count": 7,
   "metadata": {},
   "outputs": [
    {
     "name": "stdout",
     "output_type": "stream",
     "text": [
      ">>> Running: comment_and_post...\n",
      "    Data file: ./out/optimized/IC_8/data_graph.txt\n",
      "    Query file: ./out/optimized/IC_8/comment_and_post.txt\n",
      "    Output file: \n",
      "    Sum of |C(u)|: 2061788\n",
      "<<< Done! (Outer Elapsed Time: 30581.9878 ms)\n",
      "--- Warning: No `Processing Time (ms)` detected in `task(comment_and_post)` (`Outer Elapsed Time` is NOT accurate). ---\n",
      "--- ^^^^^^^^ `time_table` will be filled with `float(\"NaN\")` only for marking. ---\n"
     ]
    }
   ],
   "source": [
    "\"\"\" exec \"\"\"\n",
    "\n",
    "time_table_optimized, outer_time_table_optimized = (\n",
    "    optimized_builder.run_with_elapsed_time_table_ret()\n",
    ")\n",
    "assert len(time_table_optimized) == 1 and len(outer_time_table_optimized) == 1"
   ]
  },
  {
   "cell_type": "code",
   "execution_count": 8,
   "metadata": {},
   "outputs": [
    {
     "name": "stdout",
     "output_type": "stream",
     "text": [
      "Comparison between: `original_match` & `optimized_match`\n"
     ]
    },
    {
     "data": {
      "text/html": [
       "<div><style>\n",
       ".dataframe > thead > tr,\n",
       ".dataframe > tbody > tr {\n",
       "  text-align: right;\n",
       "  white-space: pre-wrap;\n",
       "}\n",
       "</style>\n",
       "<small>shape: (1, 5)</small><table border=\"1\" class=\"dataframe\"><thead><tr><th>task</th><th>original (ms)</th><th>optimized (ms)</th><th>original outer (ms)</th><th>optimized outer (ms)</th></tr><tr><td>list[str]</td><td>f64</td><td>f64</td><td>f64</td><td>f64</td></tr></thead><tbody><tr><td>[&quot;comment_and_post&quot;]</td><td>34759.32</td><td>NaN</td><td>79669.8466</td><td>30581.9878</td></tr></tbody></table></div>"
      ],
      "text/plain": [
       "shape: (1, 5)\n",
       "┌──────────────────────┬───────────────┬────────────────┬─────────────────────┬─────────────────┐\n",
       "│ task                 ┆ original (ms) ┆ optimized (ms) ┆ original outer (ms) ┆ optimized outer │\n",
       "│ ---                  ┆ ---           ┆ ---            ┆ ---                 ┆ (ms)            │\n",
       "│ list[str]            ┆ f64           ┆ f64            ┆ f64                 ┆ ---             │\n",
       "│                      ┆               ┆                ┆                     ┆ f64             │\n",
       "╞══════════════════════╪═══════════════╪════════════════╪═════════════════════╪═════════════════╡\n",
       "│ [\"comment_and_post\"] ┆ 34759.32      ┆ NaN            ┆ 79669.8466          ┆ 30581.9878      │\n",
       "└──────────────────────┴───────────────┴────────────────┴─────────────────────┴─────────────────┘"
      ]
     },
     "execution_count": 8,
     "metadata": {},
     "output_type": "execute_result"
    }
   ],
   "source": [
    "\"\"\" Show `comparison data-frame` \"\"\"\n",
    "\n",
    "print(\"Comparison between: `original_match` & `optimized_match`\")\n",
    "\n",
    "df = pl.DataFrame(\n",
    "    {\n",
    "        \"task\": task_names_optimized,\n",
    "        \"original (ms)\": merged_time_table,\n",
    "        \"optimized (ms)\": time_table_optimized,\n",
    "        \"original outer (ms)\": merged_outer_time_table,\n",
    "        \"optimized outer (ms)\": outer_time_table_optimized,\n",
    "    }\n",
    ")\n",
    "df"
   ]
  }
 ],
 "metadata": {
  "kernelspec": {
   "display_name": "base",
   "language": "python",
   "name": "python3"
  },
  "language_info": {
   "codemirror_mode": {
    "name": "ipython",
    "version": 3
   },
   "file_extension": ".py",
   "mimetype": "text/x-python",
   "name": "python",
   "nbconvert_exporter": "python",
   "pygments_lexer": "ipython3",
   "version": "3.11.4"
  }
 },
 "nbformat": 4,
 "nbformat_minor": 2
}
