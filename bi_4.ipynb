{
 "cells": [
  {
   "cell_type": "markdown",
   "metadata": {},
   "source": [
    "# BI 4\n"
   ]
  },
  {
   "cell_type": "code",
   "execution_count": 1,
   "metadata": {},
   "outputs": [],
   "source": [
    "from dg_builder import *"
   ]
  },
  {
   "cell_type": "markdown",
   "metadata": {},
   "source": [
    "## Original\n"
   ]
  },
  {
   "cell_type": "code",
   "execution_count": 2,
   "metadata": {},
   "outputs": [],
   "source": [
    "\"\"\" labels & edges \"\"\"\n",
    "\n",
    "edges = [(0, 1), (1, 2), (2, 3)]\n",
    "labels = [\"country\", \"city\", \"person\", \"forum\"]\n",
    "task_names = [\"bi_4_query_graph\"]\n",
    "\n",
    "kwargs = {task_name: QGMetaRecord(labels, edges) for task_name in task_names}"
   ]
  },
  {
   "cell_type": "code",
   "execution_count": 3,
   "metadata": {},
   "outputs": [],
   "source": [
    "\"\"\" Init Original Query Graph \"\"\"\n",
    "\n",
    "for qg_name, meta_record in kwargs.items():\n",
    "    qg_path = f\"{BI_4_ORIGINAL_Q_PRE}/{qg_name}.txt\"\n",
    "    labels = meta_record.labels\n",
    "    edges = meta_record.edges\n",
    "    qg_emitter(qg_path, labels, edges)"
   ]
  },
  {
   "cell_type": "code",
   "execution_count": 4,
   "metadata": {},
   "outputs": [],
   "source": [
    "\"\"\" args \"\"\"\n",
    "\n",
    "args_list = [\n",
    "    bi_4_original_args_starting + [f\"{BI_4_ORIGINAL_Q_PRE}/{task_name}.txt\"]\n",
    "    for task_name in task_names\n",
    "]"
   ]
  },
  {
   "cell_type": "code",
   "execution_count": 5,
   "metadata": {},
   "outputs": [
    {
     "name": "stdout",
     "output_type": "stream",
     "text": [
      ">>> Running: bi_4_query_graph...\n",
      "    Data file: ./out/original/data_graph.txt\n",
      "    Query file: ./out/original/BI_4/bi_4_query_graph.txt\n",
      "    Output file: \n",
      "    Sum of |C(u)|: 91005\n",
      "    Total Recursive Call Count: 157\n",
      "    Number of Matches: 100006\n",
      "    Filtering Time (ms): 195.108\n",
      "    Verification Time (ms): 332.457\n",
      "    Processing Time (ms): 527.565\n",
      "<<< Done!\n"
     ]
    }
   ],
   "source": [
    "\"\"\" exec \"\"\"\n",
    "\n",
    "time_table = []\n",
    "\n",
    "result_path_list = [\n",
    "    f\"{BI_4_ORIGINAL_L_PRE}/{task_name}.txt\" for task_name in task_names\n",
    "]\n",
    "\n",
    "run_multiple_veq_m_100k(\n",
    "    result_path_list,\n",
    "    task_names,\n",
    "    args_list,\n",
    "    time_table,\n",
    ")"
   ]
  },
  {
   "cell_type": "markdown",
   "metadata": {},
   "source": [
    "## Optimized\n"
   ]
  },
  {
   "cell_type": "code",
   "execution_count": 6,
   "metadata": {},
   "outputs": [],
   "source": [
    "\"\"\" labels & edges \"\"\"\n",
    "\n",
    "edges_optimized = [(0, 1), (1, 2)]\n",
    "labels_optimized = [\"country\", \"person\", \"forum\"]\n",
    "\n",
    "kwargs_optimized = {\n",
    "    task_name: QGMetaRecord(labels_optimized, edges_optimized)\n",
    "    for task_name in task_names\n",
    "}"
   ]
  },
  {
   "cell_type": "code",
   "execution_count": 7,
   "metadata": {},
   "outputs": [],
   "source": [
    "\"\"\" Init Original Query Graph \"\"\"\n",
    "\n",
    "for qg_name, meta_record in kwargs_optimized.items():\n",
    "    qg_path = f\"{BI_4_OPTIMIZED_Q_PRE}/{qg_name}.txt\"\n",
    "    labels = meta_record.labels\n",
    "    edges = meta_record.edges\n",
    "    qg_emitter(qg_path, labels, edges)"
   ]
  },
  {
   "cell_type": "code",
   "execution_count": 8,
   "metadata": {},
   "outputs": [],
   "source": [
    "\"\"\" args \"\"\"\n",
    "\n",
    "args_list_optimized = [\n",
    "    bi_4_optimized_args_starting + [f\"{BI_4_OPTIMIZED_Q_PRE}/{task_name}.txt\"]\n",
    "    for task_name in task_names\n",
    "]"
   ]
  },
  {
   "cell_type": "code",
   "execution_count": 9,
   "metadata": {},
   "outputs": [
    {
     "name": "stdout",
     "output_type": "stream",
     "text": [
      ">>> Running: bi_4_query_graph...\n",
      "    Data file: ./out/optimized/data_graph.txt\n",
      "    Query file: ./out/optimized/BI_4/bi_4_query_graph.txt\n",
      "    Output file: \n",
      "    Sum of |C(u)|: 90118\n",
      "    Total Recursive Call Count: 54\n",
      "    Number of Matches: 100101\n",
      "    Filtering Time (ms): 263.602\n",
      "    Verification Time (ms): 407.973\n",
      "    Processing Time (ms): 671.574\n",
      "<<< Done!\n"
     ]
    }
   ],
   "source": [
    "\"\"\" exec \"\"\"\n",
    "\n",
    "time_table_optimized = []\n",
    "\n",
    "result_path_list_optimized = [\n",
    "    f\"{BI_4_OPTIMIZED_L_PRE}/{task_name}.txt\" for task_name in task_names\n",
    "]\n",
    "\n",
    "run_multiple_veq_m_100k(\n",
    "    result_path_list_optimized,\n",
    "    task_names,\n",
    "    args_list_optimized,\n",
    "    time_table_optimized,\n",
    ")"
   ]
  },
  {
   "cell_type": "code",
   "execution_count": 10,
   "metadata": {},
   "outputs": [
    {
     "name": "stdout",
     "output_type": "stream",
     "text": [
      "Comparison between: `original_match` & `optimized_match`\n"
     ]
    },
    {
     "data": {
      "text/html": [
       "<div><style>\n",
       ".dataframe > thead > tr,\n",
       ".dataframe > tbody > tr {\n",
       "  text-align: right;\n",
       "  white-space: pre-wrap;\n",
       "}\n",
       "</style>\n",
       "<small>shape: (1, 3)</small><table border=\"1\" class=\"dataframe\"><thead><tr><th>task</th><th>original (ms)</th><th>optimized (ms)</th></tr><tr><td>str</td><td>f64</td><td>f64</td></tr></thead><tbody><tr><td>&quot;bi_4_query_gra…</td><td>527.565</td><td>671.574</td></tr></tbody></table></div>"
      ],
      "text/plain": [
       "shape: (1, 3)\n",
       "┌──────────────────┬───────────────┬────────────────┐\n",
       "│ task             ┆ original (ms) ┆ optimized (ms) │\n",
       "│ ---              ┆ ---           ┆ ---            │\n",
       "│ str              ┆ f64           ┆ f64            │\n",
       "╞══════════════════╪═══════════════╪════════════════╡\n",
       "│ bi_4_query_graph ┆ 527.565       ┆ 671.574        │\n",
       "└──────────────────┴───────────────┴────────────────┘"
      ]
     },
     "execution_count": 10,
     "metadata": {},
     "output_type": "execute_result"
    }
   ],
   "source": [
    "\"\"\" Show BI-4 `comparison data-frame` \"\"\"\n",
    "\n",
    "print(\"Comparison between: `original_match` & `optimized_match`\")\n",
    "\n",
    "df = pl.DataFrame(\n",
    "    {\n",
    "        \"task\": task_names,\n",
    "        \"original (ms)\": time_table,\n",
    "        \"optimized (ms)\": time_table_optimized,\n",
    "    }\n",
    ")\n",
    "df"
   ]
  }
 ],
 "metadata": {
  "kernelspec": {
   "display_name": "base",
   "language": "python",
   "name": "python3"
  },
  "language_info": {
   "codemirror_mode": {
    "name": "ipython",
    "version": 3
   },
   "file_extension": ".py",
   "mimetype": "text/x-python",
   "name": "python",
   "nbconvert_exporter": "python",
   "pygments_lexer": "ipython3",
   "version": "3.11.4"
  }
 },
 "nbformat": 4,
 "nbformat_minor": 2
}
