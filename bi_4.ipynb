{
 "cells": [
  {
   "cell_type": "markdown",
   "metadata": {},
   "source": [
    "# BI 4\n"
   ]
  },
  {
   "cell_type": "code",
   "execution_count": 1,
   "metadata": {},
   "outputs": [],
   "source": [
    "from dg_builder import *"
   ]
  },
  {
   "cell_type": "markdown",
   "metadata": {},
   "source": [
    "- original\n",
    "\n",
    "> forum -> person -> city -> country\n",
    "\n",
    "- indexed\n",
    "\n",
    "> forum -> country\n"
   ]
  },
  {
   "cell_type": "markdown",
   "metadata": {},
   "source": [
    "## Original\n"
   ]
  },
  {
   "cell_type": "code",
   "execution_count": 2,
   "metadata": {},
   "outputs": [
    {
     "name": "stderr",
     "output_type": "stream",
     "text": [
      "Mapping `origin_id` to `uni_id`: 100%|██████████| 3181724/3181724 [00:02<00:00, 1107599.15it/s]\n",
      "Build map of `vertex.uni_id -> label`: 100%|██████████| 3181724/3181724 [00:01<00:00, 1636471.53it/s]\n",
      "Build edges in format: `(src_id, dst_id)`: 100%|██████████| 17256038/17256038 [00:13<00:00, 1298749.36it/s]"
     ]
    },
    {
     "name": "stdout",
     "output_type": "stream",
     "text": [
      "File `./out/original/data_graph.txt` already exists\n"
     ]
    },
    {
     "name": "stderr",
     "output_type": "stream",
     "text": [
      "\n"
     ]
    }
   ],
   "source": [
    "\"\"\" build `original data graph` \"\"\"\n",
    "\n",
    "build_original_dg(original_dg_filepath=BI_4_DG, optimized_dg_filepath=BI_4_DG_OPTIMIZED)"
   ]
  },
  {
   "cell_type": "code",
   "execution_count": 3,
   "metadata": {},
   "outputs": [
    {
     "data": {
      "text/plain": [
       "QueryBuilder {\n",
       "    edges: [(0, 1), (1, 2), (2, 3)],\n",
       "    labels: ['forum', 'person', 'city', 'country'],\n",
       "    raw_task_names: [['bi_4_query_graph']],\n",
       "    QG_PRE: ./out/original/BI_4,\n",
       "    LOG_PRE: ./log/original/BI_4,\n",
       "    args_starting: ['wsl', './VEQ_M_100k', '-dg', './out/original/data_graph.txt', '-qg'],\n",
       "    replace_indices: [],\n",
       "    replace_wrapper: <function QueryBuilder.<lambda> at 0x000001E31839D080>,\n",
       "    kwargs: {'bi_4_query_graph': QGMetaRecord(labels=['forum', 'person', 'city', 'country'], edges=[(0, 1), (1, 2), (2, 3)])},\n",
       "}"
      ]
     },
     "execution_count": 3,
     "metadata": {},
     "output_type": "execute_result"
    }
   ],
   "source": [
    "\"\"\" labels & edges \"\"\"\n",
    "\n",
    "edges = [(0, 1), (1, 2), (2, 3)]\n",
    "labels = [\"forum\", \"person\", \"city\", \"country\"]\n",
    "task_names = [[\"bi_4_query_graph\"]]\n",
    "\n",
    "original_builder = QueryBuilder(\n",
    "    edges=edges,\n",
    "    labels=labels,\n",
    "    raw_task_names=task_names,\n",
    "    QG_PRE=BI_4_ORIGINAL_Q_PRE,\n",
    "    LOG_PRE=BI_4_ORIGINAL_L_PRE,\n",
    "    args_starting=bi_4_original_args_starting,\n",
    "    kwargs={},\n",
    ")\n",
    "\n",
    "original_builder.build()"
   ]
  },
  {
   "cell_type": "code",
   "execution_count": 4,
   "metadata": {},
   "outputs": [
    {
     "name": "stdout",
     "output_type": "stream",
     "text": [
      ">>> Running: bi_4_query_graph...\n",
      "    Data file: ./out/original/data_graph.txt\n",
      "    Query file: ./out/original/BI_4/bi_4_query_graph.txt\n",
      "    Output file: \n",
      "    Sum of |C(u)|: 89019\n",
      "    Total Recursive Call Count: 160\n",
      "    Number of Matches: 100120\n",
      "    Filtering Time (ms): 121.951\n",
      "    Verification Time (ms): 238.711\n",
      "    Processing Time (ms): 360.662\n",
      "<<< Done! (Outer Elapsed Time: 19839.9591 ms)\n"
     ]
    }
   ],
   "source": [
    "\"\"\" exec \"\"\"\n",
    "\n",
    "time_table = original_builder.run()\n",
    "assert len(time_table) == 1"
   ]
  },
  {
   "cell_type": "code",
   "execution_count": 5,
   "metadata": {},
   "outputs": [
    {
     "data": {
      "text/plain": [
       "[360.662]"
      ]
     },
     "execution_count": 5,
     "metadata": {},
     "output_type": "execute_result"
    }
   ],
   "source": [
    "time_table"
   ]
  },
  {
   "cell_type": "markdown",
   "metadata": {},
   "source": [
    "## Optimized\n"
   ]
  },
  {
   "cell_type": "code",
   "execution_count": 6,
   "metadata": {},
   "outputs": [
    {
     "name": "stderr",
     "output_type": "stream",
     "text": [
      "Adding `index edge` into `edges`: 100%|██████████| 90492/90492 [00:00<00:00, 1129592.41it/s]\n",
      "Writing `labels` into `./out/optimized/BI_4/data_graph.txt`: 100%|██████████| 3181724/3181724 [00:01<00:00, 1916326.24it/s]\n",
      "Writing `edges` into `./out/optimized/BI_4/data_graph.txt`: 100%|██████████| 17346525/17346525 [00:16<00:00, 1043856.72it/s]\n"
     ]
    }
   ],
   "source": [
    "\"\"\" build `optimized data graph` \"\"\"\n",
    "\n",
    "index_csv_filenames = [\"forum_person_city_country\"]\n",
    "\n",
    "build_optimized_dg(\n",
    "    optimized_dg_filepath=BI_4_DG_OPTIMIZED,\n",
    "    index_csv_filenames=index_csv_filenames,\n",
    ")"
   ]
  },
  {
   "cell_type": "code",
   "execution_count": 7,
   "metadata": {},
   "outputs": [
    {
     "data": {
      "text/plain": [
       "QueryBuilder {\n",
       "    edges: [(0, 1)],\n",
       "    labels: ['forum', 'country'],\n",
       "    raw_task_names: [['bi_4_query_graph']],\n",
       "    QG_PRE: ./out/optimized/BI_4,\n",
       "    LOG_PRE: ./log/optimized/BI_4,\n",
       "    args_starting: ['wsl', './VEQ_M_100k', '-dg', './out/optimized/BI_4/data_graph.txt', '-qg'],\n",
       "    replace_indices: [],\n",
       "    replace_wrapper: <function QueryBuilder.<lambda> at 0x000001E31839D080>,\n",
       "    kwargs: {'bi_4_query_graph': QGMetaRecord(labels=['forum', 'country'], edges=[(0, 1)])},\n",
       "}"
      ]
     },
     "execution_count": 7,
     "metadata": {},
     "output_type": "execute_result"
    }
   ],
   "source": [
    "\"\"\" labels & edges \"\"\"\n",
    "\n",
    "edges_optimized: list[tuple[int, int]] = [(0, 1)]\n",
    "labels_optimized = [\"forum\", \"country\"]\n",
    "\n",
    "optimized_builder = QueryBuilder(\n",
    "    edges=edges_optimized,\n",
    "    labels=labels_optimized,\n",
    "    raw_task_names=task_names,\n",
    "    QG_PRE=BI_4_OPTIMIZED_Q_PRE,\n",
    "    LOG_PRE=BI_4_OPTIMIZED_L_PRE,\n",
    "    args_starting=bi_4_optimized_args_starting,\n",
    "    kwargs={},\n",
    ")\n",
    "\n",
    "optimized_builder.build()"
   ]
  },
  {
   "cell_type": "code",
   "execution_count": 8,
   "metadata": {},
   "outputs": [
    {
     "name": "stdout",
     "output_type": "stream",
     "text": [
      ">>> Running: bi_4_query_graph...\n",
      "    Data file: ./out/optimized/BI_4/data_graph.txt\n",
      "    Query file: ./out/optimized/BI_4/bi_4_query_graph.txt\n",
      "    Output file: \n",
      "    Sum of |C(u)|: 53961\n",
      "<<< Done! (Outer Elapsed Time: 16978.2335 ms)\n",
      "--- Warning: No `Processing Time (ms)` detected in `task(bi_4_query_graph)` (`Outer Elapsed Time` is NOT accurate). ---\n",
      "--- ^^^^^^^^ `time_table` will be filled with `float(\"NaN\")` only for marking. ---\n"
     ]
    }
   ],
   "source": [
    "\"\"\" exec \"\"\"\n",
    "\n",
    "time_table_optimized = optimized_builder.run()\n",
    "assert len(time_table_optimized) == 1"
   ]
  },
  {
   "cell_type": "code",
   "execution_count": 9,
   "metadata": {},
   "outputs": [
    {
     "data": {
      "text/plain": [
       "[nan]"
      ]
     },
     "execution_count": 9,
     "metadata": {},
     "output_type": "execute_result"
    }
   ],
   "source": [
    "time_table_optimized"
   ]
  },
  {
   "cell_type": "code",
   "execution_count": 10,
   "metadata": {},
   "outputs": [
    {
     "name": "stdout",
     "output_type": "stream",
     "text": [
      "Comparison between: `original_match` & `optimized_match`\n"
     ]
    },
    {
     "data": {
      "text/html": [
       "<div><style>\n",
       ".dataframe > thead > tr,\n",
       ".dataframe > tbody > tr {\n",
       "  text-align: right;\n",
       "  white-space: pre-wrap;\n",
       "}\n",
       "</style>\n",
       "<small>shape: (1, 3)</small><table border=\"1\" class=\"dataframe\"><thead><tr><th>task</th><th>original (ms)</th><th>optimized (ms)</th></tr><tr><td>list[str]</td><td>f64</td><td>f64</td></tr></thead><tbody><tr><td>[&quot;bi_4_query_graph&quot;]</td><td>360.662</td><td>NaN</td></tr></tbody></table></div>"
      ],
      "text/plain": [
       "shape: (1, 3)\n",
       "┌──────────────────────┬───────────────┬────────────────┐\n",
       "│ task                 ┆ original (ms) ┆ optimized (ms) │\n",
       "│ ---                  ┆ ---           ┆ ---            │\n",
       "│ list[str]            ┆ f64           ┆ f64            │\n",
       "╞══════════════════════╪═══════════════╪════════════════╡\n",
       "│ [\"bi_4_query_graph\"] ┆ 360.662       ┆ NaN            │\n",
       "└──────────────────────┴───────────────┴────────────────┘"
      ]
     },
     "execution_count": 10,
     "metadata": {},
     "output_type": "execute_result"
    }
   ],
   "source": [
    "\"\"\" Show BI-4 `comparison data-frame` \"\"\"\n",
    "\n",
    "print(\"Comparison between: `original_match` & `optimized_match`\")\n",
    "\n",
    "df = pl.DataFrame(\n",
    "    {\n",
    "        \"task\": task_names,\n",
    "        \"original (ms)\": time_table,\n",
    "        \"optimized (ms)\": time_table_optimized,\n",
    "    }\n",
    ")\n",
    "df"
   ]
  }
 ],
 "metadata": {
  "kernelspec": {
   "display_name": "base",
   "language": "python",
   "name": "python3"
  },
  "language_info": {
   "codemirror_mode": {
    "name": "ipython",
    "version": 3
   },
   "file_extension": ".py",
   "mimetype": "text/x-python",
   "name": "python",
   "nbconvert_exporter": "python",
   "pygments_lexer": "ipython3",
   "version": "3.11.4"
  }
 },
 "nbformat": 4,
 "nbformat_minor": 2
}
