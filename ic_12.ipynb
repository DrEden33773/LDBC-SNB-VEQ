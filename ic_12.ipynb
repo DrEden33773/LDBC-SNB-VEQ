{
 "cells": [
  {
   "cell_type": "markdown",
   "metadata": {},
   "source": [
    "# IC 12\n"
   ]
  },
  {
   "cell_type": "code",
   "execution_count": 1,
   "metadata": {},
   "outputs": [],
   "source": [
    "from dg_builder import *"
   ]
  },
  {
   "cell_type": "markdown",
   "metadata": {},
   "source": [
    "> tag-[hastype]->tagclass-[isSubclassof]->tagclass\n"
   ]
  },
  {
   "cell_type": "markdown",
   "metadata": {},
   "source": [
    "## Guess: Bug Reason\n"
   ]
  },
  {
   "cell_type": "markdown",
   "metadata": {},
   "source": [
    "- raw:\n",
    "\n",
    "> tag-[#hastype]->tagclass-[#isSubclassof]->tagclass\n",
    "\n",
    "- indexed:\n",
    "\n",
    "> tag-[#{anonymous index}]->tagclass\n",
    "\n",
    "HOWEVER, since `./VEQ_M_100k` doesn't support `edge labels`, `tag-[#{anonymous index}]->tagclass` will be treated `equally` as `tag-[#hastype]->tagclass`.\n",
    "\n",
    "That means, the binary file actually handled `more edges` after indexing!\n"
   ]
  },
  {
   "cell_type": "markdown",
   "metadata": {},
   "source": [
    "## Original\n"
   ]
  },
  {
   "cell_type": "code",
   "execution_count": 2,
   "metadata": {},
   "outputs": [
    {
     "name": "stderr",
     "output_type": "stream",
     "text": [
      "Mapping `origin_id` to `uni_id`: 100%|██████████| 3181724/3181724 [00:03<00:00, 987154.14it/s] \n",
      "Build map of `vertex.uni_id -> label`: 100%|██████████| 3181724/3181724 [00:02<00:00, 1478065.32it/s]\n",
      "Build edges in format: `(src_id, dst_id)`: 100%|██████████| 17256038/17256038 [00:15<00:00, 1123977.87it/s]"
     ]
    },
    {
     "name": "stdout",
     "output_type": "stream",
     "text": [
      "File `./out/original/data_graph.txt` already exists\n"
     ]
    },
    {
     "name": "stderr",
     "output_type": "stream",
     "text": [
      "\n"
     ]
    }
   ],
   "source": [
    "\"\"\" build `original data graph` \"\"\"\n",
    "\n",
    "build_original_dg(\n",
    "    original_dg_filepath=IC_12_DG, optimized_dg_filepath=IC_12_DG_OPTIMIZED\n",
    ")"
   ]
  },
  {
   "cell_type": "code",
   "execution_count": 3,
   "metadata": {},
   "outputs": [
    {
     "data": {
      "text/plain": [
       "QueryBuilder {\n",
       "    edges: [(0, 1), (1, 2)],\n",
       "    labels: ['tag', 'tagclass', 'tagclass'],\n",
       "    raw_task_names: [['tag-tagclass-tagclass']],\n",
       "    QG_PRE: ./out/original/IC_12,\n",
       "    LOG_PRE: ./log/original/IC_12,\n",
       "    args_starting: ['wsl', './VEQ_M_100k', '-dg', './out/original/data_graph.txt', '-qg'],\n",
       "    replace_indices: [],\n",
       "    replace_wrapper: <function QueryBuilder.<lambda> at 0x000002BCC839D080>,\n",
       "    kwargs: {'tag-tagclass-tagclass': QGMetaRecord(labels=['tag', 'tagclass', 'tagclass'], edges=[(0, 1), (1, 2)])},\n",
       "}"
      ]
     },
     "execution_count": 3,
     "metadata": {},
     "output_type": "execute_result"
    }
   ],
   "source": [
    "\"\"\" labels & edges \"\"\"\n",
    "\n",
    "edges = [(0, 1), (1, 2)]\n",
    "labels_template = [\"tag\", \"tagclass\", \"tagclass\"]\n",
    "task_names = [[\"tag-tagclass-tagclass\"]]\n",
    "\n",
    "original_builder = QueryBuilder(\n",
    "    edges=edges,\n",
    "    labels=labels_template,\n",
    "    raw_task_names=task_names,\n",
    "    QG_PRE=IC_12_ORIGINAL_Q_PRE,\n",
    "    LOG_PRE=IC_12_ORIGINAL_L_PRE,\n",
    "    args_starting=ic_12_original_args_starting,\n",
    "    kwargs={},\n",
    ")\n",
    "\n",
    "original_builder.build()"
   ]
  },
  {
   "cell_type": "code",
   "execution_count": 4,
   "metadata": {},
   "outputs": [
    {
     "name": "stdout",
     "output_type": "stream",
     "text": [
      ">>> Running: tag-tagclass-tagclass...\n",
      "    Data file: ./out/original/data_graph.txt\n",
      "    Query file: ./out/original/IC_12/tag-tagclass-tagclass.txt\n",
      "    Output file: \n",
      "    Sum of |C(u)|: 15311\n",
      "<<< Done! (Outer Elapsed Time: 19444.2336 ms)\n",
      "--- Warning: No `Processing Time (ms)` detected in `task(tag-tagclass-tagclass)` (`Outer Elapsed Time` is NOT accurate). ---\n",
      "--- ^^^^^^^^ `time_table` will be filled with `float(\"NaN\")` only for marking. ---\n"
     ]
    }
   ],
   "source": [
    "\"\"\" exec \"\"\"\n",
    "\n",
    "time_table = original_builder.run()\n",
    "assert len(time_table) == 1"
   ]
  },
  {
   "cell_type": "code",
   "execution_count": 5,
   "metadata": {},
   "outputs": [
    {
     "data": {
      "text/plain": [
       "[nan]"
      ]
     },
     "execution_count": 5,
     "metadata": {},
     "output_type": "execute_result"
    }
   ],
   "source": [
    "time_table"
   ]
  },
  {
   "cell_type": "markdown",
   "metadata": {},
   "source": [
    "## Optimized\n"
   ]
  },
  {
   "cell_type": "code",
   "execution_count": 6,
   "metadata": {},
   "outputs": [
    {
     "name": "stderr",
     "output_type": "stream",
     "text": [
      "Adding `index edge` into `edges`: 100%|██████████| 32096/32096 [00:00<00:00, 908547.43it/s]\n",
      "Writing `labels` into `./out/optimized/IC_12/data_graph.txt`: 100%|██████████| 3181724/3181724 [00:01<00:00, 1682925.90it/s]\n",
      "Writing `edges` into `./out/optimized/IC_12/data_graph.txt`: 100%|██████████| 17272081/17272081 [00:19<00:00, 908274.30it/s]\n"
     ]
    }
   ],
   "source": [
    "\"\"\" build `optimized data graph` \"\"\"\n",
    "\n",
    "index_csv_filenames = [\"tag_tagclass_tagclass\", \"tag_tagclass2\"]\n",
    "\n",
    "build_optimized_dg(\n",
    "    optimized_dg_filepath=IC_12_DG_OPTIMIZED,\n",
    "    index_csv_filenames=index_csv_filenames,\n",
    ")"
   ]
  },
  {
   "cell_type": "code",
   "execution_count": 7,
   "metadata": {},
   "outputs": [
    {
     "data": {
      "text/plain": [
       "QueryBuilder {\n",
       "    edges: [(0, 1)],\n",
       "    labels: ['tag', 'tagclass'],\n",
       "    raw_task_names: [['tag-tagclass']],\n",
       "    QG_PRE: ./out/optimized/IC_12,\n",
       "    LOG_PRE: ./log/optimized/IC_12,\n",
       "    args_starting: ['wsl', './VEQ_M_100k', '-dg', './out/optimized/IC_12/data_graph.txt', '-qg'],\n",
       "    replace_indices: [],\n",
       "    replace_wrapper: <function QueryBuilder.<lambda> at 0x000002BCC839D080>,\n",
       "    kwargs: {'tag-tagclass': QGMetaRecord(labels=['tag', 'tagclass'], edges=[(0, 1)])},\n",
       "}"
      ]
     },
     "execution_count": 7,
     "metadata": {},
     "output_type": "execute_result"
    }
   ],
   "source": [
    "\"\"\" labels & edges \"\"\"\n",
    "\n",
    "edges_optimized: list[tuple[int, int]] = [(0, 1)]\n",
    "labels_template_optimized = [\"tag\", \"tagclass\"]\n",
    "task_names_optimized = [[\"tag-tagclass\"]]\n",
    "\n",
    "optimized_builder = QueryBuilder(\n",
    "    edges=edges_optimized,\n",
    "    labels=labels_template_optimized,\n",
    "    raw_task_names=task_names_optimized,\n",
    "    QG_PRE=IC_12_OPTIMIZED_Q_PRE,\n",
    "    LOG_PRE=IC_12_OPTIMIZED_L_PRE,\n",
    "    args_starting=ic_12_optimized_args_starting,\n",
    "    kwargs={},\n",
    ")\n",
    "\n",
    "optimized_builder.build()"
   ]
  },
  {
   "cell_type": "code",
   "execution_count": 8,
   "metadata": {},
   "outputs": [
    {
     "name": "stdout",
     "output_type": "stream",
     "text": [
      ">>> Running: tag-tagclass...\n",
      "    Data file: ./out/optimized/IC_12/data_graph.txt\n",
      "    Query file: ./out/optimized/IC_12/tag-tagclass.txt\n",
      "    Output file: \n",
      "    Sum of |C(u)|: 16062\n",
      "<<< Done! (Outer Elapsed Time: 16867.2149 ms)\n",
      "--- Warning: No `Processing Time (ms)` detected in `task(tag-tagclass)` (`Outer Elapsed Time` is NOT accurate). ---\n",
      "--- ^^^^^^^^ `time_table` will be filled with `float(\"NaN\")` only for marking. ---\n"
     ]
    }
   ],
   "source": [
    "\"\"\" exec \"\"\"\n",
    "\n",
    "time_table_optimized = optimized_builder.run()\n",
    "assert len(time_table_optimized) == 1"
   ]
  },
  {
   "cell_type": "code",
   "execution_count": 9,
   "metadata": {},
   "outputs": [
    {
     "data": {
      "text/plain": [
       "[nan]"
      ]
     },
     "execution_count": 9,
     "metadata": {},
     "output_type": "execute_result"
    }
   ],
   "source": [
    "time_table_optimized"
   ]
  }
 ],
 "metadata": {
  "kernelspec": {
   "display_name": "base",
   "language": "python",
   "name": "python3"
  },
  "language_info": {
   "codemirror_mode": {
    "name": "ipython",
    "version": 3
   },
   "file_extension": ".py",
   "mimetype": "text/x-python",
   "name": "python",
   "nbconvert_exporter": "python",
   "pygments_lexer": "ipython3",
   "version": "3.11.4"
  }
 },
 "nbformat": 4,
 "nbformat_minor": 2
}
