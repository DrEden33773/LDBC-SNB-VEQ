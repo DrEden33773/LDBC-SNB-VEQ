{
 "cells": [
  {
   "cell_type": "markdown",
   "metadata": {},
   "source": [
    "# BI 10\n"
   ]
  },
  {
   "cell_type": "code",
   "execution_count": 1,
   "metadata": {},
   "outputs": [],
   "source": [
    "from dg_builder import *"
   ]
  },
  {
   "cell_type": "code",
   "execution_count": 2,
   "metadata": {},
   "outputs": [
    {
     "name": "stderr",
     "output_type": "stream",
     "text": [
      "Mapping `origin_id` to `uni_id`: 100%|██████████| 3181724/3181724 [00:02<00:00, 1123855.22it/s]\n",
      "Build map of `vertex.uni_id -> label`: 100%|██████████| 3181724/3181724 [00:01<00:00, 1596102.04it/s]\n",
      "Build edges in format: `(src_id, dst_id)`: 100%|██████████| 17256038/17256038 [00:13<00:00, 1234815.28it/s]"
     ]
    },
    {
     "name": "stdout",
     "output_type": "stream",
     "text": [
      "File `./out/original/data_graph.txt` already exists\n"
     ]
    },
    {
     "name": "stderr",
     "output_type": "stream",
     "text": [
      "\n"
     ]
    }
   ],
   "source": [
    "\"\"\" build `original data graph` \"\"\"\n",
    "\n",
    "build_original_dg(\n",
    "    original_dg_filepath=BI_10_DG, optimized_dg_filepath=BI_10_DG_OPTIMIZED\n",
    ")"
   ]
  },
  {
   "cell_type": "code",
   "execution_count": 3,
   "metadata": {},
   "outputs": [
    {
     "name": "stderr",
     "output_type": "stream",
     "text": [
      "Adding `index edge` into `edges`: 100%|██████████| 7949/7949 [00:00<00:00, 794673.40it/s]\n",
      "Writing `labels` into `./out/optimized/BI_10/data_graph.txt`: 100%|██████████| 3181724/3181724 [00:01<00:00, 1822386.26it/s]\n",
      "Writing `edges` into `./out/optimized/BI_10/data_graph.txt`: 100%|██████████| 17263982/17263982 [00:17<00:00, 992656.71it/s] \n"
     ]
    }
   ],
   "source": [
    "\"\"\" build `optimized data graph` \"\"\"\n",
    "\n",
    "index_csv_filenames = [\n",
    "    \"person_city_country\",\n",
    "]\n",
    "\n",
    "build_optimized_dg(\n",
    "    optimized_dg_filepath=BI_10_DG_OPTIMIZED,\n",
    "    index_csv_filenames=index_csv_filenames,\n",
    ")"
   ]
  },
  {
   "cell_type": "markdown",
   "metadata": {},
   "source": [
    "## Original\n"
   ]
  },
  {
   "cell_type": "code",
   "execution_count": 4,
   "metadata": {},
   "outputs": [
    {
     "data": {
      "text/plain": [
       "QueryBuilder {\n",
       "    edges: [(0, 1), (1, 2), (2, 3), (2, 4), (4, 5), (4, 6), (6, 7)],\n",
       "    labels: ['country', 'city', 'person', 'person', 'message', 'tag', 'tag', 'tagclass'],\n",
       "    raw_task_names: [['comment'], ['post']],\n",
       "    QG_PRE: ./out/original/BI_10,\n",
       "    LOG_PRE: ./log/original/BI_10,\n",
       "    args_starting: ['wsl', './VEQ_M_100k', '-dg', './out/original/data_graph.txt', '-qg'],\n",
       "    replace_indices: [4],\n",
       "    replace_wrapper: <function QueryBuilder.<lambda> at 0x000002828EB6D120>,\n",
       "    kwargs: {'comment': QGMetaRecord(labels=['country', 'city', 'person', 'person', 'comment', 'tag', 'tag', 'tagclass'], edges=[(0, 1), (1, 2), (2, 3), (2, 4), (4, 5), (4, 6), (6, 7)]), 'post': QGMetaRecord(labels=['country', 'city', 'person', 'person', 'post', 'tag', 'tag', 'tagclass'], edges=[(0, 1), (1, 2), (2, 3), (2, 4), (4, 5), (4, 6), (6, 7)])},\n",
       "}"
      ]
     },
     "execution_count": 4,
     "metadata": {},
     "output_type": "execute_result"
    }
   ],
   "source": [
    "edges = [(0, 1), (1, 2), (2, 3)] + [(2, 4), (4, 5), (4, 6), (6, 7)]\n",
    "labels_template = [\n",
    "    \"country\",\n",
    "    \"city\",\n",
    "    \"person\",\n",
    "    \"person\",\n",
    "    \"message\",\n",
    "    \"tag\",\n",
    "    \"tag\",\n",
    "    \"tagclass\",\n",
    "]\n",
    "task_names = [[\"comment\"], [\"post\"]]\n",
    "\n",
    "original_builder = QueryBuilder(\n",
    "    edges=edges,\n",
    "    labels=labels_template,\n",
    "    raw_task_names=task_names,\n",
    "    QG_PRE=BI_10_ORIGINAL_Q_PRE,\n",
    "    LOG_PRE=BI_10_ORIGINAL_L_PRE,\n",
    "    args_starting=bi_10_original_args_starting,\n",
    "    kwargs={},\n",
    ")\n",
    "\n",
    "original_builder.with_replace_indices([4]).build()"
   ]
  },
  {
   "cell_type": "code",
   "execution_count": 5,
   "metadata": {},
   "outputs": [
    {
     "name": "stdout",
     "output_type": "stream",
     "text": [
      ">>> Running: comment...\n",
      "    Data file: ./out/original/data_graph.txt\n",
      "    Query file: ./out/original/BI_10/comment.txt\n",
      "    Output file: \n",
      "    Sum of |C(u)|: 387882\n",
      "    Total Recursive Call Count: 550\n",
      "    Number of Matches: 104173\n",
      "    Filtering Time (ms): 2512.13\n",
      "    Verification Time (ms): 193.779\n",
      "    Processing Time (ms): 2705.9\n",
      "<<< Done! (Outer Elapsed Time: 24411.5361 ms)\n",
      ">>> Running: post...\n",
      "    Data file: ./out/original/data_graph.txt\n",
      "    Query file: ./out/original/BI_10/post.txt\n",
      "    Output file: \n",
      "    Sum of |C(u)|: 127340\n",
      "    Total Recursive Call Count: 329\n",
      "    Number of Matches: 100665\n",
      "    Filtering Time (ms): 635.955\n",
      "    Verification Time (ms): 140.127\n",
      "    Processing Time (ms): 776.081\n",
      "<<< Done! (Outer Elapsed Time: 14283.5273 ms)\n"
     ]
    }
   ],
   "source": [
    "\"\"\" exec \"\"\"\n",
    "\n",
    "time_table, outer_time_table = original_builder.run_with_elapsed_time_table_ret()\n",
    "assert len(time_table) == 2 and len(outer_time_table) == 2"
   ]
  },
  {
   "cell_type": "markdown",
   "metadata": {},
   "source": [
    "## Optimized\n"
   ]
  },
  {
   "cell_type": "code",
   "execution_count": 6,
   "metadata": {},
   "outputs": [
    {
     "data": {
      "text/plain": [
       "QueryBuilder {\n",
       "    edges: [(0, 1), (1, 2), (1, 3), (3, 4), (3, 5), (5, 6)],\n",
       "    labels: ['country', 'person', 'person', 'message', 'tag', 'tag', 'tagclass'],\n",
       "    raw_task_names: [['comment'], ['post']],\n",
       "    QG_PRE: ./out/optimized/BI_10,\n",
       "    LOG_PRE: ./log/optimized/BI_10,\n",
       "    args_starting: ['wsl', './VEQ_M_100k', '-dg', './out/optimized/BI_10/data_graph.txt', '-qg'],\n",
       "    replace_indices: [3],\n",
       "    replace_wrapper: <function QueryBuilder.<lambda> at 0x000002828EB6D120>,\n",
       "    kwargs: {'comment': QGMetaRecord(labels=['country', 'person', 'person', 'comment', 'tag', 'tag', 'tagclass'], edges=[(0, 1), (1, 2), (1, 3), (3, 4), (3, 5), (5, 6)]), 'post': QGMetaRecord(labels=['country', 'person', 'person', 'post', 'tag', 'tag', 'tagclass'], edges=[(0, 1), (1, 2), (1, 3), (3, 4), (3, 5), (5, 6)])},\n",
       "}"
      ]
     },
     "execution_count": 6,
     "metadata": {},
     "output_type": "execute_result"
    }
   ],
   "source": [
    "\"\"\" labels & edges \"\"\"\n",
    "\n",
    "edges_optimized = [(0, 1), (1, 2)] + [(1, 3), (3, 4), (3, 5), (5, 6)]\n",
    "labels_template_optimized = [\n",
    "    \"country\",\n",
    "    \"person\",\n",
    "    \"person\",\n",
    "    \"message\",\n",
    "    \"tag\",\n",
    "    \"tag\",\n",
    "    \"tagclass\",\n",
    "]\n",
    "task_names_optimized = task_names\n",
    "\n",
    "optimized_builder = QueryBuilder(\n",
    "    edges=edges_optimized,\n",
    "    labels=labels_template_optimized,\n",
    "    raw_task_names=task_names_optimized,\n",
    "    QG_PRE=BI_10_OPTIMIZED_Q_PRE,\n",
    "    LOG_PRE=BI_10_OPTIMIZED_L_PRE,\n",
    "    args_starting=bi_10_optimized_args_starting,\n",
    "    kwargs={},\n",
    ")\n",
    "\n",
    "optimized_builder.with_replace_indices([3]).build()"
   ]
  },
  {
   "cell_type": "code",
   "execution_count": 7,
   "metadata": {},
   "outputs": [
    {
     "name": "stdout",
     "output_type": "stream",
     "text": [
      ">>> Running: comment...\n",
      "    Data file: ./out/optimized/BI_10/data_graph.txt\n",
      "    Query file: ./out/optimized/BI_10/comment.txt\n",
      "    Output file: \n",
      "    Sum of |C(u)|: 328473\n",
      "    Total Recursive Call Count: 235\n",
      "    Number of Matches: 101965\n",
      "    Filtering Time (ms): 2690.41\n",
      "    Verification Time (ms): 173.079\n",
      "    Processing Time (ms): 2863.49\n",
      "<<< Done! (Outer Elapsed Time: 19289.5121 ms)\n",
      ">>> Running: post...\n",
      "    Data file: ./out/optimized/BI_10/data_graph.txt\n",
      "    Query file: ./out/optimized/BI_10/post.txt\n",
      "    Output file: \n",
      "    Sum of |C(u)|: 110510\n",
      "    Total Recursive Call Count: 135\n",
      "    Number of Matches: 103166\n",
      "    Filtering Time (ms): 463.239\n",
      "    Verification Time (ms): 158.023\n",
      "    Processing Time (ms): 621.262\n",
      "<<< Done! (Outer Elapsed Time: 16347.2518 ms)\n"
     ]
    }
   ],
   "source": [
    "\"\"\" exec \"\"\"\n",
    "\n",
    "time_table_optimized, outer_time_table_optimized = (\n",
    "    optimized_builder.run_with_elapsed_time_table_ret()\n",
    ")\n",
    "assert len(time_table_optimized) == 2 and len(outer_time_table_optimized) == 2"
   ]
  },
  {
   "cell_type": "code",
   "execution_count": 8,
   "metadata": {},
   "outputs": [
    {
     "name": "stdout",
     "output_type": "stream",
     "text": [
      "Comparison between: `original_match` & `optimized_match`\n"
     ]
    },
    {
     "data": {
      "text/html": [
       "<div><style>\n",
       ".dataframe > thead > tr,\n",
       ".dataframe > tbody > tr {\n",
       "  text-align: right;\n",
       "  white-space: pre-wrap;\n",
       "}\n",
       "</style>\n",
       "<small>shape: (2, 5)</small><table border=\"1\" class=\"dataframe\"><thead><tr><th>task</th><th>original (ms)</th><th>optimized (ms)</th><th>original outer (ms)</th><th>optimized outer (ms)</th></tr><tr><td>list[str]</td><td>f64</td><td>f64</td><td>f64</td><td>f64</td></tr></thead><tbody><tr><td>[&quot;comment&quot;]</td><td>2705.9</td><td>2863.49</td><td>24411.5361</td><td>19289.5121</td></tr><tr><td>[&quot;post&quot;]</td><td>776.081</td><td>621.262</td><td>14283.5273</td><td>16347.2518</td></tr></tbody></table></div>"
      ],
      "text/plain": [
       "shape: (2, 5)\n",
       "┌─────────────┬───────────────┬────────────────┬─────────────────────┬──────────────────────┐\n",
       "│ task        ┆ original (ms) ┆ optimized (ms) ┆ original outer (ms) ┆ optimized outer (ms) │\n",
       "│ ---         ┆ ---           ┆ ---            ┆ ---                 ┆ ---                  │\n",
       "│ list[str]   ┆ f64           ┆ f64            ┆ f64                 ┆ f64                  │\n",
       "╞═════════════╪═══════════════╪════════════════╪═════════════════════╪══════════════════════╡\n",
       "│ [\"comment\"] ┆ 2705.9        ┆ 2863.49        ┆ 24411.5361          ┆ 19289.5121           │\n",
       "│ [\"post\"]    ┆ 776.081       ┆ 621.262        ┆ 14283.5273          ┆ 16347.2518           │\n",
       "└─────────────┴───────────────┴────────────────┴─────────────────────┴──────────────────────┘"
      ]
     },
     "execution_count": 8,
     "metadata": {},
     "output_type": "execute_result"
    }
   ],
   "source": [
    "\"\"\" Show `comparison data-frame` \"\"\"\n",
    "\n",
    "print(\"Comparison between: `original_match` & `optimized_match`\")\n",
    "\n",
    "df = pl.DataFrame(\n",
    "    {\n",
    "        \"task\": task_names,\n",
    "        \"original (ms)\": time_table,\n",
    "        \"optimized (ms)\": time_table_optimized,\n",
    "        \"original outer (ms)\": outer_time_table,\n",
    "        \"optimized outer (ms)\": outer_time_table_optimized,\n",
    "    }\n",
    ")\n",
    "df"
   ]
  }
 ],
 "metadata": {
  "kernelspec": {
   "display_name": "base",
   "language": "python",
   "name": "python3"
  },
  "language_info": {
   "codemirror_mode": {
    "name": "ipython",
    "version": 3
   },
   "file_extension": ".py",
   "mimetype": "text/x-python",
   "name": "python",
   "nbconvert_exporter": "python",
   "pygments_lexer": "ipython3",
   "version": "3.11.4"
  }
 },
 "nbformat": 4,
 "nbformat_minor": 2
}
