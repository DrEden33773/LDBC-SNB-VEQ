{
 "cells": [
  {
   "cell_type": "markdown",
   "metadata": {},
   "source": [
    "# BI 10\n"
   ]
  },
  {
   "cell_type": "code",
   "execution_count": null,
   "metadata": {},
   "outputs": [],
   "source": [
    "from prelude import *"
   ]
  },
  {
   "cell_type": "markdown",
   "metadata": {},
   "source": [
    "## Original\n"
   ]
  },
  {
   "cell_type": "code",
   "execution_count": null,
   "metadata": {},
   "outputs": [],
   "source": [
    "\"\"\" labels & edges \"\"\"\n",
    "\n",
    "from dataclasses import dataclass\n",
    "\n",
    "\n",
    "@dataclass\n",
    "class BI_10_Record:\n",
    "    labels: list[str]\n",
    "    edges: list[tuple[int, int]]\n",
    "\n",
    "\n",
    "short_edges = [(0, 1), (1, 6), (6, 2), (2, 3), (2, 4), (4, 5)] + [\n",
    "    (6, 7),\n",
    "    (7, 8),\n",
    "    (8, 9),\n",
    "]\n",
    "long_edges = short_edges + [(9, 10)]\n",
    "\n",
    "long_labels_template = [\n",
    "    \"country\",\n",
    "    \"city\",\n",
    "    \"message\",  # could use \"comment\" / \"post\"\n",
    "    \"tag\",\n",
    "    \"tag\",\n",
    "    \"tagclass\",\n",
    "] + [\"person\"] * 5\n",
    "short_labels_template = [\n",
    "    \"country\",\n",
    "    \"city\",\n",
    "    \"message\",  # could use \"comment\" / \"post\"\n",
    "    \"tag\",\n",
    "    \"tag\",\n",
    "    \"tagclass\",\n",
    "] + [\"person\"] * 4\n",
    "\n",
    "\n",
    "def wrapper(\n",
    "    personId: str, country: str, tagclass: str, msgType: str = \"post\"\n",
    ") -> list[str]:\n",
    "    return [\n",
    "        BaseLabel.PersonId + personId,\n",
    "        BaseLabel.Country + country,\n",
    "        BaseLabel.TagClass + tagclass,\n",
    "        msgType,\n",
    "    ]\n",
    "\n",
    "\n",
    "task_names = [\n",
    "    \"98214,Tunisia,NascarDriver,4,post\",\n",
    "    \"98214,Tunisia,NascarDriver,4,comment\",\n",
    "    \"98214,Tunisia,NascarDriver,3,post\",\n",
    "    \"98214,Tunisia,NascarDriver,3,comment\",\n",
    "    \"4886,Cuba,Thing,4,post\",\n",
    "    \"4886,Cuba,Thing,4,comment\",\n",
    "    \"4886,Cuba,Thing,3,post\",\n",
    "    \"4886,Cuba,Thing,3,comment\",\n",
    "    \"60769,France,Politician,4,post\",\n",
    "    \"60769,France,Politician,4,comment\",\n",
    "    \"60769,France,Politician,3,post\",\n",
    "    \"60769,France,Politician,3,comment\",\n",
    "]\n",
    "\n",
    "kwargs = {}\n",
    "for task_name in task_names:\n",
    "    personId, country, tagclass, length, msgType = task_name.split(\",\")\n",
    "    kwargs[task_name] = BI_10_Record(\n",
    "        replace(\n",
    "            (long_labels_template if length == \"4\" else short_labels_template),\n",
    "            [10, 0, 5, 2] if length == \"4\" else [9, 0, 5, 2],\n",
    "            wrapper(personId, country, tagclass, msgType),\n",
    "        ),\n",
    "        long_edges if length == \"4\" else short_edges,\n",
    "    )"
   ]
  },
  {
   "cell_type": "code",
   "execution_count": null,
   "metadata": {},
   "outputs": [],
   "source": [
    "\"\"\" Init Original Query Graph \"\"\"\n",
    "\n",
    "for qg_name, meta_record in kwargs.items():\n",
    "    qg_path = f\"{BI_10_ORIGINAL_Q_PRE}/{qg_name}.txt\"\n",
    "    labels = meta_record.labels\n",
    "    edges = meta_record.edges\n",
    "    qg_emitter(qg_path, labels, edges)"
   ]
  },
  {
   "cell_type": "code",
   "execution_count": null,
   "metadata": {},
   "outputs": [],
   "source": [
    "\"\"\" args \"\"\"\n",
    "\n",
    "args_list = [\n",
    "    original_args_starting + [f\"{BI_10_ORIGINAL_Q_PRE}/{task_name}.txt\"]\n",
    "    for task_name in task_names\n",
    "]"
   ]
  },
  {
   "cell_type": "code",
   "execution_count": null,
   "metadata": {},
   "outputs": [],
   "source": [
    "\"\"\" exec \"\"\"\n",
    "\n",
    "time_table = []\n",
    "\n",
    "result_path_list = [\n",
    "    f\"{BI_10_ORIGINAL_L_PRE}/{task_name}.txt\" for task_name in task_names\n",
    "]\n",
    "\n",
    "run_multiple_veq_m_100k(\n",
    "    result_path_list,\n",
    "    task_names,\n",
    "    args_list,\n",
    "    time_table,\n",
    ")"
   ]
  },
  {
   "cell_type": "markdown",
   "metadata": {},
   "source": [
    "## Optimized\n"
   ]
  },
  {
   "cell_type": "code",
   "execution_count": null,
   "metadata": {},
   "outputs": [],
   "source": [
    "\"\"\" labels & edges \"\"\"\n",
    "\n",
    "short_edges_optimized = [(0, 5), (5, 1), (1, 2), (1, 3), (3, 4)] + [\n",
    "    (5, 6),\n",
    "    (6, 7),\n",
    "    (7, 8),\n",
    "]\n",
    "long_edges_optimized = short_edges_optimized + [(8, 9)]\n",
    "\n",
    "long_labels_template_optimized = [\n",
    "    \"country\",\n",
    "    \"message\",  # could use \"comment\" / \"post\"\n",
    "    \"tag\",\n",
    "    \"tag\",\n",
    "    \"tagclass\",\n",
    "] + [\"person\"] * 5\n",
    "short_labels_template_optimized = [\n",
    "    \"country\",\n",
    "    \"message\",  # could use \"comment\" / \"post\"\n",
    "    \"tag\",\n",
    "    \"tag\",\n",
    "    \"tagclass\",\n",
    "] + [\"person\"] * 4\n",
    "\n",
    "task_names_optimized = task_names\n",
    "\n",
    "kwargs_optimized = {}\n",
    "for task_name in task_names_optimized:\n",
    "    personId, country, tagclass, length, msgType = task_name.split(\",\")\n",
    "    kwargs_optimized[task_name] = BI_10_Record(\n",
    "        replace(\n",
    "            (\n",
    "                long_labels_template_optimized\n",
    "                if length == \"4\"\n",
    "                else short_labels_template_optimized\n",
    "            ),\n",
    "            [9, 0, 1, 4] if length == \"4\" else [8, 0, 1, 4],\n",
    "            wrapper(personId, country, tagclass, msgType),\n",
    "        ),\n",
    "        long_edges_optimized if length == \"4\" else short_edges_optimized,\n",
    "    )"
   ]
  },
  {
   "cell_type": "code",
   "execution_count": null,
   "metadata": {},
   "outputs": [],
   "source": [
    "\"\"\" Init Optimized Query Graph \"\"\"\n",
    "\n",
    "for qg_name, meta_record in kwargs.items():\n",
    "    qg_path = f\"{BI_10_OPTIMIZED_Q_PRE}/{qg_name}.txt\"\n",
    "    labels = meta_record.labels\n",
    "    edges = meta_record.edges\n",
    "    qg_emitter(qg_path, labels, edges)"
   ]
  },
  {
   "cell_type": "code",
   "execution_count": null,
   "metadata": {},
   "outputs": [],
   "source": [
    "\"\"\" args \"\"\"\n",
    "\n",
    "args_list_optimized = [\n",
    "    optimized_args_starting + [f\"{BI_10_OPTIMIZED_Q_PRE}/{task_name}.txt\"]\n",
    "    for task_name in task_names_optimized\n",
    "]"
   ]
  },
  {
   "cell_type": "code",
   "execution_count": null,
   "metadata": {},
   "outputs": [],
   "source": [
    "\"\"\" exec \"\"\"\n",
    "\n",
    "time_table_optimized = []\n",
    "\n",
    "result_path_list_optimized = [\n",
    "    f\"{BI_10_OPTIMIZED_L_PRE}/{task_name}.txt\" for task_name in task_names_optimized\n",
    "]\n",
    "\n",
    "run_multiple_veq_m_100k(\n",
    "    result_path_list_optimized,\n",
    "    task_names_optimized,\n",
    "    args_list_optimized,\n",
    "    time_table_optimized,\n",
    ")"
   ]
  },
  {
   "cell_type": "code",
   "execution_count": null,
   "metadata": {},
   "outputs": [],
   "source": [
    "\"\"\" Show BI-10 `comparison data-frame` \"\"\"\n",
    "\n",
    "print(\"Comparison between: `original_match` & `optimized_match`\")\n",
    "\n",
    "df = pl.DataFrame(\n",
    "    {\n",
    "        \"task\": task_names,\n",
    "        \"original (ms)\": time_table,\n",
    "        \"optimized (ms)\": time_table_optimized,\n",
    "    }\n",
    ")\n",
    "df"
   ]
  }
 ],
 "metadata": {
  "language_info": {
   "name": "python"
  }
 },
 "nbformat": 4,
 "nbformat_minor": 2
}
