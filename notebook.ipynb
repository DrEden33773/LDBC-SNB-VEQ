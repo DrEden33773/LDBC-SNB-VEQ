{
 "cells": [
  {
   "cell_type": "markdown",
   "metadata": {},
   "source": [
    "# Prepare\n"
   ]
  },
  {
   "cell_type": "code",
   "execution_count": 1,
   "metadata": {},
   "outputs": [
    {
     "data": {
      "text/plain": [
       "'Forumid'"
      ]
     },
     "execution_count": 1,
     "metadata": {},
     "output_type": "execute_result"
    }
   ],
   "source": [
    "import polars as pl\n",
    "import re\n",
    "from tqdm.notebook import tqdm\n",
    "\n",
    "DATA_PREFIX = \"./data\"\n",
    "RAW_DATA_PREFIX = f\"{DATA_PREFIX}/raw\"\n",
    "INDEX_EDGES_PREFIX = f\"{DATA_PREFIX}/index\"\n",
    "\n",
    "import os\n",
    "\n",
    "if not os.path.exists(INDEX_EDGES_PREFIX):\n",
    "    os.makedirs(INDEX_EDGES_PREFIX)\n",
    "if not os.path.exists(RAW_DATA_PREFIX):\n",
    "    os.makedirs(RAW_DATA_PREFIX)\n",
    "\n",
    "\n",
    "def get_inner_namespace(col_name: str) -> str:\n",
    "    match = re.search(\"\\((.*?)\\)\", col_name)\n",
    "    return \"\" if match is None else match.group(1)\n",
    "\n",
    "\n",
    "def get_namespace(col_name: str) -> str:\n",
    "    inner_namespace = get_inner_namespace(col_name)\n",
    "    if inner_namespace in [\"Country\", \"Continent\", \"City\"]:\n",
    "        return \"Placeid\"\n",
    "    if inner_namespace in [\"University\", \"Company\"]:\n",
    "        return \"Organisationid\"\n",
    "    return inner_namespace\n",
    "\n",
    "\n",
    "# test\n",
    "get_namespace(\":ID(Forumid)\")"
   ]
  },
  {
   "cell_type": "code",
   "execution_count": 2,
   "metadata": {},
   "outputs": [
    {
     "data": {
      "text/html": [
       "<div><style>\n",
       ".dataframe > thead > tr,\n",
       ".dataframe > tbody > tr {\n",
       "  text-align: right;\n",
       "  white-space: pre-wrap;\n",
       "}\n",
       "</style>\n",
       "<small>shape: (2, 4)</small><table border=\"1\" class=\"dataframe\"><thead><tr><th>:ID(Placeid)</th><th>name</th><th>:TYPE</th><th>:LABEL</th></tr><tr><td>i64</td><td>str</td><td>str</td><td>str</td></tr></thead><tbody><tr><td>0</td><td>&quot;India&quot;</td><td>&quot;country&quot;</td><td>&quot;place&quot;</td></tr><tr><td>1</td><td>&quot;China&quot;</td><td>&quot;country&quot;</td><td>&quot;place&quot;</td></tr></tbody></table></div>"
      ],
      "text/plain": [
       "shape: (2, 4)\n",
       "┌──────────────┬───────┬─────────┬────────┐\n",
       "│ :ID(Placeid) ┆ name  ┆ :TYPE   ┆ :LABEL │\n",
       "│ ---          ┆ ---   ┆ ---     ┆ ---    │\n",
       "│ i64          ┆ str   ┆ str     ┆ str    │\n",
       "╞══════════════╪═══════╪═════════╪════════╡\n",
       "│ 0            ┆ India ┆ country ┆ place  │\n",
       "│ 1            ┆ China ┆ country ┆ place  │\n",
       "└──────────────┴───────┴─────────┴────────┘"
      ]
     },
     "execution_count": 2,
     "metadata": {},
     "output_type": "execute_result"
    }
   ],
   "source": [
    "\"\"\" Test \"\"\"\n",
    "\n",
    "PLACE = f\"{RAW_DATA_PREFIX}/place.csv\"\n",
    "\n",
    "df = pl.read_csv(PLACE)\n",
    "test_table = df.lazy().filter(pl.col(\"name\").is_in([\"India\", \"China\"])).collect()\n",
    "out = test_table.select(\n",
    "    [\n",
    "        pl.col(\":ID(Placeid)\"),\n",
    "        pl.col(\"name\"),\n",
    "        pl.col(\":TYPE\"),\n",
    "        pl.col(\":LABEL\"),\n",
    "    ]\n",
    ")\n",
    "out.head(5)"
   ]
  },
  {
   "cell_type": "code",
   "execution_count": 3,
   "metadata": {},
   "outputs": [],
   "source": [
    "\"\"\" Load `vertices/edges` \"\"\"\n",
    "\n",
    "import os, glob\n",
    "from polars import DataFrame\n",
    "\n",
    "vertices = dict[str, DataFrame]()\n",
    "raw_edges = dict[tuple[str, str, str], DataFrame]()\n",
    "switch_namespace = dict[str, dict[int, int]]()\n",
    "\n",
    "for file in glob.glob(f\"{RAW_DATA_PREFIX}/*.csv\"):\n",
    "    df_name = os.path.basename(file).split(\".\")[0]\n",
    "    if \"_\" in df_name:\n",
    "        src, relationship, dst = df_name.split(\"_\")\n",
    "        raw_edges[(src, relationship, dst)] = pl.read_csv(file)\n",
    "    else:\n",
    "        vertices[df_name] = pl.read_csv(file)\n",
    "\n",
    "\n",
    "vertex_num = sum(len(df) for df in vertices.values())\n",
    "edge_num = sum(len(df) for df in raw_edges.values())"
   ]
  },
  {
   "cell_type": "code",
   "execution_count": 4,
   "metadata": {},
   "outputs": [
    {
     "data": {
      "text/plain": [
       "{'Commentid': {},\n",
       " 'Forumid': {},\n",
       " 'Organisationid': {},\n",
       " 'Personid': {},\n",
       " 'Placeid': {},\n",
       " 'Postid': {},\n",
       " 'Tagid': {},\n",
       " 'TagClassid': {}}"
      ]
     },
     "execution_count": 4,
     "metadata": {},
     "output_type": "execute_result"
    }
   ],
   "source": [
    "\"\"\" Initialize `switch_namespace` \"\"\"\n",
    "\n",
    "for df in vertices.values():\n",
    "    namespace = get_namespace(df.columns[0])\n",
    "    switch_namespace[namespace] = dict()\n",
    "\n",
    "switch_namespace"
   ]
  },
  {
   "cell_type": "code",
   "execution_count": 5,
   "metadata": {},
   "outputs": [
    {
     "data": {
      "application/vnd.jupyter.widget-view+json": {
       "model_id": "6a273a7479db4fbd9aeb08a5777b963d",
       "version_major": 2,
       "version_minor": 0
      },
      "text/plain": [
       "Mapping `origin_id` to `uni_id`:   0%|          | 0/3181724 [00:00<?, ?it/s]"
      ]
     },
     "metadata": {},
     "output_type": "display_data"
    },
    {
     "data": {
      "text/plain": [
       "dict_keys(['Commentid', 'Forumid', 'Organisationid', 'Personid', 'Placeid', 'Postid', 'Tagid', 'TagClassid'])"
      ]
     },
     "execution_count": 5,
     "metadata": {},
     "output_type": "execute_result"
    }
   ],
   "source": [
    "\"\"\" Re-arrange all `:ID($AnyNamespace)` \"\"\"\n",
    "\n",
    "curr_global_id = 0\n",
    "\n",
    "with tqdm(desc=\"Mapping `origin_id` to `uni_id`\", total=vertex_num) as bar:\n",
    "    for df in vertices.values():\n",
    "        namespace = get_namespace(df.columns[0])\n",
    "        map = switch_namespace[namespace]\n",
    "        for row in df.rows():\n",
    "            map[int(row[0])] = curr_global_id\n",
    "            curr_global_id += 1\n",
    "            bar.update(1)\n",
    "\n",
    "assert curr_global_id == vertex_num\n",
    "switch_namespace.keys()"
   ]
  },
  {
   "cell_type": "markdown",
   "metadata": {},
   "source": [
    "# Original Query\n"
   ]
  },
  {
   "cell_type": "code",
   "execution_count": 6,
   "metadata": {},
   "outputs": [],
   "source": [
    "OUT_PREFIX = \"./out\"\n",
    "ORIGINAL_QUERY_PREFIX = f\"{OUT_PREFIX}/original\"\n",
    "DATA_GRAPH = f\"{ORIGINAL_QUERY_PREFIX}/data_graph.txt\"\n",
    "CHINA_QUERY_GRAPH = f\"{ORIGINAL_QUERY_PREFIX}/china_query_graph.txt\"\n",
    "INDIA_QUERY_GRAPH = f\"{ORIGINAL_QUERY_PREFIX}/india_query_graph.txt\"\n",
    "\n",
    "import os\n",
    "\n",
    "if not os.path.exists(ORIGINAL_QUERY_PREFIX):\n",
    "    os.makedirs(ORIGINAL_QUERY_PREFIX)"
   ]
  },
  {
   "cell_type": "code",
   "execution_count": 7,
   "metadata": {},
   "outputs": [
    {
     "data": {
      "application/vnd.jupyter.widget-view+json": {
       "model_id": "880755a827c14b0083afd9cf63180bc1",
       "version_major": 2,
       "version_minor": 0
      },
      "text/plain": [
       "Build map of `vertex.uni_id -> label`:   0%|          | 0/3181724 [00:00<?, ?it/s]"
      ]
     },
     "metadata": {},
     "output_type": "display_data"
    },
    {
     "data": {
      "text/plain": [
       "{'China',\n",
       " 'India',\n",
       " 'city',\n",
       " 'comment',\n",
       " 'company',\n",
       " 'continent',\n",
       " 'country',\n",
       " 'forum',\n",
       " 'person',\n",
       " 'post',\n",
       " 'tag',\n",
       " 'tagclass',\n",
       " 'university'}"
      ]
     },
     "execution_count": 7,
     "metadata": {},
     "output_type": "execute_result"
    }
   ],
   "source": [
    "\"\"\" Build map of `vertex.uni_id -> label` \"\"\"\n",
    "\n",
    "labels = dict[int, str]()\n",
    "label_set = set[str]()\n",
    "\n",
    "\n",
    "def place_op(df: DataFrame):\n",
    "    namespace = get_namespace(df.columns[0])\n",
    "    map = switch_namespace[namespace]\n",
    "    slice = df.select(\n",
    "        [\n",
    "            pl.col(df.columns[0]),\n",
    "            pl.col(\"name\"),\n",
    "            pl.col(\":TYPE\"),\n",
    "        ]\n",
    "    )\n",
    "    for origin_id, name, ty in slice.rows():\n",
    "        name, label = str(name), str(ty)\n",
    "        uni_id = map[int(origin_id)]\n",
    "        if name in [\"China\", \"India\"]:\n",
    "            label = name\n",
    "        labels[uni_id] = label\n",
    "        label_set.add(label)\n",
    "        bar.update(1)\n",
    "\n",
    "\n",
    "def normal_op(df: DataFrame):\n",
    "    namespace = get_namespace(df.columns[0])\n",
    "    map = switch_namespace[namespace]\n",
    "    slice = df.select(\n",
    "        [\n",
    "            pl.col(df.columns[0]),\n",
    "            pl.col(\":TYPE\" if \":TYPE\" in df.columns else \":LABEL\"),\n",
    "        ]\n",
    "    )\n",
    "    for origin_id, label in slice.rows():\n",
    "        uni_id = map[int(origin_id)]\n",
    "        labels[uni_id] = str(label)\n",
    "        label_set.add(str(label))\n",
    "        bar.update(1)\n",
    "\n",
    "\n",
    "def vertex_op(df_name: str, df: DataFrame):\n",
    "    (place_op if df_name == \"place\" else normal_op)(df)\n",
    "\n",
    "\n",
    "with tqdm(desc=\"Build map of `vertex.uni_id -> label`\", total=vertex_num) as bar:\n",
    "    for df_name, df in vertices.items():\n",
    "        vertex_op(df_name, df)\n",
    "\n",
    "label_set"
   ]
  },
  {
   "cell_type": "code",
   "execution_count": 8,
   "metadata": {},
   "outputs": [
    {
     "data": {
      "application/vnd.jupyter.widget-view+json": {
       "model_id": "3003e2a69b344e61bf77a835e07384f5",
       "version_major": 2,
       "version_minor": 0
      },
      "text/plain": [
       "Build edges in format: `(src_id, dst_id)`:   0%|          | 0/17256038 [00:00<?, ?it/s]"
      ]
     },
     "metadata": {},
     "output_type": "display_data"
    }
   ],
   "source": [
    "\"\"\" Build edges in format: `(src_id, dst_id)` \"\"\"\n",
    "\n",
    "edges = set[tuple[int, int]]()\n",
    "\n",
    "with tqdm(desc=\"Build edges in format: `(src_id, dst_id)`\", total=edge_num) as bar:\n",
    "    for df_name, df in raw_edges.items():\n",
    "        src_namespace = get_namespace(df.columns[0])\n",
    "        dst_namespace = get_namespace(df.columns[1])\n",
    "        src_map = switch_namespace[src_namespace]\n",
    "        dst_map = switch_namespace[dst_namespace]\n",
    "        slice = df.select(\n",
    "            [\n",
    "                pl.col(df.columns[0]),\n",
    "                pl.col(df.columns[1]),\n",
    "            ]\n",
    "        )\n",
    "        for src_id, dst_id in slice.rows():\n",
    "            src_uni_id = src_map[int(src_id)]\n",
    "            dst_uni_id = dst_map[int(dst_id)]\n",
    "            edges.add((src_uni_id, dst_uni_id))\n",
    "            bar.update(1)"
   ]
  },
  {
   "cell_type": "code",
   "execution_count": 9,
   "metadata": {},
   "outputs": [
    {
     "name": "stdout",
     "output_type": "stream",
     "text": [
      "File `./out/original/data_graph.txt` already exists\n"
     ]
    }
   ],
   "source": [
    "\"\"\" Write into `data_graph.txt` \"\"\"\n",
    "\n",
    "if not os.path.exists(DATA_GRAPH):\n",
    "    with open(DATA_GRAPH, \"w\") as f:\n",
    "        f.write(\"#0\\n\")\n",
    "        f.write(f\"{len(labels)}\\n\")\n",
    "        with tqdm(\n",
    "            desc=\"Writing `labels` into `data_graph.txt`\", total=len(labels)\n",
    "        ) as bar:\n",
    "            for i in range(len(labels)):\n",
    "                f.write(f\"{labels[i]}\\n\")\n",
    "                bar.update(1)\n",
    "        f.write(f\"{len(edges)}\\n\")\n",
    "        with tqdm(desc=\"Writing `edges` into `data_graph.txt\", total=len(edges)) as bar:\n",
    "            for src, dst in edges:\n",
    "                f.write(f\"{src} {dst}\\n\")\n",
    "                bar.update(1)\n",
    "else:\n",
    "    print(f\"File `{DATA_GRAPH}` already exists\")"
   ]
  },
  {
   "cell_type": "code",
   "execution_count": 10,
   "metadata": {},
   "outputs": [],
   "source": [
    "\"\"\" Build `India` and `China` query graph \"\"\"\n",
    "\n",
    "china_query_graph_labels = [\"China\"] + [\"city\"] * 3 + [\"person\"] * 3\n",
    "china_query_graph_edges = [\n",
    "    (1, 0),\n",
    "    (2, 0),\n",
    "    (3, 0),\n",
    "    (4, 1),\n",
    "    (5, 2),\n",
    "    (6, 3),\n",
    "    (4, 5),\n",
    "    (5, 6),\n",
    "    (6, 4),\n",
    "]\n",
    "\n",
    "india_query_graph_labels = [\"India\"] + [\"city\"] * 3 + [\"person\"] * 3\n",
    "india_query_graph_edges = china_query_graph_edges\n",
    "\n",
    "if not os.path.exists(CHINA_QUERY_GRAPH):\n",
    "    with open(CHINA_QUERY_GRAPH, \"w\") as f:\n",
    "        f.write(\"#0\\n\")\n",
    "        f.write(f\"{len(china_query_graph_labels)}\\n\")\n",
    "        [f.write(f\"{label}\\n\") for label in china_query_graph_labels]\n",
    "        f.write(f\"{len(china_query_graph_edges)}\\n\")\n",
    "        [f.write(f\"{src} {dst}\\n\") for src, dst in china_query_graph_edges]\n",
    "\n",
    "if not os.path.exists(INDIA_QUERY_GRAPH):\n",
    "    with open(INDIA_QUERY_GRAPH, \"w\") as f:\n",
    "        f.write(\"#0\\n\")\n",
    "        f.write(f\"{len(india_query_graph_labels)}\\n\")\n",
    "        [f.write(f\"{label}\\n\") for label in india_query_graph_labels]\n",
    "        f.write(f\"{len(india_query_graph_edges)}\\n\")\n",
    "        [f.write(f\"{src} {dst}\\n\") for src, dst in india_query_graph_edges]"
   ]
  },
  {
   "cell_type": "markdown",
   "metadata": {},
   "source": [
    "# Optimized Query\n"
   ]
  },
  {
   "cell_type": "code",
   "execution_count": 11,
   "metadata": {},
   "outputs": [],
   "source": [
    "OPTIMIZED_QUERY_PREFIX = f\"{OUT_PREFIX}/optimized\"\n",
    "DATA_GRAPH = f\"{OPTIMIZED_QUERY_PREFIX}/data_graph.txt\"\n",
    "CHINA_QUERY_GRAPH = f\"{OPTIMIZED_QUERY_PREFIX}/china_query_graph.txt\"\n",
    "INDIA_QUERY_GRAPH = f\"{OPTIMIZED_QUERY_PREFIX}/india_query_graph.txt\"\n",
    "\n",
    "if not os.path.exists(OPTIMIZED_QUERY_PREFIX):\n",
    "    os.makedirs(OPTIMIZED_QUERY_PREFIX)"
   ]
  },
  {
   "cell_type": "code",
   "execution_count": 12,
   "metadata": {},
   "outputs": [],
   "source": [
    "\"\"\" Load all `index edge` \"\"\"\n",
    "\n",
    "index_edges = dict[str, DataFrame]()\n",
    "\n",
    "for file in glob.glob(f\"{INDEX_EDGES_PREFIX}/*.csv\"):\n",
    "    df_name = os.path.basename(file).split(\".\")[0]\n",
    "    index_edges[df_name] = pl.read_csv(file)\n",
    "\n",
    "index_edge_num = sum(len(df) for df in index_edges.values())"
   ]
  },
  {
   "cell_type": "code",
   "execution_count": 13,
   "metadata": {},
   "outputs": [
    {
     "data": {
      "application/vnd.jupyter.widget-view+json": {
       "model_id": "f174118fed5943a98bc10564a2512779",
       "version_major": 2,
       "version_minor": 0
      },
      "text/plain": [
       "Adding `index edge` into `edges`:   0%|          | 0/19593582 [00:00<?, ?it/s]"
      ]
     },
     "metadata": {},
     "output_type": "display_data"
    }
   ],
   "source": [
    "\"\"\" Add `index edge` into `edges` \"\"\"\n",
    "\n",
    "with tqdm(desc=\"Adding `index edge` into `edges`\", total=index_edge_num) as bar:\n",
    "    for df in index_edges.values():\n",
    "        src_namespace = get_namespace(df.columns[0])\n",
    "        dst_namespace = get_namespace(df.columns[1])\n",
    "        src_map = switch_namespace[src_namespace]\n",
    "        dst_map = switch_namespace[dst_namespace]\n",
    "        slice = df.select(\n",
    "            [\n",
    "                pl.col(df.columns[0]),\n",
    "                pl.col(df.columns[1]),\n",
    "            ]\n",
    "        )\n",
    "        for src_id, dst_id in slice.rows():\n",
    "            src_uni_id = src_map[int(src_id)]\n",
    "            dst_uni_id = dst_map[int(dst_id)]\n",
    "            edges.add((src_uni_id, dst_uni_id))\n",
    "            bar.update(1)"
   ]
  },
  {
   "cell_type": "code",
   "execution_count": 14,
   "metadata": {},
   "outputs": [
    {
     "name": "stdout",
     "output_type": "stream",
     "text": [
      "File `./out/optimized/data_graph.txt` already exists\n"
     ]
    }
   ],
   "source": [
    "\"\"\" Write into `data_graph.txt` \"\"\"\n",
    "\n",
    "if not os.path.exists(DATA_GRAPH):\n",
    "    with open(DATA_GRAPH, \"w\") as f:\n",
    "        f.write(\"#0\\n\")\n",
    "        f.write(f\"{len(labels)}\\n\")\n",
    "        with tqdm(\n",
    "            desc=\"Writing `labels` into `data_graph.txt`\", total=len(labels)\n",
    "        ) as bar:\n",
    "            for i in range(len(labels)):\n",
    "                f.write(f\"{labels[i]}\\n\")\n",
    "                bar.update(1)\n",
    "        f.write(f\"{len(edges)}\\n\")\n",
    "        with tqdm(desc=\"Writing `edges` into `data_graph.txt\", total=len(edges)) as bar:\n",
    "            for src, dst in edges:\n",
    "                f.write(f\"{src} {dst}\\n\")\n",
    "                bar.update(1)\n",
    "else:\n",
    "    print(f\"File `{DATA_GRAPH}` already exists\")"
   ]
  },
  {
   "cell_type": "code",
   "execution_count": 15,
   "metadata": {},
   "outputs": [],
   "source": [
    "\"\"\" Build `India` and `China` query graph \"\"\"\n",
    "\n",
    "china_query_graph_labels = [\"China\"] + [\"person\"] * 3\n",
    "china_query_graph_edges = [\n",
    "    (1, 0),\n",
    "    (2, 0),\n",
    "    (3, 0),\n",
    "    (1, 2),\n",
    "    (2, 3),\n",
    "    (3, 1),\n",
    "]\n",
    "\n",
    "india_query_graph_labels = [\"India\"] + [\"person\"] * 3\n",
    "india_query_graph_edges = china_query_graph_edges\n",
    "\n",
    "if not os.path.exists(CHINA_QUERY_GRAPH):\n",
    "    with open(CHINA_QUERY_GRAPH, \"w\") as f:\n",
    "        f.write(\"#0\\n\")\n",
    "        f.write(f\"{len(china_query_graph_labels)}\\n\")\n",
    "        [f.write(f\"{label}\\n\") for label in china_query_graph_labels]\n",
    "        f.write(f\"{len(china_query_graph_edges)}\\n\")\n",
    "        [f.write(f\"{src} {dst}\\n\") for src, dst in china_query_graph_edges]\n",
    "\n",
    "if not os.path.exists(INDIA_QUERY_GRAPH):\n",
    "    with open(INDIA_QUERY_GRAPH, \"w\") as f:\n",
    "        f.write(\"#0\\n\")\n",
    "        f.write(f\"{len(india_query_graph_labels)}\\n\")\n",
    "        [f.write(f\"{label}\\n\") for label in india_query_graph_labels]\n",
    "        f.write(f\"{len(india_query_graph_edges)}\\n\")\n",
    "        [f.write(f\"{src} {dst}\\n\") for src, dst in india_query_graph_edges]"
   ]
  },
  {
   "cell_type": "markdown",
   "metadata": {},
   "source": [
    "# Execute `Query`\n"
   ]
  },
  {
   "cell_type": "code",
   "execution_count": 18,
   "metadata": {},
   "outputs": [],
   "source": [
    "import subprocess\n",
    "import platform\n",
    "\n",
    "\n",
    "ORIGINAL_DATA_GRAPH = f\"{ORIGINAL_QUERY_PREFIX}/data_graph.txt\"\n",
    "ORIGINAL_CHINA_QUERY_GRAPH = f\"{ORIGINAL_QUERY_PREFIX}/china_query_graph.txt\"\n",
    "ORIGINAL_INDIA_QUERY_GRAPH = f\"{ORIGINAL_QUERY_PREFIX}/india_query_graph.txt\"\n",
    "\n",
    "OPTIMIZED_DATA_GRAPH = f\"{OPTIMIZED_QUERY_PREFIX}/data_graph.txt\"\n",
    "OPTIMIZED_CHINA_QUERY_GRAPH = f\"{OPTIMIZED_QUERY_PREFIX}/china_query_graph.txt\"\n",
    "OPTIMIZED_INDIA_QUERY_GRAPH = f\"{OPTIMIZED_QUERY_PREFIX}/india_query_graph.txt\"\n",
    "\n",
    "\n",
    "LOG_PREFIX = f\"./log\"\n",
    "ORIGINAL_LOG_PREFIX = f\"{LOG_PREFIX}/original\"\n",
    "OPTIMIZED_LOG_PREFIX = f\"{LOG_PREFIX}/optimized\"\n",
    "\n",
    "if not os.path.exists(ORIGINAL_LOG_PREFIX):\n",
    "    os.makedirs(ORIGINAL_LOG_PREFIX)\n",
    "if not os.path.exists(OPTIMIZED_LOG_PREFIX):\n",
    "    os.makedirs(OPTIMIZED_LOG_PREFIX)\n",
    "\n",
    "ORIGINAL_CHINA_MATCH_RESULT = f\"{ORIGINAL_LOG_PREFIX}/china_match_result.txt\"\n",
    "ORIGINAL_INDIA_MATCH_RESULT = f\"{ORIGINAL_LOG_PREFIX}/india_match_result.txt\"\n",
    "\n",
    "OPTIMIZED_CHINA_MATCH_RESULT = f\"{OPTIMIZED_LOG_PREFIX}/china_match_result.txt\"\n",
    "OPTIMIZED_INDIA_MATCH_RESULT = f\"{OPTIMIZED_LOG_PREFIX}/india_match_result.txt\"\n",
    "\n",
    "wsl_if_on_windows = [\"wsl\"] if platform.system() == \"Windows\" else []\n",
    "\n",
    "# ./VEQ_M_100k -dg <data_graph_path> -qg <query_graph_path>\n",
    "\n",
    "original_china_match_args = wsl_if_on_windows + [\n",
    "    \"./VEQ_M_100k\",\n",
    "    \"-dg\",\n",
    "    ORIGINAL_DATA_GRAPH,\n",
    "    \"-qg\",\n",
    "    ORIGINAL_CHINA_QUERY_GRAPH,\n",
    "]\n",
    "original_india_match_args = wsl_if_on_windows + [\n",
    "    \"./VEQ_M_100k\",\n",
    "    \"-dg\",\n",
    "    ORIGINAL_DATA_GRAPH,\n",
    "    \"-qg\",\n",
    "    ORIGINAL_INDIA_QUERY_GRAPH,\n",
    "]\n",
    "\n",
    "# ./VEQ_M_100k -dg <data_graph_path> -qg <query_graph_path>\n",
    "\n",
    "optimized_china_match_args = wsl_if_on_windows + [\n",
    "    \"./VEQ_M_100k\",\n",
    "    \"-dg\",\n",
    "    OPTIMIZED_DATA_GRAPH,\n",
    "    \"-qg\",\n",
    "    OPTIMIZED_CHINA_QUERY_GRAPH,\n",
    "]\n",
    "optimized_india_match_args = wsl_if_on_windows + [\n",
    "    \"./VEQ_M_100k\",\n",
    "    \"-dg\",\n",
    "    OPTIMIZED_DATA_GRAPH,\n",
    "    \"-qg\",\n",
    "    OPTIMIZED_INDIA_QUERY_GRAPH,\n",
    "]\n",
    "\n",
    "\n",
    "def run(result_path: str, task_name: str, args: list[str]):\n",
    "    with open(result_path, \"w\") as f:\n",
    "        print(f\">>> Running: {task_name}...\")\n",
    "        p = subprocess.Popen(\n",
    "            args,\n",
    "            stdout=subprocess.PIPE,\n",
    "            stderr=subprocess.PIPE,\n",
    "        )\n",
    "        if p.stdout:\n",
    "            for line in iter(p.stdout.readline, b\"\"):\n",
    "                content = line.decode(\"utf-8\")\n",
    "                print(\"    \" + content, end=\"\")\n",
    "                f.write(content)\n",
    "        else:\n",
    "            print(\"    <No output>\")\n",
    "            f.write(\"<No output>\")\n",
    "        print(\"<<< Done!\")"
   ]
  },
  {
   "cell_type": "code",
   "execution_count": 19,
   "metadata": {},
   "outputs": [
    {
     "name": "stdout",
     "output_type": "stream",
     "text": [
      ">>> Running: original_china_match...\n",
      "    Data file: ./out/original/data_graph.txt\n",
      "    Query file: ./out/original/china_query_graph.txt\n",
      "    Output file: \n",
      "    Sum of |C(u)|: 3748\n",
      "    Total Recursive Call Count: 131167\n",
      "    Number of Matches: 100000\n",
      "    Filtering Time (ms): 23.7614\n",
      "    Verification Time (ms): 5987.59\n",
      "    Processing Time (ms): 6011.35\n",
      "<<< Done!\n",
      ">>> Running: original_india_match...\n",
      "    Data file: ./out/original/data_graph.txt\n",
      "    Query file: ./out/original/china_query_graph.txt\n",
      "    Output file: \n",
      "    Sum of |C(u)|: 3748\n",
      "    Total Recursive Call Count: 131167\n",
      "    Number of Matches: 100000\n",
      "    Filtering Time (ms): 19.31\n",
      "    Verification Time (ms): 6918.57\n",
      "    Processing Time (ms): 6937.88\n",
      "<<< Done!\n",
      ">>> Running: optimized_china_match...\n",
      "    Data file: ./out/original/data_graph.txt\n",
      "    Query file: ./out/original/china_query_graph.txt\n",
      "    Output file: \n",
      "    Sum of |C(u)|: 3748\n",
      "    Total Recursive Call Count: 131167\n",
      "    Number of Matches: 100000\n",
      "    Filtering Time (ms): 19.5624\n",
      "    Verification Time (ms): 5810.88\n",
      "    Processing Time (ms): 5830.44\n",
      "<<< Done!\n",
      ">>> Running: optimized_india_match...\n",
      "    Data file: ./out/original/data_graph.txt\n",
      "    Query file: ./out/original/china_query_graph.txt\n",
      "    Output file: \n",
      "    Sum of |C(u)|: 3748\n",
      "    Total Recursive Call Count: 131167\n",
      "    Number of Matches: 100000\n",
      "    Filtering Time (ms): 18.904\n",
      "    Verification Time (ms): 5907.56\n",
      "    Processing Time (ms): 5926.47\n",
      "<<< Done!\n"
     ]
    }
   ],
   "source": [
    "\"\"\" Exec `match` on `original` \"\"\"\n",
    "\n",
    "run(ORIGINAL_CHINA_MATCH_RESULT, \"original_china_match\", original_china_match_args)\n",
    "run(ORIGINAL_INDIA_MATCH_RESULT, \"original_india_match\", original_india_match_args)\n",
    "\n",
    "\"\"\" Exec `match` on `optimized` \"\"\"\n",
    "\n",
    "run(OPTIMIZED_CHINA_MATCH_RESULT, \"optimized_china_match\", optimized_china_match_args)\n",
    "run(OPTIMIZED_INDIA_MATCH_RESULT, \"optimized_india_match\", optimized_india_match_args)"
   ]
  }
 ],
 "metadata": {
  "kernelspec": {
   "display_name": "base",
   "language": "python",
   "name": "python3"
  },
  "language_info": {
   "codemirror_mode": {
    "name": "ipython",
    "version": 3
   },
   "file_extension": ".py",
   "mimetype": "text/x-python",
   "name": "python",
   "nbconvert_exporter": "python",
   "pygments_lexer": "ipython3",
   "version": "3.11.4"
  }
 },
 "nbformat": 4,
 "nbformat_minor": 2
}
