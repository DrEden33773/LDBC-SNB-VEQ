{
 "cells": [
  {
   "cell_type": "markdown",
   "metadata": {},
   "source": [
    "# BI 14\n"
   ]
  },
  {
   "cell_type": "code",
   "execution_count": 1,
   "metadata": {},
   "outputs": [],
   "source": [
    "from dg_builder import *"
   ]
  },
  {
   "cell_type": "code",
   "execution_count": 2,
   "metadata": {},
   "outputs": [
    {
     "name": "stdout",
     "output_type": "stream",
     "text": [
      "File `./out/optimized/BI_14/data_graph.txt` & `./out/original/data_graph.txt` already exists\n"
     ]
    }
   ],
   "source": [
    "\"\"\" build `original data graph` \"\"\"\n",
    "\n",
    "build_original_dg(\n",
    "    original_dg_filepath=BI_14_DG, optimized_dg_filepath=BI_14_DG_OPTIMIZED\n",
    ")"
   ]
  },
  {
   "cell_type": "code",
   "execution_count": 3,
   "metadata": {},
   "outputs": [
    {
     "name": "stdout",
     "output_type": "stream",
     "text": [
      "File `./out/optimized/BI_14/data_graph.txt` already exists\n"
     ]
    }
   ],
   "source": [
    "\"\"\" build `optimized data graph` \"\"\"\n",
    "\n",
    "index_csv_filenames = [\n",
    "    \"person_city_country\",\n",
    "    \"comment_comment_person\",\n",
    "    \"comment_post_person\",\n",
    "]\n",
    "\n",
    "build_optimized_dg(\n",
    "    optimized_dg_filepath=BI_14_DG_OPTIMIZED,\n",
    "    index_csv_filenames=index_csv_filenames,\n",
    ")"
   ]
  },
  {
   "cell_type": "markdown",
   "metadata": {},
   "source": [
    "## Original\n"
   ]
  },
  {
   "cell_type": "code",
   "execution_count": 4,
   "metadata": {},
   "outputs": [
    {
     "data": {
      "text/plain": [
       "QueryBuilder {\n",
       "    edges: [(0, 1), (1, 2), (2, 3), (3, 4), (4, 5)],\n",
       "    labels: ['country', 'city', 'person', 'person', 'city', 'country'],\n",
       "    raw_task_names: [['sub_task_1']],\n",
       "    QG_PRE: ./out/original/BI_14,\n",
       "    LOG_PRE: ./log/original/BI_14,\n",
       "    args_starting: ['wsl', './VEQ_M_100k', '-dg', './out/original/data_graph.txt', '-qg'],\n",
       "    replace_indices: [],\n",
       "    replace_wrapper: <function QueryBuilder.<lambda> at 0x000001777D1FD120>,\n",
       "    kwargs: {'sub_task_1': QGMetaRecord(labels=['country', 'city', 'person', 'person', 'city', 'country'], edges=[(0, 1), (1, 2), (2, 3), (3, 4), (4, 5)])},\n",
       "}"
      ]
     },
     "execution_count": 4,
     "metadata": {},
     "output_type": "execute_result"
    }
   ],
   "source": [
    "edges = [(0, 1), (1, 2), (2, 3), (3, 4), (4, 5)]\n",
    "labels_template = [\"country\", \"city\", \"person\", \"person\", \"city\", \"country\"]\n",
    "task_names = [[\"sub_task_1\"]]\n",
    "\n",
    "original_builder = QueryBuilder(\n",
    "    edges=edges,\n",
    "    labels=labels_template,\n",
    "    raw_task_names=task_names,\n",
    "    QG_PRE=BI_14_ORIGINAL_Q_PRE,\n",
    "    LOG_PRE=BI_14_ORIGINAL_L_PRE,\n",
    "    args_starting=bi_14_original_args_starting,\n",
    "    kwargs={},\n",
    ")\n",
    "\n",
    "original_builder.build()"
   ]
  },
  {
   "cell_type": "code",
   "execution_count": 5,
   "metadata": {},
   "outputs": [
    {
     "data": {
      "text/plain": [
       "QueryBuilder {\n",
       "    edges: [(0, 1), (1, 2), (2, 3)],\n",
       "    labels: ['person', 'comment', 'message', 'person'],\n",
       "    raw_task_names: [['comment'], ['post']],\n",
       "    QG_PRE: ./out/original/BI_14,\n",
       "    LOG_PRE: ./log/original/BI_14,\n",
       "    args_starting: ['wsl', './VEQ_M_100k', '-dg', './out/original/data_graph.txt', '-qg'],\n",
       "    replace_indices: [2],\n",
       "    replace_wrapper: <function QueryBuilder.<lambda> at 0x000001777D1FD120>,\n",
       "    kwargs: {'comment': QGMetaRecord(labels=['person', 'comment', 'comment', 'person'], edges=[(0, 1), (1, 2), (2, 3)]), 'post': QGMetaRecord(labels=['person', 'comment', 'post', 'person'], edges=[(0, 1), (1, 2), (2, 3)])},\n",
       "}"
      ]
     },
     "execution_count": 5,
     "metadata": {},
     "output_type": "execute_result"
    }
   ],
   "source": [
    "edges2 = [(0, 1), (1, 2), (2, 3)]\n",
    "labels_template2 = [\"person\", \"comment\", \"message\", \"person\"]\n",
    "task_names2 = [[\"comment\"], [\"post\"]]\n",
    "\n",
    "original_builder2 = QueryBuilder(\n",
    "    edges=edges2,\n",
    "    labels=labels_template2,\n",
    "    raw_task_names=task_names2,\n",
    "    QG_PRE=BI_14_ORIGINAL_Q_PRE,\n",
    "    LOG_PRE=BI_14_ORIGINAL_L_PRE,\n",
    "    args_starting=bi_14_original_args_starting,\n",
    "    kwargs={},\n",
    ")\n",
    "\n",
    "original_builder2.with_replace_indices([2]).build()"
   ]
  },
  {
   "cell_type": "code",
   "execution_count": 6,
   "metadata": {},
   "outputs": [
    {
     "name": "stdout",
     "output_type": "stream",
     "text": [
      "File `./log/original/BI_14/sub_task_1.txt` already exists\n",
      "    lines[-2] ~> Processing Time (ms): 26142.1\n",
      "    lines[-1] ~> Outer Elapsed Time (ms): 47484.3858\n",
      "\n",
      "File `./log/original/BI_14/comment.txt` already exists\n",
      "    lines[-2] ~> Processing Time (ms): 19132.3\n",
      "    lines[-1] ~> Outer Elapsed Time (ms): 32394.6119\n",
      "\n",
      "File `./log/original/BI_14/post.txt` already exists\n",
      "    lines[-2] ~> Processing Time (ms): 8891.63\n",
      "    lines[-1] ~> Outer Elapsed Time (ms): 22713.3127\n",
      "\n"
     ]
    }
   ],
   "source": [
    "\"\"\" exec \"\"\"\n",
    "\n",
    "time_table, outer_time_table = original_builder.run_with_elapsed_time_table_ret()\n",
    "assert len(time_table) == 1 and len(outer_time_table) == 1\n",
    "\n",
    "time_table2, outer_time_table2 = original_builder2.run_with_elapsed_time_table_ret()\n",
    "assert len(time_table2) == 2 and len(outer_time_table2) == 2\n",
    "\n",
    "merged_time_table2 = [time_table2[0] + time_table2[1]]\n",
    "merged_outer_time_table2 = [outer_time_table2[0] + outer_time_table2[1]]"
   ]
  },
  {
   "cell_type": "markdown",
   "metadata": {},
   "source": [
    "## Optimized\n"
   ]
  },
  {
   "cell_type": "code",
   "execution_count": 7,
   "metadata": {},
   "outputs": [
    {
     "data": {
      "text/plain": [
       "QueryBuilder {\n",
       "    edges: [(0, 1), (1, 2), (2, 3)],\n",
       "    labels: ['country', 'person', 'person', 'country'],\n",
       "    raw_task_names: [['sub_task_1']],\n",
       "    QG_PRE: ./out/optimized/BI_14,\n",
       "    LOG_PRE: ./log/optimized/BI_14,\n",
       "    args_starting: ['wsl', './VEQ_M_100k', '-dg', './out/optimized/BI_14/data_graph.txt', '-qg'],\n",
       "    replace_indices: [],\n",
       "    replace_wrapper: <function QueryBuilder.<lambda> at 0x000001777D1FD120>,\n",
       "    kwargs: {'sub_task_1': QGMetaRecord(labels=['country', 'person', 'person', 'country'], edges=[(0, 1), (1, 2), (2, 3)])},\n",
       "}"
      ]
     },
     "execution_count": 7,
     "metadata": {},
     "output_type": "execute_result"
    }
   ],
   "source": [
    "\"\"\" labels & edges \"\"\"\n",
    "\n",
    "edges_optimized: list[tuple[int, int]] = [(0, 1), (1, 2), (2, 3)]\n",
    "labels_template_optimized = [\"country\", \"person\", \"person\", \"country\"]\n",
    "task_names_optimized = task_names\n",
    "\n",
    "optimized_builder = QueryBuilder(\n",
    "    edges=edges_optimized,\n",
    "    labels=labels_template_optimized,\n",
    "    raw_task_names=task_names_optimized,\n",
    "    QG_PRE=BI_14_OPTIMIZED_Q_PRE,\n",
    "    LOG_PRE=BI_14_OPTIMIZED_L_PRE,\n",
    "    args_starting=bi_14_optimized_args_starting,\n",
    "    kwargs={},\n",
    ")\n",
    "\n",
    "optimized_builder.build()"
   ]
  },
  {
   "cell_type": "code",
   "execution_count": 8,
   "metadata": {},
   "outputs": [
    {
     "data": {
      "text/plain": [
       "QueryBuilder {\n",
       "    edges: [(0, 1), (1, 2)],\n",
       "    labels: ['person', 'comment', 'person'],\n",
       "    raw_task_names: [['comment_and_post']],\n",
       "    QG_PRE: ./out/optimized/BI_14,\n",
       "    LOG_PRE: ./log/optimized/BI_14,\n",
       "    args_starting: ['wsl', './VEQ_M_100k', '-dg', './out/optimized/BI_14/data_graph.txt', '-qg'],\n",
       "    replace_indices: [],\n",
       "    replace_wrapper: <function QueryBuilder.<lambda> at 0x000001777D1FD120>,\n",
       "    kwargs: {'comment_and_post': QGMetaRecord(labels=['person', 'comment', 'person'], edges=[(0, 1), (1, 2)])},\n",
       "}"
      ]
     },
     "execution_count": 8,
     "metadata": {},
     "output_type": "execute_result"
    }
   ],
   "source": [
    "edges2_optimized: list[tuple[int, int]] = [(0, 1), (1, 2)]\n",
    "labels_template2_optimized = [\"person\", \"comment\", \"person\"]\n",
    "task_names2_optimized = [[\"comment_and_post\"]]\n",
    "merged_task_names2 = task_names2_optimized\n",
    "\n",
    "optimized_builder2 = QueryBuilder(\n",
    "    edges=edges2_optimized,\n",
    "    labels=labels_template2_optimized,\n",
    "    raw_task_names=task_names2_optimized,\n",
    "    QG_PRE=BI_14_OPTIMIZED_Q_PRE,\n",
    "    LOG_PRE=BI_14_OPTIMIZED_L_PRE,\n",
    "    args_starting=bi_14_optimized_args_starting,\n",
    "    kwargs={},\n",
    ")\n",
    "\n",
    "optimized_builder2.build()"
   ]
  },
  {
   "cell_type": "code",
   "execution_count": 9,
   "metadata": {},
   "outputs": [
    {
     "name": "stdout",
     "output_type": "stream",
     "text": [
      "File `./log/optimized/BI_14/sub_task_1.txt` already exists\n",
      "    lines[-2] ~> Processing Time (ms): 18691.6\n",
      "    lines[-1] ~> Outer Elapsed Time (ms): 33470.9367\n",
      "\n",
      ">>> Running: comment_and_post...\n"
     ]
    },
    {
     "name": "stdout",
     "output_type": "stream",
     "text": [
      "    Data file: ./out/optimized/BI_14/data_graph.txt\n",
      "    Query file: ./out/optimized/BI_14/comment_and_post.txt\n",
      "    Output file: \n",
      "    Sum of |C(u)|: 2012832\n",
      "    Total Recursive Call Count: 120\n",
      "    Number of Matches: 100172\n",
      "    Filtering Time (ms): 5777.89\n",
      "    Verification Time (ms): 206.808\n",
      "    Processing Time (ms): 5984.7\n",
      "<<< Done! (Outer Elapsed Time: 24364.6866 ms)\n"
     ]
    }
   ],
   "source": [
    "\"\"\" exec \"\"\"\n",
    "\n",
    "time_table_optimized, outer_time_table_optimized = (\n",
    "    optimized_builder.run_with_elapsed_time_table_ret()\n",
    ")\n",
    "assert len(time_table_optimized) == 1 and len(outer_time_table_optimized) == 1\n",
    "\n",
    "time_table2_optimized, outer_time_table2_optimized = (\n",
    "    optimized_builder2.run_with_elapsed_time_table_ret()\n",
    ")\n",
    "assert len(time_table2_optimized) == 1 and len(outer_time_table2_optimized) == 1"
   ]
  },
  {
   "cell_type": "code",
   "execution_count": 11,
   "metadata": {},
   "outputs": [
    {
     "name": "stdout",
     "output_type": "stream",
     "text": [
      "Comparison between: `original_match` & `optimized_match`\n"
     ]
    },
    {
     "data": {
      "text/html": [
       "<div><style>\n",
       ".dataframe > thead > tr,\n",
       ".dataframe > tbody > tr {\n",
       "  text-align: right;\n",
       "  white-space: pre-wrap;\n",
       "}\n",
       "</style>\n",
       "<small>shape: (2, 5)</small><table border=\"1\" class=\"dataframe\"><thead><tr><th>task</th><th>original (ms)</th><th>optimized (ms)</th><th>original outer (ms)</th><th>optimized outer (ms)</th></tr><tr><td>list[str]</td><td>f64</td><td>f64</td><td>f64</td><td>f64</td></tr></thead><tbody><tr><td>[&quot;sub_task_1&quot;]</td><td>26142.1</td><td>18691.6</td><td>47484.3858</td><td>33470.9367</td></tr><tr><td>[&quot;comment_and_post&quot;]</td><td>28023.93</td><td>5984.7</td><td>55107.9246</td><td>24364.6866</td></tr></tbody></table></div>"
      ],
      "text/plain": [
       "shape: (2, 5)\n",
       "┌──────────────────────┬───────────────┬────────────────┬─────────────────────┬─────────────────┐\n",
       "│ task                 ┆ original (ms) ┆ optimized (ms) ┆ original outer (ms) ┆ optimized outer │\n",
       "│ ---                  ┆ ---           ┆ ---            ┆ ---                 ┆ (ms)            │\n",
       "│ list[str]            ┆ f64           ┆ f64            ┆ f64                 ┆ ---             │\n",
       "│                      ┆               ┆                ┆                     ┆ f64             │\n",
       "╞══════════════════════╪═══════════════╪════════════════╪═════════════════════╪═════════════════╡\n",
       "│ [\"sub_task_1\"]       ┆ 26142.1       ┆ 18691.6        ┆ 47484.3858          ┆ 33470.9367      │\n",
       "│ [\"comment_and_post\"] ┆ 28023.93      ┆ 5984.7         ┆ 55107.9246          ┆ 24364.6866      │\n",
       "└──────────────────────┴───────────────┴────────────────┴─────────────────────┴─────────────────┘"
      ]
     },
     "execution_count": 11,
     "metadata": {},
     "output_type": "execute_result"
    }
   ],
   "source": [
    "\"\"\" Show `comparison data-frame` \"\"\"\n",
    "\n",
    "print(\"Comparison between: `original_match` & `optimized_match`\")\n",
    "\n",
    "df = pl.DataFrame(\n",
    "    {\n",
    "        \"task\": task_names + merged_task_names2,\n",
    "        \"original (ms)\": time_table + merged_time_table2,\n",
    "        \"optimized (ms)\": time_table_optimized + time_table2_optimized,\n",
    "        \"original outer (ms)\": outer_time_table + merged_outer_time_table2,\n",
    "        \"optimized outer (ms)\": outer_time_table_optimized\n",
    "        + outer_time_table2_optimized,\n",
    "    }\n",
    ")\n",
    "df"
   ]
  }
 ],
 "metadata": {
  "kernelspec": {
   "display_name": "base",
   "language": "python",
   "name": "python3"
  },
  "language_info": {
   "codemirror_mode": {
    "name": "ipython",
    "version": 3
   },
   "file_extension": ".py",
   "mimetype": "text/x-python",
   "name": "python",
   "nbconvert_exporter": "python",
   "pygments_lexer": "ipython3",
   "version": "3.11.4"
  }
 },
 "nbformat": 4,
 "nbformat_minor": 2
}
