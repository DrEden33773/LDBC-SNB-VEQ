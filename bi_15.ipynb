{
 "cells": [
  {
   "cell_type": "markdown",
   "metadata": {},
   "source": [
    "# BI 15\n"
   ]
  },
  {
   "cell_type": "code",
   "execution_count": 1,
   "metadata": {},
   "outputs": [],
   "source": [
    "from dg_builder import *"
   ]
  },
  {
   "cell_type": "code",
   "execution_count": 2,
   "metadata": {},
   "outputs": [
    {
     "name": "stdout",
     "output_type": "stream",
     "text": [
      "File `./out/optimized/BI_15/data_graph.txt` & `./out/original/data_graph.txt` already exists\n"
     ]
    }
   ],
   "source": [
    "\"\"\" build `original data graph` \"\"\"\n",
    "\n",
    "build_original_dg(\n",
    "    original_dg_filepath=BI_15_DG, optimized_dg_filepath=BI_15_DG_OPTIMIZED\n",
    ")"
   ]
  },
  {
   "cell_type": "code",
   "execution_count": 3,
   "metadata": {},
   "outputs": [
    {
     "name": "stdout",
     "output_type": "stream",
     "text": [
      "File `./out/optimized/BI_15/data_graph.txt` already exists\n"
     ]
    }
   ],
   "source": [
    "\"\"\" build `optimized data graph` \"\"\"\n",
    "\n",
    "index_csv_filenames = [\"comment_post_person\"]\n",
    "\n",
    "build_optimized_dg(\n",
    "    optimized_dg_filepath=BI_15_DG_OPTIMIZED,\n",
    "    index_csv_filenames=index_csv_filenames,\n",
    ")"
   ]
  },
  {
   "cell_type": "markdown",
   "metadata": {},
   "source": [
    "## Original\n"
   ]
  },
  {
   "cell_type": "code",
   "execution_count": 4,
   "metadata": {},
   "outputs": [
    {
     "data": {
      "text/plain": [
       "QueryBuilder {\n",
       "    edges: [(0, 1), (1, 2), (2, 3), (3, 0), (4, 1)],\n",
       "    labels: ['comment', 'post', 'person', 'person', 'forum'],\n",
       "    raw_task_names: [['original_query']],\n",
       "    QG_PRE: ./out/original/BI_15,\n",
       "    LOG_PRE: ./log/original/BI_15,\n",
       "    args_starting: ['wsl', './VEQ_M_100k', '-dg', './out/original/data_graph.txt', '-qg'],\n",
       "    replace_indices: [],\n",
       "    replace_wrapper: <function QueryBuilder.<lambda> at 0x000001F6CF80D120>,\n",
       "    kwargs: {'original_query': QGMetaRecord(labels=['comment', 'post', 'person', 'person', 'forum'], edges=[(0, 1), (1, 2), (2, 3), (3, 0), (4, 1)])},\n",
       "}"
      ]
     },
     "execution_count": 4,
     "metadata": {},
     "output_type": "execute_result"
    }
   ],
   "source": [
    "\"\"\" labels & edges \"\"\"\n",
    "\n",
    "edges = [(0, 1), (1, 2), (2, 3), (3, 0), (4, 1)]\n",
    "labels_template = [\"comment\", \"post\", \"person\", \"person\", \"forum\"]\n",
    "task_names = [[\"original_query\"]]\n",
    "\n",
    "original_builder = QueryBuilder(\n",
    "    edges=edges,\n",
    "    labels=labels_template,\n",
    "    raw_task_names=task_names,\n",
    "    QG_PRE=BI_15_ORIGINAL_Q_PRE,\n",
    "    LOG_PRE=BI_15_ORIGINAL_L_PRE,\n",
    "    args_starting=bi_15_original_args_starting,\n",
    "    kwargs={},\n",
    ")\n",
    "\n",
    "original_builder.build()"
   ]
  },
  {
   "cell_type": "code",
   "execution_count": 5,
   "metadata": {},
   "outputs": [
    {
     "name": "stdout",
     "output_type": "stream",
     "text": [
      "File `./log/original/BI_15/original_query.txt` already exists\n",
      "    lines[-2] ~> Processing Time (ms): 149667\n",
      "    lines[-1] ~> Outer Elapsed Time (ms): 169862.8985\n",
      "\n"
     ]
    }
   ],
   "source": [
    "\"\"\" exec \"\"\"\n",
    "\n",
    "time_table, outer_time_table = original_builder.run_with_elapsed_time_table_ret()\n",
    "assert len(time_table) == 1 and len(outer_time_table) == 1"
   ]
  },
  {
   "cell_type": "markdown",
   "metadata": {},
   "source": [
    "## Optimized\n"
   ]
  },
  {
   "cell_type": "code",
   "execution_count": 6,
   "metadata": {},
   "outputs": [
    {
     "data": {
      "text/plain": [
       "QueryBuilder {\n",
       "    edges: [(0, 2), (1, 2), (2, 3), (3, 0), (4, 1)],\n",
       "    labels: ['comment', 'post', 'person', 'person', 'forum'],\n",
       "    raw_task_names: [['indexed_query']],\n",
       "    QG_PRE: ./out/optimized/BI_15,\n",
       "    LOG_PRE: ./log/optimized/BI_15,\n",
       "    args_starting: ['wsl', './VEQ_M_100k', '-dg', './out/optimized/BI_15/data_graph.txt', '-qg'],\n",
       "    replace_indices: [],\n",
       "    replace_wrapper: <function QueryBuilder.<lambda> at 0x000001F6CF80D120>,\n",
       "    kwargs: {'indexed_query': QGMetaRecord(labels=['comment', 'post', 'person', 'person', 'forum'], edges=[(0, 2), (1, 2), (2, 3), (3, 0), (4, 1)])},\n",
       "}"
      ]
     },
     "execution_count": 6,
     "metadata": {},
     "output_type": "execute_result"
    }
   ],
   "source": [
    "\"\"\" labels & edges \"\"\"\n",
    "\n",
    "edges_optimized = [(0, 2), (1, 2), (2, 3), (3, 0), (4, 1)]\n",
    "labels_template_optimized = [\"comment\", \"post\", \"person\", \"person\", \"forum\"]\n",
    "task_names_optimized = [[\"indexed_query\"]]\n",
    "\n",
    "optimized_builder = QueryBuilder(\n",
    "    edges=edges_optimized,\n",
    "    labels=labels_template_optimized,\n",
    "    raw_task_names=task_names_optimized,\n",
    "    QG_PRE=BI_15_OPTIMIZED_Q_PRE,\n",
    "    LOG_PRE=BI_15_OPTIMIZED_L_PRE,\n",
    "    args_starting=bi_15_optimized_args_starting,\n",
    "    kwargs={},\n",
    ")\n",
    "\n",
    "optimized_builder.build()"
   ]
  },
  {
   "cell_type": "code",
   "execution_count": 7,
   "metadata": {},
   "outputs": [
    {
     "name": "stdout",
     "output_type": "stream",
     "text": [
      "File `./log/optimized/BI_15/indexed_query.txt` already exists\n",
      "    lines[-2] ~> Processing Time (ms): 19731.6\n",
      "    lines[-1] ~> Outer Elapsed Time (ms): 41391.2968\n",
      "\n"
     ]
    }
   ],
   "source": [
    "\"\"\" exec \"\"\"\n",
    "\n",
    "time_table_optimized, outer_time_table_optimized = (\n",
    "    optimized_builder.run_with_elapsed_time_table_ret()\n",
    ")\n",
    "assert len(time_table_optimized) == 1 and len(outer_time_table_optimized) == 1"
   ]
  },
  {
   "cell_type": "code",
   "execution_count": 8,
   "metadata": {},
   "outputs": [
    {
     "name": "stdout",
     "output_type": "stream",
     "text": [
      "Comparison between: `original_match` & `optimized_match`\n"
     ]
    },
    {
     "data": {
      "text/html": [
       "<div><style>\n",
       ".dataframe > thead > tr,\n",
       ".dataframe > tbody > tr {\n",
       "  text-align: right;\n",
       "  white-space: pre-wrap;\n",
       "}\n",
       "</style>\n",
       "<small>shape: (1, 5)</small><table border=\"1\" class=\"dataframe\"><thead><tr><th>task</th><th>original (ms)</th><th>optimized (ms)</th><th>original outer (ms)</th><th>optimized outer (ms)</th></tr><tr><td>list[str]</td><td>f64</td><td>f64</td><td>f64</td><td>f64</td></tr></thead><tbody><tr><td>[&quot;original_query&quot;]</td><td>149667.0</td><td>19731.6</td><td>169862.8985</td><td>41391.2968</td></tr></tbody></table></div>"
      ],
      "text/plain": [
       "shape: (1, 5)\n",
       "┌────────────────────┬───────────────┬────────────────┬─────────────────────┬──────────────────────┐\n",
       "│ task               ┆ original (ms) ┆ optimized (ms) ┆ original outer (ms) ┆ optimized outer (ms) │\n",
       "│ ---                ┆ ---           ┆ ---            ┆ ---                 ┆ ---                  │\n",
       "│ list[str]          ┆ f64           ┆ f64            ┆ f64                 ┆ f64                  │\n",
       "╞════════════════════╪═══════════════╪════════════════╪═════════════════════╪══════════════════════╡\n",
       "│ [\"original_query\"] ┆ 149667.0      ┆ 19731.6        ┆ 169862.8985         ┆ 41391.2968           │\n",
       "└────────────────────┴───────────────┴────────────────┴─────────────────────┴──────────────────────┘"
      ]
     },
     "execution_count": 8,
     "metadata": {},
     "output_type": "execute_result"
    }
   ],
   "source": [
    "\"\"\" Show `comparison data-frame` \"\"\"\n",
    "\n",
    "print(\"Comparison between: `original_match` & `optimized_match`\")\n",
    "\n",
    "df = pl.DataFrame(\n",
    "    {\n",
    "        \"task\": task_names,\n",
    "        \"original (ms)\": time_table,\n",
    "        \"optimized (ms)\": time_table_optimized,\n",
    "        \"original outer (ms)\": outer_time_table,\n",
    "        \"optimized outer (ms)\": outer_time_table_optimized,\n",
    "    }\n",
    ")\n",
    "df"
   ]
  }
 ],
 "metadata": {
  "kernelspec": {
   "display_name": "base",
   "language": "python",
   "name": "python3"
  },
  "language_info": {
   "codemirror_mode": {
    "name": "ipython",
    "version": 3
   },
   "file_extension": ".py",
   "mimetype": "text/x-python",
   "name": "python",
   "nbconvert_exporter": "python",
   "pygments_lexer": "ipython3",
   "version": "3.11.4"
  }
 },
 "nbformat": 4,
 "nbformat_minor": 2
}
