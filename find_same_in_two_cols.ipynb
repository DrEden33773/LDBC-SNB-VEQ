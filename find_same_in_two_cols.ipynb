{
 "cells": [
  {
   "cell_type": "code",
   "execution_count": 2,
   "metadata": {},
   "outputs": [],
   "source": [
    "import polars as pl"
   ]
  },
  {
   "cell_type": "code",
   "execution_count": 3,
   "metadata": {},
   "outputs": [],
   "source": [
    "person = pl.read_csv(\"./data/raw/person.csv\")\n",
    "personIds = person.select([pl.col(person.columns[0])])"
   ]
  },
  {
   "cell_type": "code",
   "execution_count": 4,
   "metadata": {},
   "outputs": [],
   "source": [
    "bi_10b = pl.read_csv(\"./parameters-sf1/bi-10b.csv\", separator=\"|\")\n",
    "bi_10b_ids = bi_10b.select([pl.col(bi_10b.columns[0])])"
   ]
  },
  {
   "cell_type": "code",
   "execution_count": 5,
   "metadata": {},
   "outputs": [],
   "source": [
    "bi_10a = pl.read_csv(\"./parameters-sf1/bi-10a.csv\", separator=\"|\")\n",
    "bi_10a_ids = bi_10a.select([pl.col(bi_10a.columns[0])])"
   ]
  },
  {
   "cell_type": "code",
   "execution_count": 8,
   "metadata": {},
   "outputs": [
    {
     "data": {
      "text/plain": [
       "{4758, 7861, 2199023259494, 10995116284483}"
      ]
     },
     "execution_count": 8,
     "metadata": {},
     "output_type": "execute_result"
    }
   ],
   "source": [
    "personIdSet = set(personIds.to_pandas()[person.columns[0]])\n",
    "bi_10a_idSet = set(bi_10a_ids.to_pandas()[bi_10a.columns[0]])\n",
    "bi_10b_idSet = set(bi_10b_ids.to_pandas()[bi_10b.columns[0]])\n",
    "\n",
    "\"\"\" \n",
    "1. find the ids: in personIdSet, in bi_10a_idSet\n",
    "\"\"\"\n",
    "ids_in_person_and_bi_10a = personIdSet.intersection(bi_10a_idSet)\n",
    "\n",
    "\"\"\"\n",
    "2. find the ids: in personIdSet, in bi_10b_idSet\n",
    "\"\"\"\n",
    "ids_in_person_and_bi_10b = personIdSet.intersection(bi_10b_idSet)\n",
    "\n",
    "ok_ids = ids_in_person_and_bi_10a.union(ids_in_person_and_bi_10b)"
   ]
  },
  {
   "cell_type": "code",
   "execution_count": 9,
   "metadata": {},
   "outputs": [
    {
     "data": {
      "text/plain": [
       "{10995116284483}"
      ]
     },
     "execution_count": 9,
     "metadata": {},
     "output_type": "execute_result"
    }
   ],
   "source": [
    "ids_in_person_and_bi_10a"
   ]
  },
  {
   "cell_type": "code",
   "execution_count": 10,
   "metadata": {},
   "outputs": [
    {
     "data": {
      "text/plain": [
       "{4758, 7861, 2199023259494}"
      ]
     },
     "execution_count": 10,
     "metadata": {},
     "output_type": "execute_result"
    }
   ],
   "source": [
    "ids_in_person_and_bi_10b"
   ]
  }
 ],
 "metadata": {
  "kernelspec": {
   "display_name": "base",
   "language": "python",
   "name": "python3"
  },
  "language_info": {
   "codemirror_mode": {
    "name": "ipython",
    "version": 3
   },
   "file_extension": ".py",
   "mimetype": "text/x-python",
   "name": "python",
   "nbconvert_exporter": "python",
   "pygments_lexer": "ipython3",
   "version": "3.11.4"
  }
 },
 "nbformat": 4,
 "nbformat_minor": 2
}
